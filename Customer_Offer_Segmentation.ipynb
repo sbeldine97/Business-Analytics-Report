{
  "cells": [
    {
      "cell_type": "markdown",
      "metadata": {
        "id": "view-in-github",
        "colab_type": "text"
      },
      "source": [
        "<a href=\"https://colab.research.google.com/github/sbeldine97/Business-Analytics-Report/blob/main/Customer_Offer_Segmentation.ipynb\" target=\"_parent\"><img src=\"https://colab.research.google.com/assets/colab-badge.svg\" alt=\"Open In Colab\"/></a>"
      ]
    },
    {
      "cell_type": "code",
      "execution_count": null,
      "metadata": {
        "id": "zlq8QuKdfP3V"
      },
      "outputs": [],
      "source": [
        "#Importing the necessary libraries\n",
        "\n",
        "import json\n",
        "import pandas as pd\n",
        "import seaborn as sns\n",
        "import matplotlib.pyplot as plt\n",
        "from datetime import datetime\n",
        "from google.colab import drive\n",
        "custom_colors = ['#512455', '#FC6700', '#00A1B1', '#939199', '#843A1A']\n"
      ]
    },
    {
      "cell_type": "code",
      "execution_count": null,
      "metadata": {
        "colab": {
          "base_uri": "https://localhost:8080/"
        },
        "id": "3So5pCPudA2k",
        "outputId": "2623d6d9-f5f4-4054-c1a8-788d3d76c7db"
      },
      "outputs": [
        {
          "name": "stdout",
          "output_type": "stream",
          "text": [
            "Drive already mounted at /content/drive; to attempt to forcibly remount, call drive.mount(\"/content/drive\", force_remount=True).\n"
          ]
        }
      ],
      "source": [
        "# Mounting Google Drive\n",
        "drive.mount('/content/drive')"
      ]
    },
    {
      "cell_type": "markdown",
      "metadata": {
        "id": "dT2qwNMjVHgt"
      },
      "source": [
        "### Loading the datasets provided"
      ]
    },
    {
      "cell_type": "code",
      "execution_count": null,
      "metadata": {
        "id": "L_eeudvYVGJ1"
      },
      "outputs": [],
      "source": [
        "#Portfolio dataset\n",
        "file_path = '/content/drive/MyDrive/Business Analytics Report/portfolio.json'\n",
        "# Initializing an empty list to store individual JSON objects\n",
        "json_objects = []\n",
        "# Reading the JSON file line by line and load each line as a JSON object\n",
        "with open(file_path, 'r') as json_file:\n",
        "    for line in json_file:\n",
        "        try:\n",
        "            json_data = json.loads(line)\n",
        "            json_objects.append(json_data)\n",
        "        except json.JSONDecodeError as e:\n",
        "            print(f\"Error decoding JSON: {e}\")\n",
        "\n",
        "# Converting the list of JSON objects into a DataFrame\n",
        "portfolio = pd.DataFrame(json_objects)"
      ]
    },
    {
      "cell_type": "code",
      "execution_count": null,
      "metadata": {
        "id": "pcZKXJguB7gb"
      },
      "outputs": [],
      "source": [
        "#Loading the profile dataset\n",
        "file_path = '/content/drive/MyDrive/Business Analytics Report/profile.json'\n",
        "# Initializing an empty list to store individual JSON objects\n",
        "json_objects = []\n",
        "# Reading the JSON file line by line and load each line as a JSON object\n",
        "with open(file_path, 'r') as json_file:\n",
        "    for line in json_file:\n",
        "        try:\n",
        "            json_data = json.loads(line)\n",
        "            json_objects.append(json_data)\n",
        "        except json.JSONDecodeError as e:\n",
        "            print(f\"Error decoding JSON: {e}\")\n",
        "\n",
        "# Converting the list of JSON objects into a DataFrame\n",
        "profile = pd.DataFrame(json_objects)\n"
      ]
    },
    {
      "cell_type": "code",
      "execution_count": null,
      "metadata": {
        "id": "pDbFNppwBQSv"
      },
      "outputs": [],
      "source": [
        "#Loading the transactions dataset\n",
        "\n",
        "file_path = '/content/drive/MyDrive/Business Analytics Report/transcript.json'\n",
        "\n",
        "# Initializing an empty list to store individual JSON objects\n",
        "json_objects = []\n",
        "\n",
        "# Reading the JSON file line by line and load each line as a JSON object\n",
        "with open(file_path, 'r') as json_file:\n",
        "    for line in json_file:\n",
        "        try:\n",
        "            json_data = json.loads(line)\n",
        "            json_objects.append(json_data)\n",
        "        except json.JSONDecodeError as e:\n",
        "            print(f\"Error decoding JSON: {e}\")\n",
        "\n",
        "# Converting the list of JSON objects into a DataFrame\n",
        "transaction = pd.DataFrame(json_objects)\n"
      ]
    },
    {
      "cell_type": "code",
      "execution_count": null,
      "metadata": {
        "colab": {
          "base_uri": "https://localhost:8080/",
          "height": 206
        },
        "id": "0Xbrdzc-g8A4",
        "outputId": "d90c9930-e2eb-48ab-cf68-5fccbf10ec52"
      },
      "outputs": [
        {
          "data": {
            "text/html": [
              "\n",
              "  <div id=\"df-bfcd03c9-fced-4276-9bd6-beea78f4e4f4\" class=\"colab-df-container\">\n",
              "    <div>\n",
              "<style scoped>\n",
              "    .dataframe tbody tr th:only-of-type {\n",
              "        vertical-align: middle;\n",
              "    }\n",
              "\n",
              "    .dataframe tbody tr th {\n",
              "        vertical-align: top;\n",
              "    }\n",
              "\n",
              "    .dataframe thead th {\n",
              "        text-align: right;\n",
              "    }\n",
              "</style>\n",
              "<table border=\"1\" class=\"dataframe\">\n",
              "  <thead>\n",
              "    <tr style=\"text-align: right;\">\n",
              "      <th></th>\n",
              "      <th>reward</th>\n",
              "      <th>channels</th>\n",
              "      <th>difficulty</th>\n",
              "      <th>duration</th>\n",
              "      <th>offer_type</th>\n",
              "      <th>id</th>\n",
              "    </tr>\n",
              "  </thead>\n",
              "  <tbody>\n",
              "    <tr>\n",
              "      <th>0</th>\n",
              "      <td>10</td>\n",
              "      <td>[email, mobile, social]</td>\n",
              "      <td>10</td>\n",
              "      <td>7.0</td>\n",
              "      <td>bogo</td>\n",
              "      <td>ae264e3637204a6fb9bb56bc8210ddfd</td>\n",
              "    </tr>\n",
              "    <tr>\n",
              "      <th>1</th>\n",
              "      <td>10</td>\n",
              "      <td>[web, email, mobile, social]</td>\n",
              "      <td>10</td>\n",
              "      <td>5.0</td>\n",
              "      <td>bogo</td>\n",
              "      <td>4d5c57ea9a6940dd891ad53e9dbe8da0</td>\n",
              "    </tr>\n",
              "    <tr>\n",
              "      <th>2</th>\n",
              "      <td>0</td>\n",
              "      <td>[web, email, mobile]</td>\n",
              "      <td>0</td>\n",
              "      <td>4.0</td>\n",
              "      <td>informational</td>\n",
              "      <td>3f207df678b143eea3cee63160fa8bed</td>\n",
              "    </tr>\n",
              "    <tr>\n",
              "      <th>3</th>\n",
              "      <td>5</td>\n",
              "      <td>[web, email, mobile]</td>\n",
              "      <td>5</td>\n",
              "      <td>7.0</td>\n",
              "      <td>bogo</td>\n",
              "      <td>9b98b8c7a33c4b65b9aebfe6a799e6d9</td>\n",
              "    </tr>\n",
              "    <tr>\n",
              "      <th>4</th>\n",
              "      <td>5</td>\n",
              "      <td>[web, email]</td>\n",
              "      <td>20</td>\n",
              "      <td>10.0</td>\n",
              "      <td>discount</td>\n",
              "      <td>0b1e1539f2cc45b7b9fa7c272da2e1d7</td>\n",
              "    </tr>\n",
              "  </tbody>\n",
              "</table>\n",
              "</div>\n",
              "    <div class=\"colab-df-buttons\">\n",
              "\n",
              "  <div class=\"colab-df-container\">\n",
              "    <button class=\"colab-df-convert\" onclick=\"convertToInteractive('df-bfcd03c9-fced-4276-9bd6-beea78f4e4f4')\"\n",
              "            title=\"Convert this dataframe to an interactive table.\"\n",
              "            style=\"display:none;\">\n",
              "\n",
              "  <svg xmlns=\"http://www.w3.org/2000/svg\" height=\"24px\" viewBox=\"0 -960 960 960\">\n",
              "    <path d=\"M120-120v-720h720v720H120Zm60-500h600v-160H180v160Zm220 220h160v-160H400v160Zm0 220h160v-160H400v160ZM180-400h160v-160H180v160Zm440 0h160v-160H620v160ZM180-180h160v-160H180v160Zm440 0h160v-160H620v160Z\"/>\n",
              "  </svg>\n",
              "    </button>\n",
              "\n",
              "  <style>\n",
              "    .colab-df-container {\n",
              "      display:flex;\n",
              "      gap: 12px;\n",
              "    }\n",
              "\n",
              "    .colab-df-convert {\n",
              "      background-color: #E8F0FE;\n",
              "      border: none;\n",
              "      border-radius: 50%;\n",
              "      cursor: pointer;\n",
              "      display: none;\n",
              "      fill: #1967D2;\n",
              "      height: 32px;\n",
              "      padding: 0 0 0 0;\n",
              "      width: 32px;\n",
              "    }\n",
              "\n",
              "    .colab-df-convert:hover {\n",
              "      background-color: #E2EBFA;\n",
              "      box-shadow: 0px 1px 2px rgba(60, 64, 67, 0.3), 0px 1px 3px 1px rgba(60, 64, 67, 0.15);\n",
              "      fill: #174EA6;\n",
              "    }\n",
              "\n",
              "    .colab-df-buttons div {\n",
              "      margin-bottom: 4px;\n",
              "    }\n",
              "\n",
              "    [theme=dark] .colab-df-convert {\n",
              "      background-color: #3B4455;\n",
              "      fill: #D2E3FC;\n",
              "    }\n",
              "\n",
              "    [theme=dark] .colab-df-convert:hover {\n",
              "      background-color: #434B5C;\n",
              "      box-shadow: 0px 1px 3px 1px rgba(0, 0, 0, 0.15);\n",
              "      filter: drop-shadow(0px 1px 2px rgba(0, 0, 0, 0.3));\n",
              "      fill: #FFFFFF;\n",
              "    }\n",
              "  </style>\n",
              "\n",
              "    <script>\n",
              "      const buttonEl =\n",
              "        document.querySelector('#df-bfcd03c9-fced-4276-9bd6-beea78f4e4f4 button.colab-df-convert');\n",
              "      buttonEl.style.display =\n",
              "        google.colab.kernel.accessAllowed ? 'block' : 'none';\n",
              "\n",
              "      async function convertToInteractive(key) {\n",
              "        const element = document.querySelector('#df-bfcd03c9-fced-4276-9bd6-beea78f4e4f4');\n",
              "        const dataTable =\n",
              "          await google.colab.kernel.invokeFunction('convertToInteractive',\n",
              "                                                    [key], {});\n",
              "        if (!dataTable) return;\n",
              "\n",
              "        const docLinkHtml = 'Like what you see? Visit the ' +\n",
              "          '<a target=\"_blank\" href=https://colab.research.google.com/notebooks/data_table.ipynb>data table notebook</a>'\n",
              "          + ' to learn more about interactive tables.';\n",
              "        element.innerHTML = '';\n",
              "        dataTable['output_type'] = 'display_data';\n",
              "        await google.colab.output.renderOutput(dataTable, element);\n",
              "        const docLink = document.createElement('div');\n",
              "        docLink.innerHTML = docLinkHtml;\n",
              "        element.appendChild(docLink);\n",
              "      }\n",
              "    </script>\n",
              "  </div>\n",
              "\n",
              "\n",
              "<div id=\"df-50425efd-7086-4176-ba26-26f93bcc3e97\">\n",
              "  <button class=\"colab-df-quickchart\" onclick=\"quickchart('df-50425efd-7086-4176-ba26-26f93bcc3e97')\"\n",
              "            title=\"Suggest charts\"\n",
              "            style=\"display:none;\">\n",
              "\n",
              "<svg xmlns=\"http://www.w3.org/2000/svg\" height=\"24px\"viewBox=\"0 0 24 24\"\n",
              "     width=\"24px\">\n",
              "    <g>\n",
              "        <path d=\"M19 3H5c-1.1 0-2 .9-2 2v14c0 1.1.9 2 2 2h14c1.1 0 2-.9 2-2V5c0-1.1-.9-2-2-2zM9 17H7v-7h2v7zm4 0h-2V7h2v10zm4 0h-2v-4h2v4z\"/>\n",
              "    </g>\n",
              "</svg>\n",
              "  </button>\n",
              "\n",
              "<style>\n",
              "  .colab-df-quickchart {\n",
              "      --bg-color: #E8F0FE;\n",
              "      --fill-color: #1967D2;\n",
              "      --hover-bg-color: #E2EBFA;\n",
              "      --hover-fill-color: #174EA6;\n",
              "      --disabled-fill-color: #AAA;\n",
              "      --disabled-bg-color: #DDD;\n",
              "  }\n",
              "\n",
              "  [theme=dark] .colab-df-quickchart {\n",
              "      --bg-color: #3B4455;\n",
              "      --fill-color: #D2E3FC;\n",
              "      --hover-bg-color: #434B5C;\n",
              "      --hover-fill-color: #FFFFFF;\n",
              "      --disabled-bg-color: #3B4455;\n",
              "      --disabled-fill-color: #666;\n",
              "  }\n",
              "\n",
              "  .colab-df-quickchart {\n",
              "    background-color: var(--bg-color);\n",
              "    border: none;\n",
              "    border-radius: 50%;\n",
              "    cursor: pointer;\n",
              "    display: none;\n",
              "    fill: var(--fill-color);\n",
              "    height: 32px;\n",
              "    padding: 0;\n",
              "    width: 32px;\n",
              "  }\n",
              "\n",
              "  .colab-df-quickchart:hover {\n",
              "    background-color: var(--hover-bg-color);\n",
              "    box-shadow: 0 1px 2px rgba(60, 64, 67, 0.3), 0 1px 3px 1px rgba(60, 64, 67, 0.15);\n",
              "    fill: var(--button-hover-fill-color);\n",
              "  }\n",
              "\n",
              "  .colab-df-quickchart-complete:disabled,\n",
              "  .colab-df-quickchart-complete:disabled:hover {\n",
              "    background-color: var(--disabled-bg-color);\n",
              "    fill: var(--disabled-fill-color);\n",
              "    box-shadow: none;\n",
              "  }\n",
              "\n",
              "  .colab-df-spinner {\n",
              "    border: 2px solid var(--fill-color);\n",
              "    border-color: transparent;\n",
              "    border-bottom-color: var(--fill-color);\n",
              "    animation:\n",
              "      spin 1s steps(1) infinite;\n",
              "  }\n",
              "\n",
              "  @keyframes spin {\n",
              "    0% {\n",
              "      border-color: transparent;\n",
              "      border-bottom-color: var(--fill-color);\n",
              "      border-left-color: var(--fill-color);\n",
              "    }\n",
              "    20% {\n",
              "      border-color: transparent;\n",
              "      border-left-color: var(--fill-color);\n",
              "      border-top-color: var(--fill-color);\n",
              "    }\n",
              "    30% {\n",
              "      border-color: transparent;\n",
              "      border-left-color: var(--fill-color);\n",
              "      border-top-color: var(--fill-color);\n",
              "      border-right-color: var(--fill-color);\n",
              "    }\n",
              "    40% {\n",
              "      border-color: transparent;\n",
              "      border-right-color: var(--fill-color);\n",
              "      border-top-color: var(--fill-color);\n",
              "    }\n",
              "    60% {\n",
              "      border-color: transparent;\n",
              "      border-right-color: var(--fill-color);\n",
              "    }\n",
              "    80% {\n",
              "      border-color: transparent;\n",
              "      border-right-color: var(--fill-color);\n",
              "      border-bottom-color: var(--fill-color);\n",
              "    }\n",
              "    90% {\n",
              "      border-color: transparent;\n",
              "      border-bottom-color: var(--fill-color);\n",
              "    }\n",
              "  }\n",
              "</style>\n",
              "\n",
              "  <script>\n",
              "    async function quickchart(key) {\n",
              "      const quickchartButtonEl =\n",
              "        document.querySelector('#' + key + ' button');\n",
              "      quickchartButtonEl.disabled = true;  // To prevent multiple clicks.\n",
              "      quickchartButtonEl.classList.add('colab-df-spinner');\n",
              "      try {\n",
              "        const charts = await google.colab.kernel.invokeFunction(\n",
              "            'suggestCharts', [key], {});\n",
              "      } catch (error) {\n",
              "        console.error('Error during call to suggestCharts:', error);\n",
              "      }\n",
              "      quickchartButtonEl.classList.remove('colab-df-spinner');\n",
              "      quickchartButtonEl.classList.add('colab-df-quickchart-complete');\n",
              "    }\n",
              "    (() => {\n",
              "      let quickchartButtonEl =\n",
              "        document.querySelector('#df-50425efd-7086-4176-ba26-26f93bcc3e97 button');\n",
              "      quickchartButtonEl.style.display =\n",
              "        google.colab.kernel.accessAllowed ? 'block' : 'none';\n",
              "    })();\n",
              "  </script>\n",
              "</div>\n",
              "    </div>\n",
              "  </div>\n"
            ],
            "text/plain": [
              "   reward                      channels  difficulty  duration     offer_type  \\\n",
              "0      10       [email, mobile, social]          10       7.0           bogo   \n",
              "1      10  [web, email, mobile, social]          10       5.0           bogo   \n",
              "2       0          [web, email, mobile]           0       4.0  informational   \n",
              "3       5          [web, email, mobile]           5       7.0           bogo   \n",
              "4       5                  [web, email]          20      10.0       discount   \n",
              "\n",
              "                                 id  \n",
              "0  ae264e3637204a6fb9bb56bc8210ddfd  \n",
              "1  4d5c57ea9a6940dd891ad53e9dbe8da0  \n",
              "2  3f207df678b143eea3cee63160fa8bed  \n",
              "3  9b98b8c7a33c4b65b9aebfe6a799e6d9  \n",
              "4  0b1e1539f2cc45b7b9fa7c272da2e1d7  "
            ]
          },
          "execution_count": 26,
          "metadata": {},
          "output_type": "execute_result"
        }
      ],
      "source": [
        "portfolio.head()"
      ]
    },
    {
      "cell_type": "code",
      "execution_count": null,
      "metadata": {
        "colab": {
          "base_uri": "https://localhost:8080/",
          "height": 206
        },
        "id": "cOHUx7Iul7I_",
        "outputId": "eec048ef-0661-424c-82bf-ff9aaffce941"
      },
      "outputs": [
        {
          "data": {
            "text/html": [
              "\n",
              "  <div id=\"df-eeb71727-c18b-469b-b98f-5ed1b48c7a42\" class=\"colab-df-container\">\n",
              "    <div>\n",
              "<style scoped>\n",
              "    .dataframe tbody tr th:only-of-type {\n",
              "        vertical-align: middle;\n",
              "    }\n",
              "\n",
              "    .dataframe tbody tr th {\n",
              "        vertical-align: top;\n",
              "    }\n",
              "\n",
              "    .dataframe thead th {\n",
              "        text-align: right;\n",
              "    }\n",
              "</style>\n",
              "<table border=\"1\" class=\"dataframe\">\n",
              "  <thead>\n",
              "    <tr style=\"text-align: right;\">\n",
              "      <th></th>\n",
              "      <th>reward</th>\n",
              "      <th>channels</th>\n",
              "      <th>difficulty</th>\n",
              "      <th>duration</th>\n",
              "      <th>offer_type</th>\n",
              "      <th>id</th>\n",
              "    </tr>\n",
              "  </thead>\n",
              "  <tbody>\n",
              "    <tr>\n",
              "      <th>0</th>\n",
              "      <td>10</td>\n",
              "      <td>[email, mobile, social]</td>\n",
              "      <td>10</td>\n",
              "      <td>7.0</td>\n",
              "      <td>bogo</td>\n",
              "      <td>ae264e3637204a6fb9bb56bc8210ddfd</td>\n",
              "    </tr>\n",
              "    <tr>\n",
              "      <th>1</th>\n",
              "      <td>10</td>\n",
              "      <td>[web, email, mobile, social]</td>\n",
              "      <td>10</td>\n",
              "      <td>5.0</td>\n",
              "      <td>bogo</td>\n",
              "      <td>4d5c57ea9a6940dd891ad53e9dbe8da0</td>\n",
              "    </tr>\n",
              "    <tr>\n",
              "      <th>2</th>\n",
              "      <td>0</td>\n",
              "      <td>[web, email, mobile]</td>\n",
              "      <td>0</td>\n",
              "      <td>4.0</td>\n",
              "      <td>informational</td>\n",
              "      <td>3f207df678b143eea3cee63160fa8bed</td>\n",
              "    </tr>\n",
              "    <tr>\n",
              "      <th>3</th>\n",
              "      <td>5</td>\n",
              "      <td>[web, email, mobile]</td>\n",
              "      <td>5</td>\n",
              "      <td>7.0</td>\n",
              "      <td>bogo</td>\n",
              "      <td>9b98b8c7a33c4b65b9aebfe6a799e6d9</td>\n",
              "    </tr>\n",
              "    <tr>\n",
              "      <th>4</th>\n",
              "      <td>5</td>\n",
              "      <td>[web, email]</td>\n",
              "      <td>20</td>\n",
              "      <td>10.0</td>\n",
              "      <td>discount</td>\n",
              "      <td>0b1e1539f2cc45b7b9fa7c272da2e1d7</td>\n",
              "    </tr>\n",
              "  </tbody>\n",
              "</table>\n",
              "</div>\n",
              "    <div class=\"colab-df-buttons\">\n",
              "\n",
              "  <div class=\"colab-df-container\">\n",
              "    <button class=\"colab-df-convert\" onclick=\"convertToInteractive('df-eeb71727-c18b-469b-b98f-5ed1b48c7a42')\"\n",
              "            title=\"Convert this dataframe to an interactive table.\"\n",
              "            style=\"display:none;\">\n",
              "\n",
              "  <svg xmlns=\"http://www.w3.org/2000/svg\" height=\"24px\" viewBox=\"0 -960 960 960\">\n",
              "    <path d=\"M120-120v-720h720v720H120Zm60-500h600v-160H180v160Zm220 220h160v-160H400v160Zm0 220h160v-160H400v160ZM180-400h160v-160H180v160Zm440 0h160v-160H620v160ZM180-180h160v-160H180v160Zm440 0h160v-160H620v160Z\"/>\n",
              "  </svg>\n",
              "    </button>\n",
              "\n",
              "  <style>\n",
              "    .colab-df-container {\n",
              "      display:flex;\n",
              "      gap: 12px;\n",
              "    }\n",
              "\n",
              "    .colab-df-convert {\n",
              "      background-color: #E8F0FE;\n",
              "      border: none;\n",
              "      border-radius: 50%;\n",
              "      cursor: pointer;\n",
              "      display: none;\n",
              "      fill: #1967D2;\n",
              "      height: 32px;\n",
              "      padding: 0 0 0 0;\n",
              "      width: 32px;\n",
              "    }\n",
              "\n",
              "    .colab-df-convert:hover {\n",
              "      background-color: #E2EBFA;\n",
              "      box-shadow: 0px 1px 2px rgba(60, 64, 67, 0.3), 0px 1px 3px 1px rgba(60, 64, 67, 0.15);\n",
              "      fill: #174EA6;\n",
              "    }\n",
              "\n",
              "    .colab-df-buttons div {\n",
              "      margin-bottom: 4px;\n",
              "    }\n",
              "\n",
              "    [theme=dark] .colab-df-convert {\n",
              "      background-color: #3B4455;\n",
              "      fill: #D2E3FC;\n",
              "    }\n",
              "\n",
              "    [theme=dark] .colab-df-convert:hover {\n",
              "      background-color: #434B5C;\n",
              "      box-shadow: 0px 1px 3px 1px rgba(0, 0, 0, 0.15);\n",
              "      filter: drop-shadow(0px 1px 2px rgba(0, 0, 0, 0.3));\n",
              "      fill: #FFFFFF;\n",
              "    }\n",
              "  </style>\n",
              "\n",
              "    <script>\n",
              "      const buttonEl =\n",
              "        document.querySelector('#df-eeb71727-c18b-469b-b98f-5ed1b48c7a42 button.colab-df-convert');\n",
              "      buttonEl.style.display =\n",
              "        google.colab.kernel.accessAllowed ? 'block' : 'none';\n",
              "\n",
              "      async function convertToInteractive(key) {\n",
              "        const element = document.querySelector('#df-eeb71727-c18b-469b-b98f-5ed1b48c7a42');\n",
              "        const dataTable =\n",
              "          await google.colab.kernel.invokeFunction('convertToInteractive',\n",
              "                                                    [key], {});\n",
              "        if (!dataTable) return;\n",
              "\n",
              "        const docLinkHtml = 'Like what you see? Visit the ' +\n",
              "          '<a target=\"_blank\" href=https://colab.research.google.com/notebooks/data_table.ipynb>data table notebook</a>'\n",
              "          + ' to learn more about interactive tables.';\n",
              "        element.innerHTML = '';\n",
              "        dataTable['output_type'] = 'display_data';\n",
              "        await google.colab.output.renderOutput(dataTable, element);\n",
              "        const docLink = document.createElement('div');\n",
              "        docLink.innerHTML = docLinkHtml;\n",
              "        element.appendChild(docLink);\n",
              "      }\n",
              "    </script>\n",
              "  </div>\n",
              "\n",
              "\n",
              "<div id=\"df-3472f65c-8dbe-435f-85a3-d61a5c08e2cb\">\n",
              "  <button class=\"colab-df-quickchart\" onclick=\"quickchart('df-3472f65c-8dbe-435f-85a3-d61a5c08e2cb')\"\n",
              "            title=\"Suggest charts\"\n",
              "            style=\"display:none;\">\n",
              "\n",
              "<svg xmlns=\"http://www.w3.org/2000/svg\" height=\"24px\"viewBox=\"0 0 24 24\"\n",
              "     width=\"24px\">\n",
              "    <g>\n",
              "        <path d=\"M19 3H5c-1.1 0-2 .9-2 2v14c0 1.1.9 2 2 2h14c1.1 0 2-.9 2-2V5c0-1.1-.9-2-2-2zM9 17H7v-7h2v7zm4 0h-2V7h2v10zm4 0h-2v-4h2v4z\"/>\n",
              "    </g>\n",
              "</svg>\n",
              "  </button>\n",
              "\n",
              "<style>\n",
              "  .colab-df-quickchart {\n",
              "      --bg-color: #E8F0FE;\n",
              "      --fill-color: #1967D2;\n",
              "      --hover-bg-color: #E2EBFA;\n",
              "      --hover-fill-color: #174EA6;\n",
              "      --disabled-fill-color: #AAA;\n",
              "      --disabled-bg-color: #DDD;\n",
              "  }\n",
              "\n",
              "  [theme=dark] .colab-df-quickchart {\n",
              "      --bg-color: #3B4455;\n",
              "      --fill-color: #D2E3FC;\n",
              "      --hover-bg-color: #434B5C;\n",
              "      --hover-fill-color: #FFFFFF;\n",
              "      --disabled-bg-color: #3B4455;\n",
              "      --disabled-fill-color: #666;\n",
              "  }\n",
              "\n",
              "  .colab-df-quickchart {\n",
              "    background-color: var(--bg-color);\n",
              "    border: none;\n",
              "    border-radius: 50%;\n",
              "    cursor: pointer;\n",
              "    display: none;\n",
              "    fill: var(--fill-color);\n",
              "    height: 32px;\n",
              "    padding: 0;\n",
              "    width: 32px;\n",
              "  }\n",
              "\n",
              "  .colab-df-quickchart:hover {\n",
              "    background-color: var(--hover-bg-color);\n",
              "    box-shadow: 0 1px 2px rgba(60, 64, 67, 0.3), 0 1px 3px 1px rgba(60, 64, 67, 0.15);\n",
              "    fill: var(--button-hover-fill-color);\n",
              "  }\n",
              "\n",
              "  .colab-df-quickchart-complete:disabled,\n",
              "  .colab-df-quickchart-complete:disabled:hover {\n",
              "    background-color: var(--disabled-bg-color);\n",
              "    fill: var(--disabled-fill-color);\n",
              "    box-shadow: none;\n",
              "  }\n",
              "\n",
              "  .colab-df-spinner {\n",
              "    border: 2px solid var(--fill-color);\n",
              "    border-color: transparent;\n",
              "    border-bottom-color: var(--fill-color);\n",
              "    animation:\n",
              "      spin 1s steps(1) infinite;\n",
              "  }\n",
              "\n",
              "  @keyframes spin {\n",
              "    0% {\n",
              "      border-color: transparent;\n",
              "      border-bottom-color: var(--fill-color);\n",
              "      border-left-color: var(--fill-color);\n",
              "    }\n",
              "    20% {\n",
              "      border-color: transparent;\n",
              "      border-left-color: var(--fill-color);\n",
              "      border-top-color: var(--fill-color);\n",
              "    }\n",
              "    30% {\n",
              "      border-color: transparent;\n",
              "      border-left-color: var(--fill-color);\n",
              "      border-top-color: var(--fill-color);\n",
              "      border-right-color: var(--fill-color);\n",
              "    }\n",
              "    40% {\n",
              "      border-color: transparent;\n",
              "      border-right-color: var(--fill-color);\n",
              "      border-top-color: var(--fill-color);\n",
              "    }\n",
              "    60% {\n",
              "      border-color: transparent;\n",
              "      border-right-color: var(--fill-color);\n",
              "    }\n",
              "    80% {\n",
              "      border-color: transparent;\n",
              "      border-right-color: var(--fill-color);\n",
              "      border-bottom-color: var(--fill-color);\n",
              "    }\n",
              "    90% {\n",
              "      border-color: transparent;\n",
              "      border-bottom-color: var(--fill-color);\n",
              "    }\n",
              "  }\n",
              "</style>\n",
              "\n",
              "  <script>\n",
              "    async function quickchart(key) {\n",
              "      const quickchartButtonEl =\n",
              "        document.querySelector('#' + key + ' button');\n",
              "      quickchartButtonEl.disabled = true;  // To prevent multiple clicks.\n",
              "      quickchartButtonEl.classList.add('colab-df-spinner');\n",
              "      try {\n",
              "        const charts = await google.colab.kernel.invokeFunction(\n",
              "            'suggestCharts', [key], {});\n",
              "      } catch (error) {\n",
              "        console.error('Error during call to suggestCharts:', error);\n",
              "      }\n",
              "      quickchartButtonEl.classList.remove('colab-df-spinner');\n",
              "      quickchartButtonEl.classList.add('colab-df-quickchart-complete');\n",
              "    }\n",
              "    (() => {\n",
              "      let quickchartButtonEl =\n",
              "        document.querySelector('#df-3472f65c-8dbe-435f-85a3-d61a5c08e2cb button');\n",
              "      quickchartButtonEl.style.display =\n",
              "        google.colab.kernel.accessAllowed ? 'block' : 'none';\n",
              "    })();\n",
              "  </script>\n",
              "</div>\n",
              "    </div>\n",
              "  </div>\n"
            ],
            "text/plain": [
              "   reward                      channels  difficulty  duration     offer_type  \\\n",
              "0      10       [email, mobile, social]          10       7.0           bogo   \n",
              "1      10  [web, email, mobile, social]          10       5.0           bogo   \n",
              "2       0          [web, email, mobile]           0       4.0  informational   \n",
              "3       5          [web, email, mobile]           5       7.0           bogo   \n",
              "4       5                  [web, email]          20      10.0       discount   \n",
              "\n",
              "                                 id  \n",
              "0  ae264e3637204a6fb9bb56bc8210ddfd  \n",
              "1  4d5c57ea9a6940dd891ad53e9dbe8da0  \n",
              "2  3f207df678b143eea3cee63160fa8bed  \n",
              "3  9b98b8c7a33c4b65b9aebfe6a799e6d9  \n",
              "4  0b1e1539f2cc45b7b9fa7c272da2e1d7  "
            ]
          },
          "execution_count": 28,
          "metadata": {},
          "output_type": "execute_result"
        }
      ],
      "source": [
        "portfolio.head()"
      ]
    },
    {
      "cell_type": "code",
      "execution_count": null,
      "metadata": {
        "id": "2NYlZYgUXGX0"
      },
      "outputs": [],
      "source": []
    },
    {
      "cell_type": "code",
      "execution_count": null,
      "metadata": {
        "colab": {
          "base_uri": "https://localhost:8080/"
        },
        "id": "iwDuR4220HoD",
        "outputId": "48bb2524-8508-472d-c5eb-95abe0945183"
      },
      "outputs": [
        {
          "data": {
            "text/plain": [
              "array(['bogo', 'informational', 'discount'], dtype=object)"
            ]
          },
          "execution_count": 32,
          "metadata": {},
          "output_type": "execute_result"
        }
      ],
      "source": [
        "# Looking into the types of offers available\n",
        "portfolio['offer_type'].unique()"
      ]
    },
    {
      "cell_type": "code",
      "execution_count": null,
      "metadata": {
        "colab": {
          "base_uri": "https://localhost:8080/"
        },
        "id": "EUTysMb6l_eW",
        "outputId": "d989c4bf-f8e1-4b04-b8a2-20ae1b14a853"
      },
      "outputs": [
        {
          "data": {
            "text/plain": [
              "(10, 6)"
            ]
          },
          "execution_count": 29,
          "metadata": {},
          "output_type": "execute_result"
        }
      ],
      "source": [
        "portfolio.shape"
      ]
    },
    {
      "cell_type": "code",
      "execution_count": null,
      "metadata": {
        "colab": {
          "base_uri": "https://localhost:8080/"
        },
        "id": "EoPwI3xQmExV",
        "outputId": "1b32089b-08f8-43e7-98c9-cf7325645f86"
      },
      "outputs": [
        {
          "name": "stdout",
          "output_type": "stream",
          "text": [
            "<class 'pandas.core.frame.DataFrame'>\n",
            "RangeIndex: 10 entries, 0 to 9\n",
            "Data columns (total 6 columns):\n",
            " #   Column      Non-Null Count  Dtype  \n",
            "---  ------      --------------  -----  \n",
            " 0   reward      10 non-null     int64  \n",
            " 1   channels    10 non-null     object \n",
            " 2   difficulty  10 non-null     int64  \n",
            " 3   duration    10 non-null     float64\n",
            " 4   offer_type  10 non-null     object \n",
            " 5   id          10 non-null     object \n",
            "dtypes: float64(1), int64(2), object(3)\n",
            "memory usage: 608.0+ bytes\n"
          ]
        }
      ],
      "source": [
        "portfolio.info()"
      ]
    },
    {
      "cell_type": "code",
      "execution_count": null,
      "metadata": {
        "colab": {
          "base_uri": "https://localhost:8080/",
          "height": 300
        },
        "id": "XnmShr500lIK",
        "outputId": "b72ca7ce-1683-4f0f-ab58-9fd1d6811074"
      },
      "outputs": [
        {
          "data": {
            "text/html": [
              "\n",
              "  <div id=\"df-8b2a8f52-504f-4bc5-93fa-2ad44e18e547\" class=\"colab-df-container\">\n",
              "    <div>\n",
              "<style scoped>\n",
              "    .dataframe tbody tr th:only-of-type {\n",
              "        vertical-align: middle;\n",
              "    }\n",
              "\n",
              "    .dataframe tbody tr th {\n",
              "        vertical-align: top;\n",
              "    }\n",
              "\n",
              "    .dataframe thead th {\n",
              "        text-align: right;\n",
              "    }\n",
              "</style>\n",
              "<table border=\"1\" class=\"dataframe\">\n",
              "  <thead>\n",
              "    <tr style=\"text-align: right;\">\n",
              "      <th></th>\n",
              "      <th>reward</th>\n",
              "      <th>difficulty</th>\n",
              "      <th>duration</th>\n",
              "    </tr>\n",
              "  </thead>\n",
              "  <tbody>\n",
              "    <tr>\n",
              "      <th>count</th>\n",
              "      <td>10.000000</td>\n",
              "      <td>10.000000</td>\n",
              "      <td>10.000000</td>\n",
              "    </tr>\n",
              "    <tr>\n",
              "      <th>mean</th>\n",
              "      <td>4.200000</td>\n",
              "      <td>7.700000</td>\n",
              "      <td>6.500000</td>\n",
              "    </tr>\n",
              "    <tr>\n",
              "      <th>std</th>\n",
              "      <td>3.583915</td>\n",
              "      <td>5.831905</td>\n",
              "      <td>2.321398</td>\n",
              "    </tr>\n",
              "    <tr>\n",
              "      <th>min</th>\n",
              "      <td>0.000000</td>\n",
              "      <td>0.000000</td>\n",
              "      <td>3.000000</td>\n",
              "    </tr>\n",
              "    <tr>\n",
              "      <th>25%</th>\n",
              "      <td>2.000000</td>\n",
              "      <td>5.000000</td>\n",
              "      <td>5.000000</td>\n",
              "    </tr>\n",
              "    <tr>\n",
              "      <th>50%</th>\n",
              "      <td>4.000000</td>\n",
              "      <td>8.500000</td>\n",
              "      <td>7.000000</td>\n",
              "    </tr>\n",
              "    <tr>\n",
              "      <th>75%</th>\n",
              "      <td>5.000000</td>\n",
              "      <td>10.000000</td>\n",
              "      <td>7.000000</td>\n",
              "    </tr>\n",
              "    <tr>\n",
              "      <th>max</th>\n",
              "      <td>10.000000</td>\n",
              "      <td>20.000000</td>\n",
              "      <td>10.000000</td>\n",
              "    </tr>\n",
              "  </tbody>\n",
              "</table>\n",
              "</div>\n",
              "    <div class=\"colab-df-buttons\">\n",
              "\n",
              "  <div class=\"colab-df-container\">\n",
              "    <button class=\"colab-df-convert\" onclick=\"convertToInteractive('df-8b2a8f52-504f-4bc5-93fa-2ad44e18e547')\"\n",
              "            title=\"Convert this dataframe to an interactive table.\"\n",
              "            style=\"display:none;\">\n",
              "\n",
              "  <svg xmlns=\"http://www.w3.org/2000/svg\" height=\"24px\" viewBox=\"0 -960 960 960\">\n",
              "    <path d=\"M120-120v-720h720v720H120Zm60-500h600v-160H180v160Zm220 220h160v-160H400v160Zm0 220h160v-160H400v160ZM180-400h160v-160H180v160Zm440 0h160v-160H620v160ZM180-180h160v-160H180v160Zm440 0h160v-160H620v160Z\"/>\n",
              "  </svg>\n",
              "    </button>\n",
              "\n",
              "  <style>\n",
              "    .colab-df-container {\n",
              "      display:flex;\n",
              "      gap: 12px;\n",
              "    }\n",
              "\n",
              "    .colab-df-convert {\n",
              "      background-color: #E8F0FE;\n",
              "      border: none;\n",
              "      border-radius: 50%;\n",
              "      cursor: pointer;\n",
              "      display: none;\n",
              "      fill: #1967D2;\n",
              "      height: 32px;\n",
              "      padding: 0 0 0 0;\n",
              "      width: 32px;\n",
              "    }\n",
              "\n",
              "    .colab-df-convert:hover {\n",
              "      background-color: #E2EBFA;\n",
              "      box-shadow: 0px 1px 2px rgba(60, 64, 67, 0.3), 0px 1px 3px 1px rgba(60, 64, 67, 0.15);\n",
              "      fill: #174EA6;\n",
              "    }\n",
              "\n",
              "    .colab-df-buttons div {\n",
              "      margin-bottom: 4px;\n",
              "    }\n",
              "\n",
              "    [theme=dark] .colab-df-convert {\n",
              "      background-color: #3B4455;\n",
              "      fill: #D2E3FC;\n",
              "    }\n",
              "\n",
              "    [theme=dark] .colab-df-convert:hover {\n",
              "      background-color: #434B5C;\n",
              "      box-shadow: 0px 1px 3px 1px rgba(0, 0, 0, 0.15);\n",
              "      filter: drop-shadow(0px 1px 2px rgba(0, 0, 0, 0.3));\n",
              "      fill: #FFFFFF;\n",
              "    }\n",
              "  </style>\n",
              "\n",
              "    <script>\n",
              "      const buttonEl =\n",
              "        document.querySelector('#df-8b2a8f52-504f-4bc5-93fa-2ad44e18e547 button.colab-df-convert');\n",
              "      buttonEl.style.display =\n",
              "        google.colab.kernel.accessAllowed ? 'block' : 'none';\n",
              "\n",
              "      async function convertToInteractive(key) {\n",
              "        const element = document.querySelector('#df-8b2a8f52-504f-4bc5-93fa-2ad44e18e547');\n",
              "        const dataTable =\n",
              "          await google.colab.kernel.invokeFunction('convertToInteractive',\n",
              "                                                    [key], {});\n",
              "        if (!dataTable) return;\n",
              "\n",
              "        const docLinkHtml = 'Like what you see? Visit the ' +\n",
              "          '<a target=\"_blank\" href=https://colab.research.google.com/notebooks/data_table.ipynb>data table notebook</a>'\n",
              "          + ' to learn more about interactive tables.';\n",
              "        element.innerHTML = '';\n",
              "        dataTable['output_type'] = 'display_data';\n",
              "        await google.colab.output.renderOutput(dataTable, element);\n",
              "        const docLink = document.createElement('div');\n",
              "        docLink.innerHTML = docLinkHtml;\n",
              "        element.appendChild(docLink);\n",
              "      }\n",
              "    </script>\n",
              "  </div>\n",
              "\n",
              "\n",
              "<div id=\"df-5f8743e7-7c6f-4f8c-bde5-7c5724ac4795\">\n",
              "  <button class=\"colab-df-quickchart\" onclick=\"quickchart('df-5f8743e7-7c6f-4f8c-bde5-7c5724ac4795')\"\n",
              "            title=\"Suggest charts\"\n",
              "            style=\"display:none;\">\n",
              "\n",
              "<svg xmlns=\"http://www.w3.org/2000/svg\" height=\"24px\"viewBox=\"0 0 24 24\"\n",
              "     width=\"24px\">\n",
              "    <g>\n",
              "        <path d=\"M19 3H5c-1.1 0-2 .9-2 2v14c0 1.1.9 2 2 2h14c1.1 0 2-.9 2-2V5c0-1.1-.9-2-2-2zM9 17H7v-7h2v7zm4 0h-2V7h2v10zm4 0h-2v-4h2v4z\"/>\n",
              "    </g>\n",
              "</svg>\n",
              "  </button>\n",
              "\n",
              "<style>\n",
              "  .colab-df-quickchart {\n",
              "      --bg-color: #E8F0FE;\n",
              "      --fill-color: #1967D2;\n",
              "      --hover-bg-color: #E2EBFA;\n",
              "      --hover-fill-color: #174EA6;\n",
              "      --disabled-fill-color: #AAA;\n",
              "      --disabled-bg-color: #DDD;\n",
              "  }\n",
              "\n",
              "  [theme=dark] .colab-df-quickchart {\n",
              "      --bg-color: #3B4455;\n",
              "      --fill-color: #D2E3FC;\n",
              "      --hover-bg-color: #434B5C;\n",
              "      --hover-fill-color: #FFFFFF;\n",
              "      --disabled-bg-color: #3B4455;\n",
              "      --disabled-fill-color: #666;\n",
              "  }\n",
              "\n",
              "  .colab-df-quickchart {\n",
              "    background-color: var(--bg-color);\n",
              "    border: none;\n",
              "    border-radius: 50%;\n",
              "    cursor: pointer;\n",
              "    display: none;\n",
              "    fill: var(--fill-color);\n",
              "    height: 32px;\n",
              "    padding: 0;\n",
              "    width: 32px;\n",
              "  }\n",
              "\n",
              "  .colab-df-quickchart:hover {\n",
              "    background-color: var(--hover-bg-color);\n",
              "    box-shadow: 0 1px 2px rgba(60, 64, 67, 0.3), 0 1px 3px 1px rgba(60, 64, 67, 0.15);\n",
              "    fill: var(--button-hover-fill-color);\n",
              "  }\n",
              "\n",
              "  .colab-df-quickchart-complete:disabled,\n",
              "  .colab-df-quickchart-complete:disabled:hover {\n",
              "    background-color: var(--disabled-bg-color);\n",
              "    fill: var(--disabled-fill-color);\n",
              "    box-shadow: none;\n",
              "  }\n",
              "\n",
              "  .colab-df-spinner {\n",
              "    border: 2px solid var(--fill-color);\n",
              "    border-color: transparent;\n",
              "    border-bottom-color: var(--fill-color);\n",
              "    animation:\n",
              "      spin 1s steps(1) infinite;\n",
              "  }\n",
              "\n",
              "  @keyframes spin {\n",
              "    0% {\n",
              "      border-color: transparent;\n",
              "      border-bottom-color: var(--fill-color);\n",
              "      border-left-color: var(--fill-color);\n",
              "    }\n",
              "    20% {\n",
              "      border-color: transparent;\n",
              "      border-left-color: var(--fill-color);\n",
              "      border-top-color: var(--fill-color);\n",
              "    }\n",
              "    30% {\n",
              "      border-color: transparent;\n",
              "      border-left-color: var(--fill-color);\n",
              "      border-top-color: var(--fill-color);\n",
              "      border-right-color: var(--fill-color);\n",
              "    }\n",
              "    40% {\n",
              "      border-color: transparent;\n",
              "      border-right-color: var(--fill-color);\n",
              "      border-top-color: var(--fill-color);\n",
              "    }\n",
              "    60% {\n",
              "      border-color: transparent;\n",
              "      border-right-color: var(--fill-color);\n",
              "    }\n",
              "    80% {\n",
              "      border-color: transparent;\n",
              "      border-right-color: var(--fill-color);\n",
              "      border-bottom-color: var(--fill-color);\n",
              "    }\n",
              "    90% {\n",
              "      border-color: transparent;\n",
              "      border-bottom-color: var(--fill-color);\n",
              "    }\n",
              "  }\n",
              "</style>\n",
              "\n",
              "  <script>\n",
              "    async function quickchart(key) {\n",
              "      const quickchartButtonEl =\n",
              "        document.querySelector('#' + key + ' button');\n",
              "      quickchartButtonEl.disabled = true;  // To prevent multiple clicks.\n",
              "      quickchartButtonEl.classList.add('colab-df-spinner');\n",
              "      try {\n",
              "        const charts = await google.colab.kernel.invokeFunction(\n",
              "            'suggestCharts', [key], {});\n",
              "      } catch (error) {\n",
              "        console.error('Error during call to suggestCharts:', error);\n",
              "      }\n",
              "      quickchartButtonEl.classList.remove('colab-df-spinner');\n",
              "      quickchartButtonEl.classList.add('colab-df-quickchart-complete');\n",
              "    }\n",
              "    (() => {\n",
              "      let quickchartButtonEl =\n",
              "        document.querySelector('#df-5f8743e7-7c6f-4f8c-bde5-7c5724ac4795 button');\n",
              "      quickchartButtonEl.style.display =\n",
              "        google.colab.kernel.accessAllowed ? 'block' : 'none';\n",
              "    })();\n",
              "  </script>\n",
              "</div>\n",
              "    </div>\n",
              "  </div>\n"
            ],
            "text/plain": [
              "          reward  difficulty   duration\n",
              "count  10.000000   10.000000  10.000000\n",
              "mean    4.200000    7.700000   6.500000\n",
              "std     3.583915    5.831905   2.321398\n",
              "min     0.000000    0.000000   3.000000\n",
              "25%     2.000000    5.000000   5.000000\n",
              "50%     4.000000    8.500000   7.000000\n",
              "75%     5.000000   10.000000   7.000000\n",
              "max    10.000000   20.000000  10.000000"
            ]
          },
          "execution_count": 33,
          "metadata": {},
          "output_type": "execute_result"
        }
      ],
      "source": [
        "#Looking into the spread of the numerical data\n",
        "\n",
        "portfolio.describe()"
      ]
    },
    {
      "cell_type": "code",
      "execution_count": null,
      "metadata": {
        "colab": {
          "base_uri": "https://localhost:8080/",
          "height": 143
        },
        "id": "oKLAZ5rMArHb",
        "outputId": "644cf67e-e7d8-4762-86e3-0d1189799f87"
      },
      "outputs": [
        {
          "data": {
            "text/html": [
              "\n",
              "  <div id=\"df-66aa2344-6204-4251-8ab4-0cdb9251733f\" class=\"colab-df-container\">\n",
              "    <div>\n",
              "<style scoped>\n",
              "    .dataframe tbody tr th:only-of-type {\n",
              "        vertical-align: middle;\n",
              "    }\n",
              "\n",
              "    .dataframe tbody tr th {\n",
              "        vertical-align: top;\n",
              "    }\n",
              "\n",
              "    .dataframe thead th {\n",
              "        text-align: right;\n",
              "    }\n",
              "</style>\n",
              "<table border=\"1\" class=\"dataframe\">\n",
              "  <thead>\n",
              "    <tr style=\"text-align: right;\">\n",
              "      <th></th>\n",
              "      <th>reward</th>\n",
              "      <th>difficulty</th>\n",
              "      <th>duration</th>\n",
              "      <th>offer_type</th>\n",
              "      <th>id</th>\n",
              "      <th>channel_email</th>\n",
              "      <th>channel_mobile</th>\n",
              "      <th>channel_social</th>\n",
              "      <th>channel_web</th>\n",
              "    </tr>\n",
              "  </thead>\n",
              "  <tbody>\n",
              "    <tr>\n",
              "      <th>0</th>\n",
              "      <td>10</td>\n",
              "      <td>10</td>\n",
              "      <td>7.0</td>\n",
              "      <td>bogo</td>\n",
              "      <td>ae264e3637204a6fb9bb56bc8210ddfd</td>\n",
              "      <td>1</td>\n",
              "      <td>1</td>\n",
              "      <td>1</td>\n",
              "      <td>0</td>\n",
              "    </tr>\n",
              "    <tr>\n",
              "      <th>1</th>\n",
              "      <td>10</td>\n",
              "      <td>10</td>\n",
              "      <td>5.0</td>\n",
              "      <td>bogo</td>\n",
              "      <td>4d5c57ea9a6940dd891ad53e9dbe8da0</td>\n",
              "      <td>1</td>\n",
              "      <td>1</td>\n",
              "      <td>1</td>\n",
              "      <td>1</td>\n",
              "    </tr>\n",
              "    <tr>\n",
              "      <th>2</th>\n",
              "      <td>0</td>\n",
              "      <td>0</td>\n",
              "      <td>4.0</td>\n",
              "      <td>informational</td>\n",
              "      <td>3f207df678b143eea3cee63160fa8bed</td>\n",
              "      <td>1</td>\n",
              "      <td>1</td>\n",
              "      <td>0</td>\n",
              "      <td>1</td>\n",
              "    </tr>\n",
              "  </tbody>\n",
              "</table>\n",
              "</div>\n",
              "    <div class=\"colab-df-buttons\">\n",
              "\n",
              "  <div class=\"colab-df-container\">\n",
              "    <button class=\"colab-df-convert\" onclick=\"convertToInteractive('df-66aa2344-6204-4251-8ab4-0cdb9251733f')\"\n",
              "            title=\"Convert this dataframe to an interactive table.\"\n",
              "            style=\"display:none;\">\n",
              "\n",
              "  <svg xmlns=\"http://www.w3.org/2000/svg\" height=\"24px\" viewBox=\"0 -960 960 960\">\n",
              "    <path d=\"M120-120v-720h720v720H120Zm60-500h600v-160H180v160Zm220 220h160v-160H400v160Zm0 220h160v-160H400v160ZM180-400h160v-160H180v160Zm440 0h160v-160H620v160ZM180-180h160v-160H180v160Zm440 0h160v-160H620v160Z\"/>\n",
              "  </svg>\n",
              "    </button>\n",
              "\n",
              "  <style>\n",
              "    .colab-df-container {\n",
              "      display:flex;\n",
              "      gap: 12px;\n",
              "    }\n",
              "\n",
              "    .colab-df-convert {\n",
              "      background-color: #E8F0FE;\n",
              "      border: none;\n",
              "      border-radius: 50%;\n",
              "      cursor: pointer;\n",
              "      display: none;\n",
              "      fill: #1967D2;\n",
              "      height: 32px;\n",
              "      padding: 0 0 0 0;\n",
              "      width: 32px;\n",
              "    }\n",
              "\n",
              "    .colab-df-convert:hover {\n",
              "      background-color: #E2EBFA;\n",
              "      box-shadow: 0px 1px 2px rgba(60, 64, 67, 0.3), 0px 1px 3px 1px rgba(60, 64, 67, 0.15);\n",
              "      fill: #174EA6;\n",
              "    }\n",
              "\n",
              "    .colab-df-buttons div {\n",
              "      margin-bottom: 4px;\n",
              "    }\n",
              "\n",
              "    [theme=dark] .colab-df-convert {\n",
              "      background-color: #3B4455;\n",
              "      fill: #D2E3FC;\n",
              "    }\n",
              "\n",
              "    [theme=dark] .colab-df-convert:hover {\n",
              "      background-color: #434B5C;\n",
              "      box-shadow: 0px 1px 3px 1px rgba(0, 0, 0, 0.15);\n",
              "      filter: drop-shadow(0px 1px 2px rgba(0, 0, 0, 0.3));\n",
              "      fill: #FFFFFF;\n",
              "    }\n",
              "  </style>\n",
              "\n",
              "    <script>\n",
              "      const buttonEl =\n",
              "        document.querySelector('#df-66aa2344-6204-4251-8ab4-0cdb9251733f button.colab-df-convert');\n",
              "      buttonEl.style.display =\n",
              "        google.colab.kernel.accessAllowed ? 'block' : 'none';\n",
              "\n",
              "      async function convertToInteractive(key) {\n",
              "        const element = document.querySelector('#df-66aa2344-6204-4251-8ab4-0cdb9251733f');\n",
              "        const dataTable =\n",
              "          await google.colab.kernel.invokeFunction('convertToInteractive',\n",
              "                                                    [key], {});\n",
              "        if (!dataTable) return;\n",
              "\n",
              "        const docLinkHtml = 'Like what you see? Visit the ' +\n",
              "          '<a target=\"_blank\" href=https://colab.research.google.com/notebooks/data_table.ipynb>data table notebook</a>'\n",
              "          + ' to learn more about interactive tables.';\n",
              "        element.innerHTML = '';\n",
              "        dataTable['output_type'] = 'display_data';\n",
              "        await google.colab.output.renderOutput(dataTable, element);\n",
              "        const docLink = document.createElement('div');\n",
              "        docLink.innerHTML = docLinkHtml;\n",
              "        element.appendChild(docLink);\n",
              "      }\n",
              "    </script>\n",
              "  </div>\n",
              "\n",
              "\n",
              "<div id=\"df-96b3f5d4-46ef-4ef5-818a-bfe4391fccf2\">\n",
              "  <button class=\"colab-df-quickchart\" onclick=\"quickchart('df-96b3f5d4-46ef-4ef5-818a-bfe4391fccf2')\"\n",
              "            title=\"Suggest charts\"\n",
              "            style=\"display:none;\">\n",
              "\n",
              "<svg xmlns=\"http://www.w3.org/2000/svg\" height=\"24px\"viewBox=\"0 0 24 24\"\n",
              "     width=\"24px\">\n",
              "    <g>\n",
              "        <path d=\"M19 3H5c-1.1 0-2 .9-2 2v14c0 1.1.9 2 2 2h14c1.1 0 2-.9 2-2V5c0-1.1-.9-2-2-2zM9 17H7v-7h2v7zm4 0h-2V7h2v10zm4 0h-2v-4h2v4z\"/>\n",
              "    </g>\n",
              "</svg>\n",
              "  </button>\n",
              "\n",
              "<style>\n",
              "  .colab-df-quickchart {\n",
              "      --bg-color: #E8F0FE;\n",
              "      --fill-color: #1967D2;\n",
              "      --hover-bg-color: #E2EBFA;\n",
              "      --hover-fill-color: #174EA6;\n",
              "      --disabled-fill-color: #AAA;\n",
              "      --disabled-bg-color: #DDD;\n",
              "  }\n",
              "\n",
              "  [theme=dark] .colab-df-quickchart {\n",
              "      --bg-color: #3B4455;\n",
              "      --fill-color: #D2E3FC;\n",
              "      --hover-bg-color: #434B5C;\n",
              "      --hover-fill-color: #FFFFFF;\n",
              "      --disabled-bg-color: #3B4455;\n",
              "      --disabled-fill-color: #666;\n",
              "  }\n",
              "\n",
              "  .colab-df-quickchart {\n",
              "    background-color: var(--bg-color);\n",
              "    border: none;\n",
              "    border-radius: 50%;\n",
              "    cursor: pointer;\n",
              "    display: none;\n",
              "    fill: var(--fill-color);\n",
              "    height: 32px;\n",
              "    padding: 0;\n",
              "    width: 32px;\n",
              "  }\n",
              "\n",
              "  .colab-df-quickchart:hover {\n",
              "    background-color: var(--hover-bg-color);\n",
              "    box-shadow: 0 1px 2px rgba(60, 64, 67, 0.3), 0 1px 3px 1px rgba(60, 64, 67, 0.15);\n",
              "    fill: var(--button-hover-fill-color);\n",
              "  }\n",
              "\n",
              "  .colab-df-quickchart-complete:disabled,\n",
              "  .colab-df-quickchart-complete:disabled:hover {\n",
              "    background-color: var(--disabled-bg-color);\n",
              "    fill: var(--disabled-fill-color);\n",
              "    box-shadow: none;\n",
              "  }\n",
              "\n",
              "  .colab-df-spinner {\n",
              "    border: 2px solid var(--fill-color);\n",
              "    border-color: transparent;\n",
              "    border-bottom-color: var(--fill-color);\n",
              "    animation:\n",
              "      spin 1s steps(1) infinite;\n",
              "  }\n",
              "\n",
              "  @keyframes spin {\n",
              "    0% {\n",
              "      border-color: transparent;\n",
              "      border-bottom-color: var(--fill-color);\n",
              "      border-left-color: var(--fill-color);\n",
              "    }\n",
              "    20% {\n",
              "      border-color: transparent;\n",
              "      border-left-color: var(--fill-color);\n",
              "      border-top-color: var(--fill-color);\n",
              "    }\n",
              "    30% {\n",
              "      border-color: transparent;\n",
              "      border-left-color: var(--fill-color);\n",
              "      border-top-color: var(--fill-color);\n",
              "      border-right-color: var(--fill-color);\n",
              "    }\n",
              "    40% {\n",
              "      border-color: transparent;\n",
              "      border-right-color: var(--fill-color);\n",
              "      border-top-color: var(--fill-color);\n",
              "    }\n",
              "    60% {\n",
              "      border-color: transparent;\n",
              "      border-right-color: var(--fill-color);\n",
              "    }\n",
              "    80% {\n",
              "      border-color: transparent;\n",
              "      border-right-color: var(--fill-color);\n",
              "      border-bottom-color: var(--fill-color);\n",
              "    }\n",
              "    90% {\n",
              "      border-color: transparent;\n",
              "      border-bottom-color: var(--fill-color);\n",
              "    }\n",
              "  }\n",
              "</style>\n",
              "\n",
              "  <script>\n",
              "    async function quickchart(key) {\n",
              "      const quickchartButtonEl =\n",
              "        document.querySelector('#' + key + ' button');\n",
              "      quickchartButtonEl.disabled = true;  // To prevent multiple clicks.\n",
              "      quickchartButtonEl.classList.add('colab-df-spinner');\n",
              "      try {\n",
              "        const charts = await google.colab.kernel.invokeFunction(\n",
              "            'suggestCharts', [key], {});\n",
              "      } catch (error) {\n",
              "        console.error('Error during call to suggestCharts:', error);\n",
              "      }\n",
              "      quickchartButtonEl.classList.remove('colab-df-spinner');\n",
              "      quickchartButtonEl.classList.add('colab-df-quickchart-complete');\n",
              "    }\n",
              "    (() => {\n",
              "      let quickchartButtonEl =\n",
              "        document.querySelector('#df-96b3f5d4-46ef-4ef5-818a-bfe4391fccf2 button');\n",
              "      quickchartButtonEl.style.display =\n",
              "        google.colab.kernel.accessAllowed ? 'block' : 'none';\n",
              "    })();\n",
              "  </script>\n",
              "</div>\n",
              "    </div>\n",
              "  </div>\n"
            ],
            "text/plain": [
              "   reward  difficulty  duration     offer_type  \\\n",
              "0      10          10       7.0           bogo   \n",
              "1      10          10       5.0           bogo   \n",
              "2       0           0       4.0  informational   \n",
              "\n",
              "                                 id  channel_email  channel_mobile  \\\n",
              "0  ae264e3637204a6fb9bb56bc8210ddfd              1               1   \n",
              "1  4d5c57ea9a6940dd891ad53e9dbe8da0              1               1   \n",
              "2  3f207df678b143eea3cee63160fa8bed              1               1   \n",
              "\n",
              "   channel_social  channel_web  \n",
              "0               1            0  \n",
              "1               1            1  \n",
              "2               0            1  "
            ]
          },
          "execution_count": 34,
          "metadata": {},
          "output_type": "execute_result"
        }
      ],
      "source": [
        "portfolio = portfolio.join(portfolio.channels.str.join('|').str.get_dummies()).drop('channels', axis=1)\n",
        "\n",
        "for column in [\"email\", \"mobile\", \"social\", \"web\"]:\n",
        "    portfolio = portfolio.rename(columns={column: (\"channel_\" + column)})\n",
        "\n",
        "portfolio.head(3)"
      ]
    },
    {
      "cell_type": "code",
      "execution_count": null,
      "metadata": {
        "colab": {
          "base_uri": "https://localhost:8080/",
          "height": 383
        },
        "id": "yoNmLU31YdMt",
        "outputId": "7873ba53-e3c1-4470-fa39-7613cb0c2b1f"
      },
      "outputs": [
        {
          "data": {
            "text/html": [
              "\n",
              "  <div id=\"df-19df936d-d8a5-454f-942d-bd9a11b663fc\" class=\"colab-df-container\">\n",
              "    <div>\n",
              "<style scoped>\n",
              "    .dataframe tbody tr th:only-of-type {\n",
              "        vertical-align: middle;\n",
              "    }\n",
              "\n",
              "    .dataframe tbody tr th {\n",
              "        vertical-align: top;\n",
              "    }\n",
              "\n",
              "    .dataframe thead th {\n",
              "        text-align: right;\n",
              "    }\n",
              "</style>\n",
              "<table border=\"1\" class=\"dataframe\">\n",
              "  <thead>\n",
              "    <tr style=\"text-align: right;\">\n",
              "      <th></th>\n",
              "      <th>reward</th>\n",
              "      <th>difficulty</th>\n",
              "      <th>duration</th>\n",
              "      <th>offer_type</th>\n",
              "      <th>id</th>\n",
              "      <th>channel_email</th>\n",
              "      <th>channel_mobile</th>\n",
              "      <th>channel_social</th>\n",
              "      <th>channel_web</th>\n",
              "      <th>duration_hrs</th>\n",
              "    </tr>\n",
              "  </thead>\n",
              "  <tbody>\n",
              "    <tr>\n",
              "      <th>0</th>\n",
              "      <td>10</td>\n",
              "      <td>10</td>\n",
              "      <td>7.0</td>\n",
              "      <td>bogo</td>\n",
              "      <td>ae264e3637204a6fb9bb56bc8210ddfd</td>\n",
              "      <td>1</td>\n",
              "      <td>1</td>\n",
              "      <td>1</td>\n",
              "      <td>0</td>\n",
              "      <td>168.0</td>\n",
              "    </tr>\n",
              "    <tr>\n",
              "      <th>1</th>\n",
              "      <td>10</td>\n",
              "      <td>10</td>\n",
              "      <td>5.0</td>\n",
              "      <td>bogo</td>\n",
              "      <td>4d5c57ea9a6940dd891ad53e9dbe8da0</td>\n",
              "      <td>1</td>\n",
              "      <td>1</td>\n",
              "      <td>1</td>\n",
              "      <td>1</td>\n",
              "      <td>120.0</td>\n",
              "    </tr>\n",
              "    <tr>\n",
              "      <th>2</th>\n",
              "      <td>0</td>\n",
              "      <td>0</td>\n",
              "      <td>4.0</td>\n",
              "      <td>informational</td>\n",
              "      <td>3f207df678b143eea3cee63160fa8bed</td>\n",
              "      <td>1</td>\n",
              "      <td>1</td>\n",
              "      <td>0</td>\n",
              "      <td>1</td>\n",
              "      <td>96.0</td>\n",
              "    </tr>\n",
              "    <tr>\n",
              "      <th>3</th>\n",
              "      <td>5</td>\n",
              "      <td>5</td>\n",
              "      <td>7.0</td>\n",
              "      <td>bogo</td>\n",
              "      <td>9b98b8c7a33c4b65b9aebfe6a799e6d9</td>\n",
              "      <td>1</td>\n",
              "      <td>1</td>\n",
              "      <td>0</td>\n",
              "      <td>1</td>\n",
              "      <td>168.0</td>\n",
              "    </tr>\n",
              "    <tr>\n",
              "      <th>4</th>\n",
              "      <td>5</td>\n",
              "      <td>20</td>\n",
              "      <td>10.0</td>\n",
              "      <td>discount</td>\n",
              "      <td>0b1e1539f2cc45b7b9fa7c272da2e1d7</td>\n",
              "      <td>1</td>\n",
              "      <td>0</td>\n",
              "      <td>0</td>\n",
              "      <td>1</td>\n",
              "      <td>240.0</td>\n",
              "    </tr>\n",
              "    <tr>\n",
              "      <th>5</th>\n",
              "      <td>3</td>\n",
              "      <td>7</td>\n",
              "      <td>7.0</td>\n",
              "      <td>discount</td>\n",
              "      <td>2298d6c36e964ae4a3e7e9706d1fb8c2</td>\n",
              "      <td>1</td>\n",
              "      <td>1</td>\n",
              "      <td>1</td>\n",
              "      <td>1</td>\n",
              "      <td>168.0</td>\n",
              "    </tr>\n",
              "    <tr>\n",
              "      <th>6</th>\n",
              "      <td>2</td>\n",
              "      <td>10</td>\n",
              "      <td>10.0</td>\n",
              "      <td>discount</td>\n",
              "      <td>fafdcd668e3743c1bb461111dcafc2a4</td>\n",
              "      <td>1</td>\n",
              "      <td>1</td>\n",
              "      <td>1</td>\n",
              "      <td>1</td>\n",
              "      <td>240.0</td>\n",
              "    </tr>\n",
              "    <tr>\n",
              "      <th>7</th>\n",
              "      <td>0</td>\n",
              "      <td>0</td>\n",
              "      <td>3.0</td>\n",
              "      <td>informational</td>\n",
              "      <td>5a8bc65990b245e5a138643cd4eb9837</td>\n",
              "      <td>1</td>\n",
              "      <td>1</td>\n",
              "      <td>1</td>\n",
              "      <td>0</td>\n",
              "      <td>72.0</td>\n",
              "    </tr>\n",
              "    <tr>\n",
              "      <th>8</th>\n",
              "      <td>5</td>\n",
              "      <td>5</td>\n",
              "      <td>5.0</td>\n",
              "      <td>bogo</td>\n",
              "      <td>f19421c1d4aa40978ebb69ca19b0e20d</td>\n",
              "      <td>1</td>\n",
              "      <td>1</td>\n",
              "      <td>1</td>\n",
              "      <td>1</td>\n",
              "      <td>120.0</td>\n",
              "    </tr>\n",
              "    <tr>\n",
              "      <th>9</th>\n",
              "      <td>2</td>\n",
              "      <td>10</td>\n",
              "      <td>7.0</td>\n",
              "      <td>discount</td>\n",
              "      <td>2906b810c7d4411798c6938adc9daaa5</td>\n",
              "      <td>1</td>\n",
              "      <td>1</td>\n",
              "      <td>0</td>\n",
              "      <td>1</td>\n",
              "      <td>168.0</td>\n",
              "    </tr>\n",
              "  </tbody>\n",
              "</table>\n",
              "</div>\n",
              "    <div class=\"colab-df-buttons\">\n",
              "\n",
              "  <div class=\"colab-df-container\">\n",
              "    <button class=\"colab-df-convert\" onclick=\"convertToInteractive('df-19df936d-d8a5-454f-942d-bd9a11b663fc')\"\n",
              "            title=\"Convert this dataframe to an interactive table.\"\n",
              "            style=\"display:none;\">\n",
              "\n",
              "  <svg xmlns=\"http://www.w3.org/2000/svg\" height=\"24px\" viewBox=\"0 -960 960 960\">\n",
              "    <path d=\"M120-120v-720h720v720H120Zm60-500h600v-160H180v160Zm220 220h160v-160H400v160Zm0 220h160v-160H400v160ZM180-400h160v-160H180v160Zm440 0h160v-160H620v160ZM180-180h160v-160H180v160Zm440 0h160v-160H620v160Z\"/>\n",
              "  </svg>\n",
              "    </button>\n",
              "\n",
              "  <style>\n",
              "    .colab-df-container {\n",
              "      display:flex;\n",
              "      gap: 12px;\n",
              "    }\n",
              "\n",
              "    .colab-df-convert {\n",
              "      background-color: #E8F0FE;\n",
              "      border: none;\n",
              "      border-radius: 50%;\n",
              "      cursor: pointer;\n",
              "      display: none;\n",
              "      fill: #1967D2;\n",
              "      height: 32px;\n",
              "      padding: 0 0 0 0;\n",
              "      width: 32px;\n",
              "    }\n",
              "\n",
              "    .colab-df-convert:hover {\n",
              "      background-color: #E2EBFA;\n",
              "      box-shadow: 0px 1px 2px rgba(60, 64, 67, 0.3), 0px 1px 3px 1px rgba(60, 64, 67, 0.15);\n",
              "      fill: #174EA6;\n",
              "    }\n",
              "\n",
              "    .colab-df-buttons div {\n",
              "      margin-bottom: 4px;\n",
              "    }\n",
              "\n",
              "    [theme=dark] .colab-df-convert {\n",
              "      background-color: #3B4455;\n",
              "      fill: #D2E3FC;\n",
              "    }\n",
              "\n",
              "    [theme=dark] .colab-df-convert:hover {\n",
              "      background-color: #434B5C;\n",
              "      box-shadow: 0px 1px 3px 1px rgba(0, 0, 0, 0.15);\n",
              "      filter: drop-shadow(0px 1px 2px rgba(0, 0, 0, 0.3));\n",
              "      fill: #FFFFFF;\n",
              "    }\n",
              "  </style>\n",
              "\n",
              "    <script>\n",
              "      const buttonEl =\n",
              "        document.querySelector('#df-19df936d-d8a5-454f-942d-bd9a11b663fc button.colab-df-convert');\n",
              "      buttonEl.style.display =\n",
              "        google.colab.kernel.accessAllowed ? 'block' : 'none';\n",
              "\n",
              "      async function convertToInteractive(key) {\n",
              "        const element = document.querySelector('#df-19df936d-d8a5-454f-942d-bd9a11b663fc');\n",
              "        const dataTable =\n",
              "          await google.colab.kernel.invokeFunction('convertToInteractive',\n",
              "                                                    [key], {});\n",
              "        if (!dataTable) return;\n",
              "\n",
              "        const docLinkHtml = 'Like what you see? Visit the ' +\n",
              "          '<a target=\"_blank\" href=https://colab.research.google.com/notebooks/data_table.ipynb>data table notebook</a>'\n",
              "          + ' to learn more about interactive tables.';\n",
              "        element.innerHTML = '';\n",
              "        dataTable['output_type'] = 'display_data';\n",
              "        await google.colab.output.renderOutput(dataTable, element);\n",
              "        const docLink = document.createElement('div');\n",
              "        docLink.innerHTML = docLinkHtml;\n",
              "        element.appendChild(docLink);\n",
              "      }\n",
              "    </script>\n",
              "  </div>\n",
              "\n",
              "\n",
              "<div id=\"df-ec026483-21c5-4abc-bf67-723c03d4c1ed\">\n",
              "  <button class=\"colab-df-quickchart\" onclick=\"quickchart('df-ec026483-21c5-4abc-bf67-723c03d4c1ed')\"\n",
              "            title=\"Suggest charts\"\n",
              "            style=\"display:none;\">\n",
              "\n",
              "<svg xmlns=\"http://www.w3.org/2000/svg\" height=\"24px\"viewBox=\"0 0 24 24\"\n",
              "     width=\"24px\">\n",
              "    <g>\n",
              "        <path d=\"M19 3H5c-1.1 0-2 .9-2 2v14c0 1.1.9 2 2 2h14c1.1 0 2-.9 2-2V5c0-1.1-.9-2-2-2zM9 17H7v-7h2v7zm4 0h-2V7h2v10zm4 0h-2v-4h2v4z\"/>\n",
              "    </g>\n",
              "</svg>\n",
              "  </button>\n",
              "\n",
              "<style>\n",
              "  .colab-df-quickchart {\n",
              "      --bg-color: #E8F0FE;\n",
              "      --fill-color: #1967D2;\n",
              "      --hover-bg-color: #E2EBFA;\n",
              "      --hover-fill-color: #174EA6;\n",
              "      --disabled-fill-color: #AAA;\n",
              "      --disabled-bg-color: #DDD;\n",
              "  }\n",
              "\n",
              "  [theme=dark] .colab-df-quickchart {\n",
              "      --bg-color: #3B4455;\n",
              "      --fill-color: #D2E3FC;\n",
              "      --hover-bg-color: #434B5C;\n",
              "      --hover-fill-color: #FFFFFF;\n",
              "      --disabled-bg-color: #3B4455;\n",
              "      --disabled-fill-color: #666;\n",
              "  }\n",
              "\n",
              "  .colab-df-quickchart {\n",
              "    background-color: var(--bg-color);\n",
              "    border: none;\n",
              "    border-radius: 50%;\n",
              "    cursor: pointer;\n",
              "    display: none;\n",
              "    fill: var(--fill-color);\n",
              "    height: 32px;\n",
              "    padding: 0;\n",
              "    width: 32px;\n",
              "  }\n",
              "\n",
              "  .colab-df-quickchart:hover {\n",
              "    background-color: var(--hover-bg-color);\n",
              "    box-shadow: 0 1px 2px rgba(60, 64, 67, 0.3), 0 1px 3px 1px rgba(60, 64, 67, 0.15);\n",
              "    fill: var(--button-hover-fill-color);\n",
              "  }\n",
              "\n",
              "  .colab-df-quickchart-complete:disabled,\n",
              "  .colab-df-quickchart-complete:disabled:hover {\n",
              "    background-color: var(--disabled-bg-color);\n",
              "    fill: var(--disabled-fill-color);\n",
              "    box-shadow: none;\n",
              "  }\n",
              "\n",
              "  .colab-df-spinner {\n",
              "    border: 2px solid var(--fill-color);\n",
              "    border-color: transparent;\n",
              "    border-bottom-color: var(--fill-color);\n",
              "    animation:\n",
              "      spin 1s steps(1) infinite;\n",
              "  }\n",
              "\n",
              "  @keyframes spin {\n",
              "    0% {\n",
              "      border-color: transparent;\n",
              "      border-bottom-color: var(--fill-color);\n",
              "      border-left-color: var(--fill-color);\n",
              "    }\n",
              "    20% {\n",
              "      border-color: transparent;\n",
              "      border-left-color: var(--fill-color);\n",
              "      border-top-color: var(--fill-color);\n",
              "    }\n",
              "    30% {\n",
              "      border-color: transparent;\n",
              "      border-left-color: var(--fill-color);\n",
              "      border-top-color: var(--fill-color);\n",
              "      border-right-color: var(--fill-color);\n",
              "    }\n",
              "    40% {\n",
              "      border-color: transparent;\n",
              "      border-right-color: var(--fill-color);\n",
              "      border-top-color: var(--fill-color);\n",
              "    }\n",
              "    60% {\n",
              "      border-color: transparent;\n",
              "      border-right-color: var(--fill-color);\n",
              "    }\n",
              "    80% {\n",
              "      border-color: transparent;\n",
              "      border-right-color: var(--fill-color);\n",
              "      border-bottom-color: var(--fill-color);\n",
              "    }\n",
              "    90% {\n",
              "      border-color: transparent;\n",
              "      border-bottom-color: var(--fill-color);\n",
              "    }\n",
              "  }\n",
              "</style>\n",
              "\n",
              "  <script>\n",
              "    async function quickchart(key) {\n",
              "      const quickchartButtonEl =\n",
              "        document.querySelector('#' + key + ' button');\n",
              "      quickchartButtonEl.disabled = true;  // To prevent multiple clicks.\n",
              "      quickchartButtonEl.classList.add('colab-df-spinner');\n",
              "      try {\n",
              "        const charts = await google.colab.kernel.invokeFunction(\n",
              "            'suggestCharts', [key], {});\n",
              "      } catch (error) {\n",
              "        console.error('Error during call to suggestCharts:', error);\n",
              "      }\n",
              "      quickchartButtonEl.classList.remove('colab-df-spinner');\n",
              "      quickchartButtonEl.classList.add('colab-df-quickchart-complete');\n",
              "    }\n",
              "    (() => {\n",
              "      let quickchartButtonEl =\n",
              "        document.querySelector('#df-ec026483-21c5-4abc-bf67-723c03d4c1ed button');\n",
              "      quickchartButtonEl.style.display =\n",
              "        google.colab.kernel.accessAllowed ? 'block' : 'none';\n",
              "    })();\n",
              "  </script>\n",
              "</div>\n",
              "    </div>\n",
              "  </div>\n"
            ],
            "text/plain": [
              "   reward  difficulty  duration     offer_type  \\\n",
              "0      10          10       7.0           bogo   \n",
              "1      10          10       5.0           bogo   \n",
              "2       0           0       4.0  informational   \n",
              "3       5           5       7.0           bogo   \n",
              "4       5          20      10.0       discount   \n",
              "5       3           7       7.0       discount   \n",
              "6       2          10      10.0       discount   \n",
              "7       0           0       3.0  informational   \n",
              "8       5           5       5.0           bogo   \n",
              "9       2          10       7.0       discount   \n",
              "\n",
              "                                 id  channel_email  channel_mobile  \\\n",
              "0  ae264e3637204a6fb9bb56bc8210ddfd              1               1   \n",
              "1  4d5c57ea9a6940dd891ad53e9dbe8da0              1               1   \n",
              "2  3f207df678b143eea3cee63160fa8bed              1               1   \n",
              "3  9b98b8c7a33c4b65b9aebfe6a799e6d9              1               1   \n",
              "4  0b1e1539f2cc45b7b9fa7c272da2e1d7              1               0   \n",
              "5  2298d6c36e964ae4a3e7e9706d1fb8c2              1               1   \n",
              "6  fafdcd668e3743c1bb461111dcafc2a4              1               1   \n",
              "7  5a8bc65990b245e5a138643cd4eb9837              1               1   \n",
              "8  f19421c1d4aa40978ebb69ca19b0e20d              1               1   \n",
              "9  2906b810c7d4411798c6938adc9daaa5              1               1   \n",
              "\n",
              "   channel_social  channel_web  duration_hrs  \n",
              "0               1            0         168.0  \n",
              "1               1            1         120.0  \n",
              "2               0            1          96.0  \n",
              "3               0            1         168.0  \n",
              "4               0            1         240.0  \n",
              "5               1            1         168.0  \n",
              "6               1            1         240.0  \n",
              "7               1            0          72.0  \n",
              "8               1            1         120.0  \n",
              "9               0            1         168.0  "
            ]
          },
          "execution_count": 35,
          "metadata": {},
          "output_type": "execute_result"
        }
      ],
      "source": [
        "portfolio['duration_hrs'] = portfolio.duration*24\n",
        "portfolio"
      ]
    },
    {
      "cell_type": "code",
      "execution_count": null,
      "metadata": {
        "colab": {
          "base_uri": "https://localhost:8080/"
        },
        "id": "j-kf2iCImJaP",
        "outputId": "e66cdca3-5ac6-4e6f-9760-58735668d083"
      },
      "outputs": [
        {
          "data": {
            "text/plain": [
              "reward              int64\n",
              "difficulty          int64\n",
              "duration          float64\n",
              "offer_type         object\n",
              "id                 object\n",
              "channel_email       int64\n",
              "channel_mobile      int64\n",
              "channel_social      int64\n",
              "channel_web         int64\n",
              "duration_hrs      float64\n",
              "dtype: object"
            ]
          },
          "execution_count": 36,
          "metadata": {},
          "output_type": "execute_result"
        }
      ],
      "source": [
        "portfolio.dtypes"
      ]
    },
    {
      "cell_type": "code",
      "execution_count": null,
      "metadata": {
        "colab": {
          "base_uri": "https://localhost:8080/"
        },
        "id": "9XuUyygnm4Np",
        "outputId": "34b6b288-7ad5-42d3-e5d8-9977a3a26f0e"
      },
      "outputs": [
        {
          "data": {
            "text/plain": [
              "reward            0\n",
              "difficulty        0\n",
              "duration          0\n",
              "offer_type        0\n",
              "id                0\n",
              "channel_email     0\n",
              "channel_mobile    0\n",
              "channel_social    0\n",
              "channel_web       0\n",
              "duration_hrs      0\n",
              "dtype: int64"
            ]
          },
          "execution_count": 37,
          "metadata": {},
          "output_type": "execute_result"
        }
      ],
      "source": [
        "portfolio.isna().sum()"
      ]
    },
    {
      "cell_type": "code",
      "execution_count": null,
      "metadata": {
        "colab": {
          "base_uri": "https://localhost:8080/",
          "height": 206
        },
        "id": "YrW0-ziJmT6c",
        "outputId": "2159f349-f28f-4e84-b79a-877289b6e6e9"
      },
      "outputs": [
        {
          "data": {
            "text/html": [
              "\n",
              "  <div id=\"df-55767a37-acae-4eb0-9886-c6611c0156a2\" class=\"colab-df-container\">\n",
              "    <div>\n",
              "<style scoped>\n",
              "    .dataframe tbody tr th:only-of-type {\n",
              "        vertical-align: middle;\n",
              "    }\n",
              "\n",
              "    .dataframe tbody tr th {\n",
              "        vertical-align: top;\n",
              "    }\n",
              "\n",
              "    .dataframe thead th {\n",
              "        text-align: right;\n",
              "    }\n",
              "</style>\n",
              "<table border=\"1\" class=\"dataframe\">\n",
              "  <thead>\n",
              "    <tr style=\"text-align: right;\">\n",
              "      <th></th>\n",
              "      <th>gender</th>\n",
              "      <th>age</th>\n",
              "      <th>id</th>\n",
              "      <th>became_member_on</th>\n",
              "      <th>income</th>\n",
              "    </tr>\n",
              "  </thead>\n",
              "  <tbody>\n",
              "    <tr>\n",
              "      <th>0</th>\n",
              "      <td>None</td>\n",
              "      <td>118</td>\n",
              "      <td>68be06ca386d4c31939f3a4f0e3dd783</td>\n",
              "      <td>20170212</td>\n",
              "      <td>NaN</td>\n",
              "    </tr>\n",
              "    <tr>\n",
              "      <th>1</th>\n",
              "      <td>F</td>\n",
              "      <td>55</td>\n",
              "      <td>0610b486422d4921ae7d2bf64640c50b</td>\n",
              "      <td>20170715</td>\n",
              "      <td>112000.0</td>\n",
              "    </tr>\n",
              "    <tr>\n",
              "      <th>2</th>\n",
              "      <td>None</td>\n",
              "      <td>118</td>\n",
              "      <td>38fe809add3b4fcf9315a9694bb96ff5</td>\n",
              "      <td>20180712</td>\n",
              "      <td>NaN</td>\n",
              "    </tr>\n",
              "    <tr>\n",
              "      <th>3</th>\n",
              "      <td>F</td>\n",
              "      <td>75</td>\n",
              "      <td>78afa995795e4d85b5d9ceeca43f5fef</td>\n",
              "      <td>20170509</td>\n",
              "      <td>100000.0</td>\n",
              "    </tr>\n",
              "    <tr>\n",
              "      <th>4</th>\n",
              "      <td>None</td>\n",
              "      <td>118</td>\n",
              "      <td>a03223e636434f42ac4c3df47e8bac43</td>\n",
              "      <td>20170804</td>\n",
              "      <td>NaN</td>\n",
              "    </tr>\n",
              "  </tbody>\n",
              "</table>\n",
              "</div>\n",
              "    <div class=\"colab-df-buttons\">\n",
              "\n",
              "  <div class=\"colab-df-container\">\n",
              "    <button class=\"colab-df-convert\" onclick=\"convertToInteractive('df-55767a37-acae-4eb0-9886-c6611c0156a2')\"\n",
              "            title=\"Convert this dataframe to an interactive table.\"\n",
              "            style=\"display:none;\">\n",
              "\n",
              "  <svg xmlns=\"http://www.w3.org/2000/svg\" height=\"24px\" viewBox=\"0 -960 960 960\">\n",
              "    <path d=\"M120-120v-720h720v720H120Zm60-500h600v-160H180v160Zm220 220h160v-160H400v160Zm0 220h160v-160H400v160ZM180-400h160v-160H180v160Zm440 0h160v-160H620v160ZM180-180h160v-160H180v160Zm440 0h160v-160H620v160Z\"/>\n",
              "  </svg>\n",
              "    </button>\n",
              "\n",
              "  <style>\n",
              "    .colab-df-container {\n",
              "      display:flex;\n",
              "      gap: 12px;\n",
              "    }\n",
              "\n",
              "    .colab-df-convert {\n",
              "      background-color: #E8F0FE;\n",
              "      border: none;\n",
              "      border-radius: 50%;\n",
              "      cursor: pointer;\n",
              "      display: none;\n",
              "      fill: #1967D2;\n",
              "      height: 32px;\n",
              "      padding: 0 0 0 0;\n",
              "      width: 32px;\n",
              "    }\n",
              "\n",
              "    .colab-df-convert:hover {\n",
              "      background-color: #E2EBFA;\n",
              "      box-shadow: 0px 1px 2px rgba(60, 64, 67, 0.3), 0px 1px 3px 1px rgba(60, 64, 67, 0.15);\n",
              "      fill: #174EA6;\n",
              "    }\n",
              "\n",
              "    .colab-df-buttons div {\n",
              "      margin-bottom: 4px;\n",
              "    }\n",
              "\n",
              "    [theme=dark] .colab-df-convert {\n",
              "      background-color: #3B4455;\n",
              "      fill: #D2E3FC;\n",
              "    }\n",
              "\n",
              "    [theme=dark] .colab-df-convert:hover {\n",
              "      background-color: #434B5C;\n",
              "      box-shadow: 0px 1px 3px 1px rgba(0, 0, 0, 0.15);\n",
              "      filter: drop-shadow(0px 1px 2px rgba(0, 0, 0, 0.3));\n",
              "      fill: #FFFFFF;\n",
              "    }\n",
              "  </style>\n",
              "\n",
              "    <script>\n",
              "      const buttonEl =\n",
              "        document.querySelector('#df-55767a37-acae-4eb0-9886-c6611c0156a2 button.colab-df-convert');\n",
              "      buttonEl.style.display =\n",
              "        google.colab.kernel.accessAllowed ? 'block' : 'none';\n",
              "\n",
              "      async function convertToInteractive(key) {\n",
              "        const element = document.querySelector('#df-55767a37-acae-4eb0-9886-c6611c0156a2');\n",
              "        const dataTable =\n",
              "          await google.colab.kernel.invokeFunction('convertToInteractive',\n",
              "                                                    [key], {});\n",
              "        if (!dataTable) return;\n",
              "\n",
              "        const docLinkHtml = 'Like what you see? Visit the ' +\n",
              "          '<a target=\"_blank\" href=https://colab.research.google.com/notebooks/data_table.ipynb>data table notebook</a>'\n",
              "          + ' to learn more about interactive tables.';\n",
              "        element.innerHTML = '';\n",
              "        dataTable['output_type'] = 'display_data';\n",
              "        await google.colab.output.renderOutput(dataTable, element);\n",
              "        const docLink = document.createElement('div');\n",
              "        docLink.innerHTML = docLinkHtml;\n",
              "        element.appendChild(docLink);\n",
              "      }\n",
              "    </script>\n",
              "  </div>\n",
              "\n",
              "\n",
              "<div id=\"df-a68c9201-cfbc-4138-a916-f1edfa3b54b4\">\n",
              "  <button class=\"colab-df-quickchart\" onclick=\"quickchart('df-a68c9201-cfbc-4138-a916-f1edfa3b54b4')\"\n",
              "            title=\"Suggest charts\"\n",
              "            style=\"display:none;\">\n",
              "\n",
              "<svg xmlns=\"http://www.w3.org/2000/svg\" height=\"24px\"viewBox=\"0 0 24 24\"\n",
              "     width=\"24px\">\n",
              "    <g>\n",
              "        <path d=\"M19 3H5c-1.1 0-2 .9-2 2v14c0 1.1.9 2 2 2h14c1.1 0 2-.9 2-2V5c0-1.1-.9-2-2-2zM9 17H7v-7h2v7zm4 0h-2V7h2v10zm4 0h-2v-4h2v4z\"/>\n",
              "    </g>\n",
              "</svg>\n",
              "  </button>\n",
              "\n",
              "<style>\n",
              "  .colab-df-quickchart {\n",
              "      --bg-color: #E8F0FE;\n",
              "      --fill-color: #1967D2;\n",
              "      --hover-bg-color: #E2EBFA;\n",
              "      --hover-fill-color: #174EA6;\n",
              "      --disabled-fill-color: #AAA;\n",
              "      --disabled-bg-color: #DDD;\n",
              "  }\n",
              "\n",
              "  [theme=dark] .colab-df-quickchart {\n",
              "      --bg-color: #3B4455;\n",
              "      --fill-color: #D2E3FC;\n",
              "      --hover-bg-color: #434B5C;\n",
              "      --hover-fill-color: #FFFFFF;\n",
              "      --disabled-bg-color: #3B4455;\n",
              "      --disabled-fill-color: #666;\n",
              "  }\n",
              "\n",
              "  .colab-df-quickchart {\n",
              "    background-color: var(--bg-color);\n",
              "    border: none;\n",
              "    border-radius: 50%;\n",
              "    cursor: pointer;\n",
              "    display: none;\n",
              "    fill: var(--fill-color);\n",
              "    height: 32px;\n",
              "    padding: 0;\n",
              "    width: 32px;\n",
              "  }\n",
              "\n",
              "  .colab-df-quickchart:hover {\n",
              "    background-color: var(--hover-bg-color);\n",
              "    box-shadow: 0 1px 2px rgba(60, 64, 67, 0.3), 0 1px 3px 1px rgba(60, 64, 67, 0.15);\n",
              "    fill: var(--button-hover-fill-color);\n",
              "  }\n",
              "\n",
              "  .colab-df-quickchart-complete:disabled,\n",
              "  .colab-df-quickchart-complete:disabled:hover {\n",
              "    background-color: var(--disabled-bg-color);\n",
              "    fill: var(--disabled-fill-color);\n",
              "    box-shadow: none;\n",
              "  }\n",
              "\n",
              "  .colab-df-spinner {\n",
              "    border: 2px solid var(--fill-color);\n",
              "    border-color: transparent;\n",
              "    border-bottom-color: var(--fill-color);\n",
              "    animation:\n",
              "      spin 1s steps(1) infinite;\n",
              "  }\n",
              "\n",
              "  @keyframes spin {\n",
              "    0% {\n",
              "      border-color: transparent;\n",
              "      border-bottom-color: var(--fill-color);\n",
              "      border-left-color: var(--fill-color);\n",
              "    }\n",
              "    20% {\n",
              "      border-color: transparent;\n",
              "      border-left-color: var(--fill-color);\n",
              "      border-top-color: var(--fill-color);\n",
              "    }\n",
              "    30% {\n",
              "      border-color: transparent;\n",
              "      border-left-color: var(--fill-color);\n",
              "      border-top-color: var(--fill-color);\n",
              "      border-right-color: var(--fill-color);\n",
              "    }\n",
              "    40% {\n",
              "      border-color: transparent;\n",
              "      border-right-color: var(--fill-color);\n",
              "      border-top-color: var(--fill-color);\n",
              "    }\n",
              "    60% {\n",
              "      border-color: transparent;\n",
              "      border-right-color: var(--fill-color);\n",
              "    }\n",
              "    80% {\n",
              "      border-color: transparent;\n",
              "      border-right-color: var(--fill-color);\n",
              "      border-bottom-color: var(--fill-color);\n",
              "    }\n",
              "    90% {\n",
              "      border-color: transparent;\n",
              "      border-bottom-color: var(--fill-color);\n",
              "    }\n",
              "  }\n",
              "</style>\n",
              "\n",
              "  <script>\n",
              "    async function quickchart(key) {\n",
              "      const quickchartButtonEl =\n",
              "        document.querySelector('#' + key + ' button');\n",
              "      quickchartButtonEl.disabled = true;  // To prevent multiple clicks.\n",
              "      quickchartButtonEl.classList.add('colab-df-spinner');\n",
              "      try {\n",
              "        const charts = await google.colab.kernel.invokeFunction(\n",
              "            'suggestCharts', [key], {});\n",
              "      } catch (error) {\n",
              "        console.error('Error during call to suggestCharts:', error);\n",
              "      }\n",
              "      quickchartButtonEl.classList.remove('colab-df-spinner');\n",
              "      quickchartButtonEl.classList.add('colab-df-quickchart-complete');\n",
              "    }\n",
              "    (() => {\n",
              "      let quickchartButtonEl =\n",
              "        document.querySelector('#df-a68c9201-cfbc-4138-a916-f1edfa3b54b4 button');\n",
              "      quickchartButtonEl.style.display =\n",
              "        google.colab.kernel.accessAllowed ? 'block' : 'none';\n",
              "    })();\n",
              "  </script>\n",
              "</div>\n",
              "    </div>\n",
              "  </div>\n"
            ],
            "text/plain": [
              "  gender  age                                id became_member_on    income\n",
              "0   None  118  68be06ca386d4c31939f3a4f0e3dd783         20170212       NaN\n",
              "1      F   55  0610b486422d4921ae7d2bf64640c50b         20170715  112000.0\n",
              "2   None  118  38fe809add3b4fcf9315a9694bb96ff5         20180712       NaN\n",
              "3      F   75  78afa995795e4d85b5d9ceeca43f5fef         20170509  100000.0\n",
              "4   None  118  a03223e636434f42ac4c3df47e8bac43         20170804       NaN"
            ]
          },
          "execution_count": 38,
          "metadata": {},
          "output_type": "execute_result"
        }
      ],
      "source": [
        "profile.head()"
      ]
    },
    {
      "cell_type": "code",
      "execution_count": null,
      "metadata": {
        "colab": {
          "base_uri": "https://localhost:8080/"
        },
        "id": "g6NbXKf6mmdI",
        "outputId": "f923e2b7-4030-4b60-f629-41046c72d3ee"
      },
      "outputs": [
        {
          "data": {
            "text/plain": [
              "(17000, 5)"
            ]
          },
          "execution_count": 39,
          "metadata": {},
          "output_type": "execute_result"
        }
      ],
      "source": [
        "profile.shape"
      ]
    },
    {
      "cell_type": "code",
      "execution_count": null,
      "metadata": {
        "colab": {
          "base_uri": "https://localhost:8080/"
        },
        "id": "Y3dxnQeRmzYK",
        "outputId": "88ee72a4-f0d3-429a-ff45-b105d60dd7ab"
      },
      "outputs": [
        {
          "data": {
            "text/plain": [
              "gender               object\n",
              "age                   int64\n",
              "id                   object\n",
              "became_member_on     object\n",
              "income              float64\n",
              "dtype: object"
            ]
          },
          "execution_count": 40,
          "metadata": {},
          "output_type": "execute_result"
        }
      ],
      "source": [
        "profile.dtypes"
      ]
    },
    {
      "cell_type": "code",
      "execution_count": null,
      "metadata": {
        "colab": {
          "base_uri": "https://localhost:8080/",
          "height": 391
        },
        "id": "vRYqZKqVc7sb",
        "outputId": "b97b375b-4bb3-4cd7-dbf8-c82b3b14dbdf"
      },
      "outputs": [
        {
          "ename": "IntCastingNaNError",
          "evalue": "ignored",
          "output_type": "error",
          "traceback": [
            "\u001b[0;31m---------------------------------------------------------------------------\u001b[0m",
            "\u001b[0;31mIntCastingNaNError\u001b[0m                        Traceback (most recent call last)",
            "\u001b[0;32m<ipython-input-41-ffab712831e0>\u001b[0m in \u001b[0;36m<cell line: 2>\u001b[0;34m()\u001b[0m\n\u001b[1;32m      1\u001b[0m \u001b[0;31m# Convert `became_member_on` in user data to datetime\u001b[0m\u001b[0;34m\u001b[0m\u001b[0;34m\u001b[0m\u001b[0m\n\u001b[0;32m----> 2\u001b[0;31m \u001b[0mprofile\u001b[0m\u001b[0;34m[\u001b[0m\u001b[0;34m'income'\u001b[0m\u001b[0;34m]\u001b[0m \u001b[0;34m=\u001b[0m \u001b[0mprofile\u001b[0m\u001b[0;34m.\u001b[0m\u001b[0mincome\u001b[0m\u001b[0;34m.\u001b[0m\u001b[0mastype\u001b[0m\u001b[0;34m(\u001b[0m\u001b[0mint\u001b[0m\u001b[0;34m)\u001b[0m \u001b[0;31m# `income` in user data\u001b[0m\u001b[0;34m\u001b[0m\u001b[0;34m\u001b[0m\u001b[0m\n\u001b[0m\u001b[1;32m      3\u001b[0m \u001b[0mprofile\u001b[0m\u001b[0;34m[\u001b[0m\u001b[0;34m'membership_date'\u001b[0m\u001b[0;34m]\u001b[0m \u001b[0;34m=\u001b[0m \u001b[0mpd\u001b[0m\u001b[0;34m.\u001b[0m\u001b[0mto_datetime\u001b[0m\u001b[0;34m(\u001b[0m\u001b[0mprofile\u001b[0m\u001b[0;34m.\u001b[0m\u001b[0mbecame_member_on\u001b[0m\u001b[0;34m.\u001b[0m\u001b[0mastype\u001b[0m\u001b[0;34m(\u001b[0m\u001b[0mstr\u001b[0m\u001b[0;34m)\u001b[0m\u001b[0;34m)\u001b[0m\u001b[0;34m\u001b[0m\u001b[0;34m\u001b[0m\u001b[0m\n\u001b[1;32m      4\u001b[0m \u001b[0mprofile\u001b[0m\u001b[0;34m.\u001b[0m\u001b[0mdrop\u001b[0m\u001b[0;34m(\u001b[0m\u001b[0;34m'became_member_on'\u001b[0m\u001b[0;34m,\u001b[0m \u001b[0maxis\u001b[0m\u001b[0;34m=\u001b[0m\u001b[0;36m1\u001b[0m\u001b[0;34m,\u001b[0m \u001b[0minplace\u001b[0m\u001b[0;34m=\u001b[0m\u001b[0;32mTrue\u001b[0m\u001b[0;34m)\u001b[0m\u001b[0;34m\u001b[0m\u001b[0;34m\u001b[0m\u001b[0m\n\u001b[1;32m      5\u001b[0m \u001b[0mprofile\u001b[0m\u001b[0;34m.\u001b[0m\u001b[0mhead\u001b[0m\u001b[0;34m(\u001b[0m\u001b[0;34m)\u001b[0m\u001b[0;34m\u001b[0m\u001b[0;34m\u001b[0m\u001b[0m\n",
            "\u001b[0;32m/usr/local/lib/python3.10/dist-packages/pandas/core/generic.py\u001b[0m in \u001b[0;36mastype\u001b[0;34m(self, dtype, copy, errors)\u001b[0m\n\u001b[1;32m   6238\u001b[0m         \u001b[0;32melse\u001b[0m\u001b[0;34m:\u001b[0m\u001b[0;34m\u001b[0m\u001b[0;34m\u001b[0m\u001b[0m\n\u001b[1;32m   6239\u001b[0m             \u001b[0;31m# else, only a single dtype is given\u001b[0m\u001b[0;34m\u001b[0m\u001b[0;34m\u001b[0m\u001b[0m\n\u001b[0;32m-> 6240\u001b[0;31m             \u001b[0mnew_data\u001b[0m \u001b[0;34m=\u001b[0m \u001b[0mself\u001b[0m\u001b[0;34m.\u001b[0m\u001b[0m_mgr\u001b[0m\u001b[0;34m.\u001b[0m\u001b[0mastype\u001b[0m\u001b[0;34m(\u001b[0m\u001b[0mdtype\u001b[0m\u001b[0;34m=\u001b[0m\u001b[0mdtype\u001b[0m\u001b[0;34m,\u001b[0m \u001b[0mcopy\u001b[0m\u001b[0;34m=\u001b[0m\u001b[0mcopy\u001b[0m\u001b[0;34m,\u001b[0m \u001b[0merrors\u001b[0m\u001b[0;34m=\u001b[0m\u001b[0merrors\u001b[0m\u001b[0;34m)\u001b[0m\u001b[0;34m\u001b[0m\u001b[0;34m\u001b[0m\u001b[0m\n\u001b[0m\u001b[1;32m   6241\u001b[0m             \u001b[0;32mreturn\u001b[0m \u001b[0mself\u001b[0m\u001b[0;34m.\u001b[0m\u001b[0m_constructor\u001b[0m\u001b[0;34m(\u001b[0m\u001b[0mnew_data\u001b[0m\u001b[0;34m)\u001b[0m\u001b[0;34m.\u001b[0m\u001b[0m__finalize__\u001b[0m\u001b[0;34m(\u001b[0m\u001b[0mself\u001b[0m\u001b[0;34m,\u001b[0m \u001b[0mmethod\u001b[0m\u001b[0;34m=\u001b[0m\u001b[0;34m\"astype\"\u001b[0m\u001b[0;34m)\u001b[0m\u001b[0;34m\u001b[0m\u001b[0;34m\u001b[0m\u001b[0m\n\u001b[1;32m   6242\u001b[0m \u001b[0;34m\u001b[0m\u001b[0m\n",
            "\u001b[0;32m/usr/local/lib/python3.10/dist-packages/pandas/core/internals/managers.py\u001b[0m in \u001b[0;36mastype\u001b[0;34m(self, dtype, copy, errors)\u001b[0m\n\u001b[1;32m    446\u001b[0m \u001b[0;34m\u001b[0m\u001b[0m\n\u001b[1;32m    447\u001b[0m     \u001b[0;32mdef\u001b[0m \u001b[0mastype\u001b[0m\u001b[0;34m(\u001b[0m\u001b[0mself\u001b[0m\u001b[0;34m:\u001b[0m \u001b[0mT\u001b[0m\u001b[0;34m,\u001b[0m \u001b[0mdtype\u001b[0m\u001b[0;34m,\u001b[0m \u001b[0mcopy\u001b[0m\u001b[0;34m:\u001b[0m \u001b[0mbool\u001b[0m \u001b[0;34m=\u001b[0m \u001b[0;32mFalse\u001b[0m\u001b[0;34m,\u001b[0m \u001b[0merrors\u001b[0m\u001b[0;34m:\u001b[0m \u001b[0mstr\u001b[0m \u001b[0;34m=\u001b[0m \u001b[0;34m\"raise\"\u001b[0m\u001b[0;34m)\u001b[0m \u001b[0;34m->\u001b[0m \u001b[0mT\u001b[0m\u001b[0;34m:\u001b[0m\u001b[0;34m\u001b[0m\u001b[0;34m\u001b[0m\u001b[0m\n\u001b[0;32m--> 448\u001b[0;31m         \u001b[0;32mreturn\u001b[0m \u001b[0mself\u001b[0m\u001b[0;34m.\u001b[0m\u001b[0mapply\u001b[0m\u001b[0;34m(\u001b[0m\u001b[0;34m\"astype\"\u001b[0m\u001b[0;34m,\u001b[0m \u001b[0mdtype\u001b[0m\u001b[0;34m=\u001b[0m\u001b[0mdtype\u001b[0m\u001b[0;34m,\u001b[0m \u001b[0mcopy\u001b[0m\u001b[0;34m=\u001b[0m\u001b[0mcopy\u001b[0m\u001b[0;34m,\u001b[0m \u001b[0merrors\u001b[0m\u001b[0;34m=\u001b[0m\u001b[0merrors\u001b[0m\u001b[0;34m)\u001b[0m\u001b[0;34m\u001b[0m\u001b[0;34m\u001b[0m\u001b[0m\n\u001b[0m\u001b[1;32m    449\u001b[0m \u001b[0;34m\u001b[0m\u001b[0m\n\u001b[1;32m    450\u001b[0m     def convert(\n",
            "\u001b[0;32m/usr/local/lib/python3.10/dist-packages/pandas/core/internals/managers.py\u001b[0m in \u001b[0;36mapply\u001b[0;34m(self, f, align_keys, ignore_failures, **kwargs)\u001b[0m\n\u001b[1;32m    350\u001b[0m                     \u001b[0mapplied\u001b[0m \u001b[0;34m=\u001b[0m \u001b[0mb\u001b[0m\u001b[0;34m.\u001b[0m\u001b[0mapply\u001b[0m\u001b[0;34m(\u001b[0m\u001b[0mf\u001b[0m\u001b[0;34m,\u001b[0m \u001b[0;34m**\u001b[0m\u001b[0mkwargs\u001b[0m\u001b[0;34m)\u001b[0m\u001b[0;34m\u001b[0m\u001b[0;34m\u001b[0m\u001b[0m\n\u001b[1;32m    351\u001b[0m                 \u001b[0;32melse\u001b[0m\u001b[0;34m:\u001b[0m\u001b[0;34m\u001b[0m\u001b[0;34m\u001b[0m\u001b[0m\n\u001b[0;32m--> 352\u001b[0;31m                     \u001b[0mapplied\u001b[0m \u001b[0;34m=\u001b[0m \u001b[0mgetattr\u001b[0m\u001b[0;34m(\u001b[0m\u001b[0mb\u001b[0m\u001b[0;34m,\u001b[0m \u001b[0mf\u001b[0m\u001b[0;34m)\u001b[0m\u001b[0;34m(\u001b[0m\u001b[0;34m**\u001b[0m\u001b[0mkwargs\u001b[0m\u001b[0;34m)\u001b[0m\u001b[0;34m\u001b[0m\u001b[0;34m\u001b[0m\u001b[0m\n\u001b[0m\u001b[1;32m    353\u001b[0m             \u001b[0;32mexcept\u001b[0m \u001b[0;34m(\u001b[0m\u001b[0mTypeError\u001b[0m\u001b[0;34m,\u001b[0m \u001b[0mNotImplementedError\u001b[0m\u001b[0;34m)\u001b[0m\u001b[0;34m:\u001b[0m\u001b[0;34m\u001b[0m\u001b[0;34m\u001b[0m\u001b[0m\n\u001b[1;32m    354\u001b[0m                 \u001b[0;32mif\u001b[0m \u001b[0;32mnot\u001b[0m \u001b[0mignore_failures\u001b[0m\u001b[0;34m:\u001b[0m\u001b[0;34m\u001b[0m\u001b[0;34m\u001b[0m\u001b[0m\n",
            "\u001b[0;32m/usr/local/lib/python3.10/dist-packages/pandas/core/internals/blocks.py\u001b[0m in \u001b[0;36mastype\u001b[0;34m(self, dtype, copy, errors)\u001b[0m\n\u001b[1;32m    524\u001b[0m         \u001b[0mvalues\u001b[0m \u001b[0;34m=\u001b[0m \u001b[0mself\u001b[0m\u001b[0;34m.\u001b[0m\u001b[0mvalues\u001b[0m\u001b[0;34m\u001b[0m\u001b[0;34m\u001b[0m\u001b[0m\n\u001b[1;32m    525\u001b[0m \u001b[0;34m\u001b[0m\u001b[0m\n\u001b[0;32m--> 526\u001b[0;31m         \u001b[0mnew_values\u001b[0m \u001b[0;34m=\u001b[0m \u001b[0mastype_array_safe\u001b[0m\u001b[0;34m(\u001b[0m\u001b[0mvalues\u001b[0m\u001b[0;34m,\u001b[0m \u001b[0mdtype\u001b[0m\u001b[0;34m,\u001b[0m \u001b[0mcopy\u001b[0m\u001b[0;34m=\u001b[0m\u001b[0mcopy\u001b[0m\u001b[0;34m,\u001b[0m \u001b[0merrors\u001b[0m\u001b[0;34m=\u001b[0m\u001b[0merrors\u001b[0m\u001b[0;34m)\u001b[0m\u001b[0;34m\u001b[0m\u001b[0;34m\u001b[0m\u001b[0m\n\u001b[0m\u001b[1;32m    527\u001b[0m \u001b[0;34m\u001b[0m\u001b[0m\n\u001b[1;32m    528\u001b[0m         \u001b[0mnew_values\u001b[0m \u001b[0;34m=\u001b[0m \u001b[0mmaybe_coerce_values\u001b[0m\u001b[0;34m(\u001b[0m\u001b[0mnew_values\u001b[0m\u001b[0;34m)\u001b[0m\u001b[0;34m\u001b[0m\u001b[0;34m\u001b[0m\u001b[0m\n",
            "\u001b[0;32m/usr/local/lib/python3.10/dist-packages/pandas/core/dtypes/astype.py\u001b[0m in \u001b[0;36mastype_array_safe\u001b[0;34m(values, dtype, copy, errors)\u001b[0m\n\u001b[1;32m    297\u001b[0m \u001b[0;34m\u001b[0m\u001b[0m\n\u001b[1;32m    298\u001b[0m     \u001b[0;32mtry\u001b[0m\u001b[0;34m:\u001b[0m\u001b[0;34m\u001b[0m\u001b[0;34m\u001b[0m\u001b[0m\n\u001b[0;32m--> 299\u001b[0;31m         \u001b[0mnew_values\u001b[0m \u001b[0;34m=\u001b[0m \u001b[0mastype_array\u001b[0m\u001b[0;34m(\u001b[0m\u001b[0mvalues\u001b[0m\u001b[0;34m,\u001b[0m \u001b[0mdtype\u001b[0m\u001b[0;34m,\u001b[0m \u001b[0mcopy\u001b[0m\u001b[0;34m=\u001b[0m\u001b[0mcopy\u001b[0m\u001b[0;34m)\u001b[0m\u001b[0;34m\u001b[0m\u001b[0;34m\u001b[0m\u001b[0m\n\u001b[0m\u001b[1;32m    300\u001b[0m     \u001b[0;32mexcept\u001b[0m \u001b[0;34m(\u001b[0m\u001b[0mValueError\u001b[0m\u001b[0;34m,\u001b[0m \u001b[0mTypeError\u001b[0m\u001b[0;34m)\u001b[0m\u001b[0;34m:\u001b[0m\u001b[0;34m\u001b[0m\u001b[0;34m\u001b[0m\u001b[0m\n\u001b[1;32m    301\u001b[0m         \u001b[0;31m# e.g. astype_nansafe can fail on object-dtype of strings\u001b[0m\u001b[0;34m\u001b[0m\u001b[0;34m\u001b[0m\u001b[0m\n",
            "\u001b[0;32m/usr/local/lib/python3.10/dist-packages/pandas/core/dtypes/astype.py\u001b[0m in \u001b[0;36mastype_array\u001b[0;34m(values, dtype, copy)\u001b[0m\n\u001b[1;32m    228\u001b[0m \u001b[0;34m\u001b[0m\u001b[0m\n\u001b[1;32m    229\u001b[0m     \u001b[0;32melse\u001b[0m\u001b[0;34m:\u001b[0m\u001b[0;34m\u001b[0m\u001b[0;34m\u001b[0m\u001b[0m\n\u001b[0;32m--> 230\u001b[0;31m         \u001b[0mvalues\u001b[0m \u001b[0;34m=\u001b[0m \u001b[0mastype_nansafe\u001b[0m\u001b[0;34m(\u001b[0m\u001b[0mvalues\u001b[0m\u001b[0;34m,\u001b[0m \u001b[0mdtype\u001b[0m\u001b[0;34m,\u001b[0m \u001b[0mcopy\u001b[0m\u001b[0;34m=\u001b[0m\u001b[0mcopy\u001b[0m\u001b[0;34m)\u001b[0m\u001b[0;34m\u001b[0m\u001b[0;34m\u001b[0m\u001b[0m\n\u001b[0m\u001b[1;32m    231\u001b[0m \u001b[0;34m\u001b[0m\u001b[0m\n\u001b[1;32m    232\u001b[0m     \u001b[0;31m# in pandas we don't store numpy str dtypes, so convert to object\u001b[0m\u001b[0;34m\u001b[0m\u001b[0;34m\u001b[0m\u001b[0m\n",
            "\u001b[0;32m/usr/local/lib/python3.10/dist-packages/pandas/core/dtypes/astype.py\u001b[0m in \u001b[0;36mastype_nansafe\u001b[0;34m(arr, dtype, copy, skipna)\u001b[0m\n\u001b[1;32m    138\u001b[0m \u001b[0;34m\u001b[0m\u001b[0m\n\u001b[1;32m    139\u001b[0m     \u001b[0;32melif\u001b[0m \u001b[0mnp\u001b[0m\u001b[0;34m.\u001b[0m\u001b[0missubdtype\u001b[0m\u001b[0;34m(\u001b[0m\u001b[0marr\u001b[0m\u001b[0;34m.\u001b[0m\u001b[0mdtype\u001b[0m\u001b[0;34m,\u001b[0m \u001b[0mnp\u001b[0m\u001b[0;34m.\u001b[0m\u001b[0mfloating\u001b[0m\u001b[0;34m)\u001b[0m \u001b[0;32mand\u001b[0m \u001b[0mis_integer_dtype\u001b[0m\u001b[0;34m(\u001b[0m\u001b[0mdtype\u001b[0m\u001b[0;34m)\u001b[0m\u001b[0;34m:\u001b[0m\u001b[0;34m\u001b[0m\u001b[0;34m\u001b[0m\u001b[0m\n\u001b[0;32m--> 140\u001b[0;31m         \u001b[0;32mreturn\u001b[0m \u001b[0m_astype_float_to_int_nansafe\u001b[0m\u001b[0;34m(\u001b[0m\u001b[0marr\u001b[0m\u001b[0;34m,\u001b[0m \u001b[0mdtype\u001b[0m\u001b[0;34m,\u001b[0m \u001b[0mcopy\u001b[0m\u001b[0;34m)\u001b[0m\u001b[0;34m\u001b[0m\u001b[0;34m\u001b[0m\u001b[0m\n\u001b[0m\u001b[1;32m    141\u001b[0m \u001b[0;34m\u001b[0m\u001b[0m\n\u001b[1;32m    142\u001b[0m     \u001b[0;32melif\u001b[0m \u001b[0mis_object_dtype\u001b[0m\u001b[0;34m(\u001b[0m\u001b[0marr\u001b[0m\u001b[0;34m.\u001b[0m\u001b[0mdtype\u001b[0m\u001b[0;34m)\u001b[0m\u001b[0;34m:\u001b[0m\u001b[0;34m\u001b[0m\u001b[0;34m\u001b[0m\u001b[0m\n",
            "\u001b[0;32m/usr/local/lib/python3.10/dist-packages/pandas/core/dtypes/astype.py\u001b[0m in \u001b[0;36m_astype_float_to_int_nansafe\u001b[0;34m(values, dtype, copy)\u001b[0m\n\u001b[1;32m    180\u001b[0m     \"\"\"\n\u001b[1;32m    181\u001b[0m     \u001b[0;32mif\u001b[0m \u001b[0;32mnot\u001b[0m \u001b[0mnp\u001b[0m\u001b[0;34m.\u001b[0m\u001b[0misfinite\u001b[0m\u001b[0;34m(\u001b[0m\u001b[0mvalues\u001b[0m\u001b[0;34m)\u001b[0m\u001b[0;34m.\u001b[0m\u001b[0mall\u001b[0m\u001b[0;34m(\u001b[0m\u001b[0;34m)\u001b[0m\u001b[0;34m:\u001b[0m\u001b[0;34m\u001b[0m\u001b[0;34m\u001b[0m\u001b[0m\n\u001b[0;32m--> 182\u001b[0;31m         raise IntCastingNaNError(\n\u001b[0m\u001b[1;32m    183\u001b[0m             \u001b[0;34m\"Cannot convert non-finite values (NA or inf) to integer\"\u001b[0m\u001b[0;34m\u001b[0m\u001b[0;34m\u001b[0m\u001b[0m\n\u001b[1;32m    184\u001b[0m         )\n",
            "\u001b[0;31mIntCastingNaNError\u001b[0m: Cannot convert non-finite values (NA or inf) to integer"
          ]
        }
      ],
      "source": [
        "# Convert `became_member_on` in user data to datetime\n",
        "profile['income'] = profile.income.astype(int) # `income\n",
        "profile['membership_date'] = pd.to_datetime(profile.became_member_on.astype(str))\n",
        "profile.drop('became_member_on', axis=1, inplace=True)\n",
        "profile.head()"
      ]
    },
    {
      "cell_type": "code",
      "execution_count": null,
      "metadata": {
        "colab": {
          "background_save": true
        },
        "id": "3-W7v7jqnFNE",
        "outputId": "f1c54495-dabd-468b-d71b-200f8ea7d2ac"
      },
      "outputs": [
        {
          "data": {
            "text/plain": [
              "gender             2175\n",
              "age                   0\n",
              "id                    0\n",
              "income             2175\n",
              "membership_date       0\n",
              "dtype: int64"
            ]
          },
          "execution_count": 43,
          "metadata": {},
          "output_type": "execute_result"
        }
      ],
      "source": [
        "profile_df.isna().sum()"
      ]
    },
    {
      "cell_type": "code",
      "execution_count": null,
      "metadata": {
        "id": "Ranvx7Xmnl_x"
      },
      "outputs": [],
      "source": [
        "profile_df.describe()"
      ]
    },
    {
      "cell_type": "code",
      "execution_count": null,
      "metadata": {
        "id": "Npnlg7J1nt7c"
      },
      "outputs": [],
      "source": [
        "transcation_df=pd.read_excel(\"/content/drive/MyDrive/Airtribe/Transcation.xlsx\")\n",
        "transcation_df.head()"
      ]
    },
    {
      "cell_type": "code",
      "execution_count": null,
      "metadata": {
        "id": "GiZwZPEEpS5r"
      },
      "outputs": [],
      "source": [
        "transcation_df.shape"
      ]
    },
    {
      "cell_type": "code",
      "execution_count": null,
      "metadata": {
        "id": "PYubBfVJp03K"
      },
      "outputs": [],
      "source": [
        "transcation_df.dtypes"
      ]
    },
    {
      "cell_type": "code",
      "execution_count": null,
      "metadata": {
        "id": "oY7PH_zKc7sd"
      },
      "outputs": [],
      "source": [
        "transcation_df.dtypes\n"
      ]
    },
    {
      "cell_type": "code",
      "execution_count": null,
      "metadata": {
        "id": "uUUVZLbmp6ju"
      },
      "outputs": [],
      "source": [
        "transcation_df.isna().sum()"
      ]
    },
    {
      "cell_type": "code",
      "execution_count": null,
      "metadata": {
        "id": "_AgIkOGkc7sd"
      },
      "outputs": [],
      "source": [
        "print('Overall event count:')\n",
        "print(transcation_df.event.value_counts())\n"
      ]
    },
    {
      "cell_type": "code",
      "execution_count": null,
      "metadata": {
        "id": "oejI0yFNc7sd"
      },
      "outputs": [],
      "source": [
        "# Fill missing values with 0\n",
        "transcation_df.fillna(0, inplace=True)\n",
        "transcation_df.isnull().sum().sum()"
      ]
    },
    {
      "cell_type": "code",
      "execution_count": null,
      "metadata": {
        "id": "G1UaBjkqc7se"
      },
      "outputs": [],
      "source": [
        "transcation_df.head()\n"
      ]
    },
    {
      "cell_type": "markdown",
      "metadata": {
        "id": "KpcZj0hac7se"
      },
      "source": [
        "There is no problem with the missing values here:\n",
        "For \"offer received\" and \"offer viewed\" events: no transaction was made so there shouldn't be an amount and no reward was given so there shouldn't be a reward\n",
        "For \"offer completed\" events: no transaction was made so there shouldn't be an amount\n",
        "For \"transaction\" events: there is no offer corresponding to transactions so there shouldn't be an offer_id or a reward\n",
        "Since these values aren't actually missing values, we will be filling all of them with 0."
      ]
    },
    {
      "cell_type": "code",
      "execution_count": null,
      "metadata": {
        "id": "O7h04U6sqCBI"
      },
      "outputs": [],
      "source": [
        "transcation_df.describe()"
      ]
    },
    {
      "cell_type": "code",
      "execution_count": null,
      "metadata": {
        "id": "G4fm9P9oc7sg"
      },
      "outputs": [],
      "source": [
        "print('Duplicated users:', profile_df.duplicated().sum())\n",
        "print('Duplicated events:', transcation_df.duplicated().sum())"
      ]
    },
    {
      "cell_type": "code",
      "execution_count": null,
      "metadata": {
        "id": "r1ifl3fbc7sg"
      },
      "outputs": [],
      "source": [
        "# Duplicated events\n",
        "dup_events = transcation_df[transcation_df.duplicated(keep=False)]\n",
        "dup_events.head()"
      ]
    },
    {
      "cell_type": "code",
      "execution_count": null,
      "metadata": {
        "id": "dQn-0FDgc7sg"
      },
      "outputs": [],
      "source": [
        "# Drop duplicate events\n",
        "transcation_df.drop_duplicates(inplace=True)\n",
        "transcation_df.duplicated().sum()"
      ]
    },
    {
      "cell_type": "code",
      "execution_count": null,
      "metadata": {
        "id": "uPT080QLc7sh"
      },
      "outputs": [],
      "source": [
        "transcation_df.shape"
      ]
    },
    {
      "cell_type": "code",
      "execution_count": null,
      "metadata": {
        "id": "bK2yrGltqK8q"
      },
      "outputs": [],
      "source": [
        "# Sort portfolio_df\n",
        "portfolio_df = portfolio_df.sort_values(['offer_type', 'difficulty']).reset_index(drop = True)\n",
        "portfolio_df.head(10)"
      ]
    },
    {
      "cell_type": "code",
      "execution_count": null,
      "metadata": {
        "id": "69Z2SYiysyhL"
      },
      "outputs": [],
      "source": [
        "# Add the offer alias\n",
        "from string import ascii_uppercase\n",
        "portfolio_df['offer_alias']=[ascii_uppercase[i] for i in range(portfolio_df.shape[0])]\n",
        "portfolio_df"
      ]
    },
    {
      "cell_type": "code",
      "execution_count": null,
      "metadata": {
        "id": "BeMu43XXuw0s"
      },
      "outputs": [],
      "source": [
        "\n",
        "# declaring data\n",
        "data = profile_df['gender'].value_counts()\n",
        "keys = ['Male', 'Female', 'Other']\n",
        "\n",
        "plt.figure(figsize = (5,5))\n",
        "# define Seaborn color palette to use\n",
        "palette_color = sns.color_palette('dark')\n",
        "\n",
        "# plotting data on chart\n",
        "plt.pie(data, labels=keys, colors=palette_color, autopct='%1.1f%%')\n",
        "plt.title('Gender', fontsize = 16)\n",
        "# displaying chart\n",
        "plt.show()"
      ]
    },
    {
      "cell_type": "code",
      "execution_count": null,
      "metadata": {
        "id": "GmQFeU71wfoW"
      },
      "outputs": [],
      "source": [
        "fig, axs = plt.subplots(1,2, figsize = (12,4))\n",
        "sns.boxplot(data = profile_df, x = 'age', ax = axs[0])\n",
        "sns.histplot(data = profile_df, x = 'age', ax = axs[1])\n",
        "axs[0].xaxis.label.set_size(15)\n",
        "axs[1].xaxis.label.set_size(15)\n",
        "axs[1].yaxis.label.set_size(15)\n"
      ]
    },
    {
      "cell_type": "code",
      "execution_count": null,
      "metadata": {
        "id": "0aKta3qKxzSn"
      },
      "outputs": [],
      "source": [
        "print(profile_df.age.max())\n",
        "print(profile_df.age.min())\n",
        "profile_df.shape"
      ]
    },
    {
      "cell_type": "code",
      "execution_count": null,
      "metadata": {
        "id": "lgi-39s2Q2UK"
      },
      "outputs": [],
      "source": [
        "age_groups=pd.cut(profile_df['age'],\n",
        "      bins = [profile_df['age'].min(), 26, 36, 46, 56, 66, 76, 86, profile_df['age'].max()],\n",
        "      labels = ['18-25ys', '26-35ys', '36-45ys', '46-55ys', '56-65ys', '66-75ys', '76-85ys', '> 86ys'])"
      ]
    },
    {
      "cell_type": "code",
      "execution_count": null,
      "metadata": {
        "id": "ycaeYVBMRGpD"
      },
      "outputs": [],
      "source": [
        "age_group_percentage = (age_groups.value_counts().sort_index() / profile_df.shape[0] * 100).round(1)"
      ]
    },
    {
      "cell_type": "code",
      "execution_count": null,
      "metadata": {
        "id": "jpKmbwmwc7si"
      },
      "outputs": [],
      "source": [
        "plt.figure(figsize = (8, 5))\n",
        "yticklabels = [str(y) + '%' for y in np.arange(0,25,5)]\n",
        "plt.yticks(np.arange(0,25,5), labels = yticklabels)\n",
        "plt.xticks(rotation = 45, fontsize = 12)\n",
        "plt.xlabel('Age', fontsize = 15)\n",
        "plt.ylabel('Percentage %', fontsize = 15)\n",
        "plt.title('Age Distribution', fontsize = 18)\n",
        "\n",
        "bar_plot = plt.bar(x = age_group_percentage.index.values, height = age_group_percentage)\n",
        "for i,bar in enumerate(bar_plot.patches):\n",
        "    x, y = bar.get_xy()\n",
        "    plt.text(x+bar.get_width()/2, y+bar.get_height()+0.2,\n",
        "            str(age_group_percentage[i]) + '%',\n",
        "            ha = 'center', weight = 'bold')\n",
        "\n",
        "plt.tight_layout()\n",
        "plt.show()"
      ]
    },
    {
      "cell_type": "markdown",
      "metadata": {
        "id": "3cjBQEDwc7sj"
      },
      "source": [
        "## Income"
      ]
    },
    {
      "cell_type": "code",
      "execution_count": null,
      "metadata": {
        "id": "WJTWen3gc7sj"
      },
      "outputs": [],
      "source": [
        "profile_df.columns"
      ]
    },
    {
      "cell_type": "code",
      "execution_count": null,
      "metadata": {
        "id": "anKsb-Zqc7sj"
      },
      "outputs": [],
      "source": [
        "fig, axs = plt.subplots(1,2, figsize = (12,4))\n",
        "sns.boxplot(data = profile_df, x = 'income', ax = axs[0])\n",
        "sns.histplot(data = profile_df, x = 'income', ax = axs[1])\n",
        "axs[0].xaxis.label.set_size(15)\n",
        "axs[1].xaxis.label.set_size(15)\n",
        "axs[1].yaxis.label.set_size(15)\n"
      ]
    },
    {
      "cell_type": "code",
      "execution_count": null,
      "metadata": {
        "id": "uZSCHnDmc7sj"
      },
      "outputs": [],
      "source": [
        "print(profile_df.income.min())\n",
        "print(profile_df.income.max())\n",
        "profile_df.income.value_counts().reset_index()"
      ]
    },
    {
      "cell_type": "code",
      "execution_count": null,
      "metadata": {
        "id": "nGPIqe16RjO5"
      },
      "outputs": [],
      "source": [
        "income_group=pd.cut(profile_df['income'],\n",
        "      bins = [profile_df['income'].min(), 45000, 60000, 75000,90000, 105000, profile_df['income'].max()],\n",
        "      labels = ['30-45k', '45-60k', '60-75k', '75-90k', '90-105k','>105k'])\n",
        "# Visualize customers by age groups\n",
        "income_group_percentage = (income_group.value_counts().sort_index() / profile_df.shape[0] * 100).round(1)"
      ]
    },
    {
      "cell_type": "code",
      "execution_count": null,
      "metadata": {
        "id": "TDWZwZYZc7sj"
      },
      "outputs": [],
      "source": [
        "\n",
        "plt.figure(figsize = (8, 5))\n",
        "yticklabels = [str(y) + '%' for y in np.arange(0,30,5)]\n",
        "plt.yticks(np.arange(0,30,5), labels = yticklabels)\n",
        "plt.xticks(rotation = 45, fontsize = 12)\n",
        "plt.xlabel('Income', fontsize = 15)\n",
        "plt.ylabel('Percentage %', fontsize = 15)\n",
        "plt.title('Income Distribution', fontsize = 18)\n",
        "\n",
        "bar_plot = plt.bar(x = income_group_percentage.index.values, height = income_group_percentage)\n",
        "for i,bar in enumerate(bar_plot.patches):\n",
        "    x, y = bar.get_xy()\n",
        "    plt.text(x+bar.get_width()/2, y+bar.get_height()+0.2,\n",
        "            str(income_group_percentage[i]) + '%',\n",
        "            ha = 'center', weight = 'bold')\n",
        "\n",
        "plt.tight_layout()\n",
        "plt.show()"
      ]
    },
    {
      "cell_type": "code",
      "execution_count": null,
      "metadata": {
        "id": "9VEw8S7Zc7sj"
      },
      "outputs": [],
      "source": [
        "sns.histplot(data = profile_df, x = 'age', hue = 'gender', fill = False)\n",
        "plt.title('Age vs Gender', fontsize = 16)\n",
        "plt.show()"
      ]
    },
    {
      "cell_type": "code",
      "execution_count": null,
      "metadata": {
        "id": "FQxOurTuc7sk"
      },
      "outputs": [],
      "source": [
        "sns.histplot(data = profile_df, x = 'income', hue = 'gender', fill = False)\n",
        "plt.title('Income vs Gender', fontsize = 16)\n",
        "plt.show()"
      ]
    },
    {
      "cell_type": "code",
      "execution_count": null,
      "metadata": {
        "id": "-tIJPaIsyCwY"
      },
      "outputs": [],
      "source": [
        "# Extract the year,month,week from the became_member_on feature\n",
        "\n",
        "profile_df['year'] = profile_df['signup_date'].dt.year\n",
        "profile_df['month'] = profile_df['signup_date'].dt.month\n",
        "profile_df['day']=profile_df['signup_date'].dt.day_name()\n",
        "profile_df['member_since_how_manydays'] = (pd.to_datetime('today') - profile_df['signup_date']).astype('timedelta64[D]').astype(int)\n",
        "\n"
      ]
    },
    {
      "cell_type": "code",
      "execution_count": null,
      "metadata": {
        "id": "qtMIJxz94lwn"
      },
      "outputs": [],
      "source": [
        "profile_df.head()"
      ]
    },
    {
      "cell_type": "markdown",
      "metadata": {
        "id": "NuVneajY4_V7"
      },
      "source": [
        "##Member growth by year"
      ]
    },
    {
      "cell_type": "code",
      "execution_count": null,
      "metadata": {
        "id": "l9u3Tr424wPk"
      },
      "outputs": [],
      "source": [
        "sns.countplot(data = profile_df, x = 'year')\n",
        "plt.title('Number of New Members by Year', fontsize = 16)\n",
        "plt.xticks(fontsize = 12); plt.yticks(fontsize = 12)\n",
        "plt.xlabel('Year', fontsize = 14); plt.ylabel('Count', fontsize = 14)\n",
        "plt.show()"
      ]
    },
    {
      "cell_type": "code",
      "execution_count": null,
      "metadata": {
        "id": "CFrEgTB05IvB"
      },
      "outputs": [],
      "source": [
        "plt.figure(figsize = (10,5))\n",
        "sns.countplot(data = profile_df.sort_values('month'), x = 'month')\n",
        "plt.title('Number of New Members by Month', fontsize = 16)\n",
        "plt.xticks(fontsize = 12); plt.yticks(fontsize = 12)\n",
        "plt.xlabel('Month', fontsize = 14); plt.ylabel('Count', fontsize = 14)\n",
        "plt.show()"
      ]
    },
    {
      "cell_type": "code",
      "execution_count": null,
      "metadata": {
        "id": "A2Kcs-RS5skA"
      },
      "outputs": [],
      "source": [
        "plt.figure(figsize = (10,5))\n",
        "sns.countplot(data = profile_df.sort_values('day'), x = 'day')\n",
        "plt.title('Number of New Members by Weekday', fontsize = 16)\n",
        "plt.xticks(fontsize = 12); plt.yticks(fontsize = 12)\n",
        "plt.xlabel('Weekday', fontsize = 14); plt.ylabel('Count', fontsize = 14)\n",
        "plt.show()"
      ]
    },
    {
      "cell_type": "code",
      "execution_count": null,
      "metadata": {
        "id": "nnr78hCF6HCM"
      },
      "outputs": [],
      "source": [
        "p = portfolio_df[[\"email\", \"mobile\",\"social\",\"web\"]].groupby([\"email\", \"mobile\",\"social\",\"web\"]).size()\n",
        "print(p)\n",
        "plt.figure(figsize = (12,5))\n",
        "sns.barplot(x = p.index.values, y = p.values)\n",
        "plt.xticks(rotation = None, fontsize = 12)\n",
        "plt.yticks(np.arange(5), fontsize = 14)\n",
        "plt.xlabel('Channels', fontsize = 16, fontweight = 'bold')\n",
        "plt.ylabel('Count', fontsize = 16, fontweight = 'bold')\n",
        "plt.title('Promotion Channel', fontsize = 20)\n",
        "plt.tight_layout()\n",
        "plt.show()"
      ]
    },
    {
      "cell_type": "code",
      "execution_count": null,
      "metadata": {
        "id": "Mz42GlPKc7sl"
      },
      "outputs": [],
      "source": [
        "transcation_df['event'].value_counts()"
      ]
    },
    {
      "cell_type": "code",
      "execution_count": null,
      "metadata": {
        "id": "4pJrrnj7c7sl"
      },
      "outputs": [],
      "source": [
        "fig = plt.figure(figsize = (7,5))\n",
        "transcation_df['event'].value_counts().plot(kind = 'bar')\n",
        "plt.xticks(rotation = None)\n",
        "plt.ylabel('Count')\n",
        "plt.title('Event counts', fontsize = 16)\n",
        "plt.show()"
      ]
    },
    {
      "cell_type": "code",
      "execution_count": null,
      "metadata": {
        "id": "4aOlXGPCc7sl"
      },
      "outputs": [],
      "source": [
        "transcation_df.head()"
      ]
    },
    {
      "cell_type": "code",
      "execution_count": null,
      "metadata": {
        "id": "8xPhdbXac7sl"
      },
      "outputs": [],
      "source": [
        "transcation_df.columns"
      ]
    },
    {
      "cell_type": "code",
      "execution_count": null,
      "metadata": {
        "id": "Cmjf0Vcuc7sm"
      },
      "outputs": [],
      "source": [
        "profile_df.head()"
      ]
    },
    {
      "cell_type": "code",
      "execution_count": null,
      "metadata": {
        "id": "1Eed5EApc7sm"
      },
      "outputs": [],
      "source": [
        "# Add column `days_since_start`\n",
        "transcation_df = transcation_df.assign(days_since_start = transcation_df['hours_till_action']/24).astype({'days_since_start': 'int64'})\n",
        "print('The minimum and the maximum of days_since_start: {} and {}'.format(transcation_df['days_since_start'].min(), transcation_df['days_since_start'].max()))\n"
      ]
    },
    {
      "cell_type": "code",
      "execution_count": null,
      "metadata": {
        "id": "WzG8s7XEc7sm"
      },
      "outputs": [],
      "source": [
        "plt.hist(transcation_df['days_since_start'], bins = 20)\n",
        "plt.xlabel('Days', fontsize = 14)\n",
        "plt.ylabel('Events Count', fontsize = 14)\n",
        "plt.title('Events Occurrence over time', fontsize = 1)\n",
        "plt.show()"
      ]
    },
    {
      "cell_type": "code",
      "execution_count": null,
      "metadata": {
        "id": "O1Q1__crc7sm"
      },
      "outputs": [],
      "source": [
        "transcation_df[transcation_df['event'] == 'offer received'].groupby('hours_till_action').count()"
      ]
    },
    {
      "cell_type": "code",
      "execution_count": null,
      "metadata": {
        "id": "hNkbGDG5c7sm"
      },
      "outputs": [],
      "source": [
        "transcation_df[transcation_df['event'] == 'offer completed'].groupby('hours_till_action').count()"
      ]
    },
    {
      "cell_type": "code",
      "execution_count": null,
      "metadata": {
        "id": "Wb8WvetCc7sm"
      },
      "outputs": [],
      "source": [
        "# Find how many events occurred in each hour\n",
        "viewed_hourly = transcation_df[transcation_df['event'] == 'offer viewed'].value_counts('hours_till_action').sort_index()\n",
        "completed_hourly = transcation_df[transcation_df['event'] == 'offer completed'].value_counts('hours_till_action').sort_index()\n",
        "transaction_hourly = transcation_df[transcation_df['event'] == 'transaction'].value_counts('hours_till_action').sort_index()\n",
        "print(len(viewed_hourly), len(completed_hourly), len(transaction_hourly))"
      ]
    },
    {
      "cell_type": "code",
      "execution_count": null,
      "metadata": {
        "id": "z2_GuKk9c7sn"
      },
      "outputs": [],
      "source": [
        "# Visualize\n",
        "hours = viewed_hourly.index.values\n",
        "plt.figure(figsize=(14, 5))\n",
        "# axs[0].stem(received_hourly.index.values, received_hourly, linefmt = ':k')\n",
        "plt.plot(hours, viewed_hourly, lw = 3)\n",
        "plt.plot(hours, completed_hourly, lw = 3)\n",
        "plt.plot(hours, transaction_hourly, lw = 3)\n",
        "plt.legend(['Offer Viewed', 'Offer Completed', 'Transactions'], loc = 'upper right', ncol = 1, fontsize = 10)\n",
        "plt.xlabel('Hours', fontsize = 16)\n",
        "plt.ylabel('Events Count', fontsize = 16)\n",
        "plt.title('Events Occurrence Hourly', fontsize = 18)"
      ]
    },
    {
      "cell_type": "code",
      "execution_count": null,
      "metadata": {
        "id": "Ba1xcguSc7sn"
      },
      "outputs": [],
      "source": [
        "# Find how many events occurred from 0 to 20 days\n",
        "viewed_daily = transcation_df[transcation_df['event'] == 'offer viewed'].value_counts('days_since_start').sort_index()\n",
        "completed_daily = transcation_df[transcation_df['event'] == 'offer completed'].value_counts('days_since_start').sort_index()\n",
        "transaction_daily = transcation_df[transcation_df['event'] == 'transaction'].value_counts('days_since_start').sort_index()\n",
        "print(len(viewed_daily), len(completed_daily), len(transaction_daily))"
      ]
    },
    {
      "cell_type": "code",
      "execution_count": null,
      "metadata": {
        "id": "jV7sggPAc7sn"
      },
      "outputs": [],
      "source": [
        "# Visualize\n",
        "days = viewed_daily.index.values\n",
        "plt.figure(figsize=(14, 5))\n",
        "# axs[0].stem(received_hourly.index.values, received_hourly, linefmt = ':k')\n",
        "plt.plot(days, viewed_daily, lw = 3)\n",
        "plt.plot(days, completed_daily, lw = 3)\n",
        "plt.plot(days, transaction_daily, lw = 3)\n",
        "plt.legend(['Offer Viewed', 'Offer Completed', 'Transactions'], loc = 'upper right', ncol = 1, fontsize = 10)\n",
        "plt.xlabel('Days', fontsize = 16)\n",
        "plt.ylabel('Events Count', fontsize = 16)\n",
        "plt.title('Events Occurrence Daily', fontsize = 18)"
      ]
    },
    {
      "cell_type": "code",
      "execution_count": null,
      "metadata": {
        "id": "6P5DL_Gbc7sn"
      },
      "outputs": [],
      "source": [
        "transcation_df.columns"
      ]
    },
    {
      "cell_type": "code",
      "execution_count": null,
      "metadata": {
        "id": "XwiBc2qwc7sn"
      },
      "outputs": [],
      "source": [
        "portfolio_df.columns"
      ]
    },
    {
      "cell_type": "markdown",
      "metadata": {
        "id": "gGfRCoNCc7so"
      },
      "source": [
        "**which Offer were Popular**"
      ]
    },
    {
      "cell_type": "code",
      "execution_count": null,
      "metadata": {
        "id": "VBapjkqQc7so"
      },
      "outputs": [],
      "source": [
        "# Create a df that only contains events about offers\n",
        "df_event = transcation_df[~(transcation_df['event'] == 'transaction')]\n",
        "\n",
        "# Merge df_event with and offers\n",
        "event_offer = pd.merge(df_event,portfolio_df, left_on = 'offer_id', right_on = 'offer_id').drop('offer_id', axis = 1)\n",
        "\n",
        "# Reorder columns of the merged df\n",
        "col_names = ['cust_id', 'event', 'offer_alias', 'reward',\n",
        "       'email','mobile','social','web', 'difficulty', 'Duration', 'offer_type', 'hours_till_action', 'days_since_start']\n",
        "event_offer = event_offer[col_names]\n"
      ]
    },
    {
      "cell_type": "code",
      "execution_count": null,
      "metadata": {
        "id": "PioUI1vWc7so"
      },
      "outputs": [],
      "source": [
        "event_offer.sample(3)"
      ]
    },
    {
      "cell_type": "code",
      "execution_count": null,
      "metadata": {
        "id": "oNlaYPBec7so"
      },
      "outputs": [],
      "source": [
        "# Find out the number of time being received for each offer\n",
        "offer_received = event_offer[event_offer['event'] == 'offer received']\n",
        "p0 = offer_received.value_counts('offer_alias').sort_values(ascending = False)\n",
        "\n",
        "# Find out the number of time being completed for each offer\n",
        "offer_completed = event_offer[event_offer['event'] == 'offer completed']\n",
        "p2 = offer_completed.value_counts('offer_alias').sort_values(ascending = False)"
      ]
    },
    {
      "cell_type": "code",
      "execution_count": null,
      "metadata": {
        "id": "9kJZXuY9c7so"
      },
      "outputs": [],
      "source": [
        "print(p0,p2)"
      ]
    },
    {
      "cell_type": "code",
      "execution_count": null,
      "metadata": {
        "id": "3AHmzTtqc7so"
      },
      "outputs": [],
      "source": [
        "# Overall completion rate of each offer\n",
        "overall_complete_rate = (p2.sort_index() / p0.sort_index()).sort_values(ascending = False)\n",
        "\n",
        "# Visualize\n",
        "plt.figure(figsize=(10,5))\n",
        "plt.bar(x = overall_complete_rate.index.values, height = overall_complete_rate.values)\n",
        "plt.title('Overall Complete Rate %', fontsize = 18)\n",
        "plt.xlabel('Offer', fontsize = 15)\n",
        "plt.ylabel('Percentage', fontsize = 15)\n",
        "plt.yticks(np.arange(0,1.2, 0.2), labels = ['0%', '20%', '40%', '60%', '80%', '100%'])\n",
        "plt.show()"
      ]
    },
    {
      "cell_type": "markdown",
      "metadata": {
        "id": "fsqKxnBwc7sp"
      },
      "source": [
        "In this section we tackle the following:\n",
        "\n",
        "Validate the viewed, completed and recieved offers and create customer transactions and stats.\n",
        "\n",
        "Create RFM Clusters.\n",
        "\n",
        "Handle missing values for age, gender and income.\n",
        "\n",
        "Handle categorical variables.\n",
        "\n",
        "Remove unnecessary columns for the analysis\n",
        "\n",
        "Handling the offers events and the transactions\n",
        "In this section. we need to validate the transactions that occurred as a result of viewing the offer or it is an independent event.\n",
        "\n",
        "As have been discussed before in the data understanding section regarding the offer completion. We need to confirm for each user if the user has viewed and completed the offer within the validity period while handling the issue of missing offer_id with the transaction event and the missing offer complete event with the informational offers.\n",
        "\n",
        "The offers is considered completed:\n",
        "\n",
        "BOGO and discount offers: offer_time_recieved < offer_time_viewed < transaction_time < offer_time_completed < offer_end_time (within the time validaity)\n",
        "\n",
        "Informational offers: offer_time_recieved < offer_time_viewed < transaction_time < offer_end_time\n",
        "\n",
        "After finding the effective offers. we can split the customers into 4 groups:\n",
        "\n",
        "1) people who responded to offers and completed an offer (TR)\n",
        "\n",
        "2) people who viewed an offer but did not complete the offer(TN)\n",
        "\n",
        "3) people who have not recieved an offer or have not viewed the offer and have not made a completed the offer(CN)\n",
        "\n",
        "4) people who have not recieved an offer or have not viewed the offer but have completed the offer(CR)"
      ]
    },
    {
      "cell_type": "code",
      "execution_count": null,
      "metadata": {
        "id": "OPy_kPYWc7sp"
      },
      "outputs": [],
      "source": [
        "# merge the offer with offer portofolio\n",
        "transcript_df = transcation_df.merge(portfolio_df, on ='offer_id', how='left')\n",
        "transcript_df.head()"
      ]
    },
    {
      "cell_type": "code",
      "execution_count": null,
      "metadata": {
        "id": "8CdovS-bc7sp"
      },
      "outputs": [],
      "source": [
        "transcript_df[transcript_df.event !='transaction'].sort_values(['cust_id', 'hours_till_action'])"
      ]
    },
    {
      "cell_type": "code",
      "execution_count": null,
      "metadata": {
        "id": "bsDdynJ_c7sp"
      },
      "outputs": [],
      "source": [
        "transcript_df[(transcript_df.event !='transaction') & (transcript_df.cust_id=='0009655768c64bdeb2e877511632db8f')].sort_values(['cust_id', 'hours_till_action'])"
      ]
    },
    {
      "cell_type": "code",
      "execution_count": null,
      "metadata": {
        "id": "ufay8spvc7sp"
      },
      "outputs": [],
      "source": [
        "all_offers = transcript_df.sort_values(['cust_id', 'hours_till_action'])\n",
        "all_offers.head()"
      ]
    },
    {
      "cell_type": "code",
      "execution_count": null,
      "metadata": {
        "id": "_HOc1YJoc7sp"
      },
      "outputs": [],
      "source": [
        "def split_transcation_on_event(transcript_df):\n",
        "    \"\"\"\n",
        "        This Method splits the transcripts dataframe into 4 dataframes based on the event type\n",
        "        Args:\n",
        "            transcation_df(pd.DataFrame): Dataframe for the transcations\n",
        "        Returns:\n",
        "            transactions(pd.DataFrame): contains the transaction events\n",
        "            viewed_offers(pd.DataFrame): contains the viewed events\n",
        "            recieved_offers(pd.DataFrame): contains the recieved events\n",
        "            completed_offers(pd.DataFrame): contains the completed events\n",
        "    \"\"\"\n",
        "    received = transcript_df[transcript_df.event == 'offer received']\n",
        "    completed = transcript_df[transcript_df.event == 'offer completed']\n",
        "    viewed = transcript_df[transcript_df.event == 'offer viewed']\n",
        "    transactions = transcript_df[transcript_df.event == 'transaction']\n",
        "\n",
        "    return received, completed, viewed, transactions"
      ]
    },
    {
      "cell_type": "code",
      "execution_count": null,
      "metadata": {
        "id": "9QfyKtgEc7sq"
      },
      "outputs": [],
      "source": [
        "received, completed, viewed, transactions = split_transcation_on_event(transcript_df)"
      ]
    },
    {
      "cell_type": "code",
      "execution_count": null,
      "metadata": {
        "id": "6_NHBBZyc7sq"
      },
      "outputs": [],
      "source": [
        "received.head()"
      ]
    },
    {
      "cell_type": "code",
      "execution_count": null,
      "metadata": {
        "id": "GAAekN-Gc7sq"
      },
      "outputs": [],
      "source": [
        "def create_split_offers_df(transcript_df):\n",
        "    \"\"\"\n",
        "\n",
        "        split the offers, add and remove unnecessary columns from dataframes\n",
        "    \"\"\"\n",
        "    received, completed, viewed, transactions = split_transcation_on_event(transcript_df)\n",
        "\n",
        "    received.rename(columns={'hours_till_action':'time_received'}, inplace=True)\n",
        "\n",
        "    received.drop(columns=['event', 'amount','days_since_start'], inplace=True, axis =1)\n",
        "\n",
        "    # add expected finish time to the received data frame\n",
        "    # duration is in days while time is in hours\n",
        "    received['expected_finish'] = received.time_received + received.Duration * 24\n",
        "\n",
        "    drop_cols = ['event', 'difficulty', 'Duration', 'offer_type', 'reward',\\\n",
        "                'email', 'mobile', 'social', 'web', 'amount','days_since_start']\n",
        "    viewed.rename(columns={'hours_till_action':'time_viewed'}, inplace=True)\n",
        "    viewed.drop(columns=drop_cols, inplace=True, axis =1)\n",
        "\n",
        "\n",
        "    drop_cols = ['event', 'difficulty', 'Duration', 'offer_type', 'reward',\\\n",
        "                'email', 'mobile', 'social', 'web', 'amount','days_since_start']\n",
        "    completed.rename(columns={'hours_till_action':'time_completed'}, inplace=True)\n",
        "    completed.drop(columns=drop_cols, inplace=True, axis =1)\n",
        "    drop_cols = ['event', 'difficulty', 'Duration', 'offer_type', 'reward',\\\n",
        "                'email', 'mobile', 'social', 'web','offer_id','days_since_start']\n",
        "    transactions.rename(columns={'hours_till_action':'transaction_time'}, inplace=True)\n",
        "    transactions.drop(columns=drop_cols, inplace=True, axis =1)\n",
        "\n",
        "    return received, completed, viewed, transactions"
      ]
    },
    {
      "cell_type": "code",
      "execution_count": null,
      "metadata": {
        "id": "xXLyyoavc7sq"
      },
      "outputs": [],
      "source": [
        "received, completed, viewed, transactions=create_split_offers_df(transcript_df)\n",
        "received.head()"
      ]
    },
    {
      "cell_type": "code",
      "execution_count": null,
      "metadata": {
        "id": "B642fkKvc7sq"
      },
      "outputs": [],
      "source": [
        "def completed_set(recieved_row, completed):\n",
        "    \"\"\"\n",
        "        This method returns completed and the offer completion time\n",
        "        Args:\n",
        "            recieved_row: dataframe containing received events\n",
        "            completed: dataframe containing completed events\n",
        "        Returns:\n",
        "            completed_flag : 1 if the offer was completed on time\n",
        "            expected_finish: offer completion time\n",
        "\n",
        "    \"\"\"\n",
        "    completed_flag = 0\n",
        "    finish_time_flag = recieved_row.expected_finish\n",
        "\n",
        "    completed_set = completed[(completed.offer_id == recieved_row.offer_id) &\n",
        "                               (completed.time_completed >= recieved_row.time_received) &\n",
        "                               (completed.time_completed <= recieved_row.expected_finish)]\n",
        "    if(len(completed_set)>0):\n",
        "        completed_flag = 1\n",
        "        finish_time_flag = completed_set.time_completed.iloc[0]\n",
        "    return pd.Series([completed_flag, finish_time_flag], index=['completed','finish'])"
      ]
    },
    {
      "cell_type": "code",
      "execution_count": null,
      "metadata": {
        "id": "-cTHbR9zc7sq"
      },
      "outputs": [],
      "source": [
        "def viewed_set(row_received,viewed):\n",
        "    \"\"\"\n",
        "        This method returns viewed, offer view time and success\n",
        "        A transaction is considered successful if it was completed and viewed within the offer duration\n",
        "        if it was viewed before rhe completion time (finish) that mean it was completed before being viewed\n",
        "        Args:\n",
        "            recieved_row: dataframe containing completed events\n",
        "            completed: dataframe containing completed events\n",
        "        Returns:\n",
        "            viewed : 1 if the offer was viewed\n",
        "            view_time: offer view time\n",
        "            success: succesful offer\n",
        "    \"\"\"\n",
        "    viewed_flag = 0\n",
        "    view_time = np.nan\n",
        "    success = 0\n",
        "\n",
        "    viewed_set = viewed[(viewed.offer_id == row_received.offer_id) &\n",
        "                   (viewed.time_viewed >= row_received.time_received) &\n",
        "                   (viewed.time_viewed <= row_received.finish)]\n",
        "    if(len(viewed_set)>0):\n",
        "        viewed_flag = 1\n",
        "        view_time = viewed_set.time_viewed.iloc[0]\n",
        "        success = 1 if row_received.completed else 0\n",
        "\n",
        "    return pd.Series([viewed_flag, success, view_time], index=['viewed','success', 'view_time'])"
      ]
    },
    {
      "cell_type": "code",
      "execution_count": null,
      "metadata": {
        "id": "C8dHlzl0c7sq"
      },
      "outputs": [],
      "source": [
        "def handle_completed_recieved(received, completed):\n",
        "    \"\"\"\n",
        "        This Method takes the recieved offers and the compeleted offers\n",
        "        then returns completed an finish time\n",
        "        Args:\n",
        "            recieved: dataframe containing received events\n",
        "            completed: dataframe containing completed events\n",
        "        Returns:\n",
        "            recieved dataframe updated with the completed and offer finish time\n",
        "    \"\"\"\n",
        "\n",
        "    recieved_updated = received.copy()\n",
        "    recieved_updated[['completed','finish']] = recieved_updated.apply(lambda row: completed_set(row, completed), axis=1)\n",
        "    return recieved_updated"
      ]
    },
    {
      "cell_type": "code",
      "execution_count": null,
      "metadata": {
        "id": "AFJrCpaxc7sr"
      },
      "outputs": [],
      "source": [
        "def handle_viewed_completed(received_modified, viewed):\n",
        "    \"\"\"\n",
        "        This Method takes the updated recieved dataframe and the viewed offers\n",
        "        then returns successful offers, viewed, and offer view time\n",
        "        Args:\n",
        "            recieved: dataframe containing received events\n",
        "            completed: dataframe containing completed events\n",
        "        Returns:\n",
        "            recieved dataframe updated with the completed and offer finish time\n",
        "    \"\"\"\n",
        "    viewed_updated = received_modified.copy()\n",
        "    viewed_updated[['viewed','success', 'view_time']] = viewed_updated.apply(lambda row: viewed_set(row, viewed), axis=1)\n",
        "\n",
        "    return viewed_updated"
      ]
    },
    {
      "cell_type": "code",
      "execution_count": null,
      "metadata": {
        "id": "iE-s-nkpc7sr"
      },
      "outputs": [],
      "source": [
        "def handle_completed_not_viewed(viewed):\n",
        "    \"\"\"\n",
        "        This Method takes the updated recieved dataframe\n",
        "        then returns completed_not viewed offers\n",
        "        (offers that have been completed but are not viewed nor successful)\n",
        "        Args:\n",
        "            recieved: dataframe containing received events\n",
        "            completed: dataframe containing completed events\n",
        "        Returns:\n",
        "            recieved dataframe updated with the completed and offer finish time\n",
        "    \"\"\"\n",
        "    viewed_modified = viewed.copy()\n",
        "    viewed_modified['completed_not_viewed'] = 0\n",
        "    condition = (viewed_modified.completed==1) & (viewed_modified.viewed==0) & (viewed_modified.success==0)\n",
        "    viewed_modified.loc[condition,'completed_not_viewed'] = 1\n",
        "\n",
        "    return viewed_modified\n",
        "\n",
        "def get_successful_informational_transactions(row, transactions):\n",
        "    \"\"\"\n",
        "      This Method takes the updated merged recieved and the viewed for informational offers\n",
        "        then find completed offers from these\n",
        "        Args:\n",
        "            row: merged received and viewed offers\n",
        "            transactions: dataframe containing transactions\n",
        "        Returns:\n",
        "            success if the transaction was compeleted during the promotion period\n",
        "    \"\"\"\n",
        "    transaction_condition = (transactions.transaction_time >=row.time_received) & ((transactions.transaction_time <=row.expected_finish))\n",
        "    success = 1 if len(transactions[transaction_condition] ) > 0 else 0\n",
        "    return pd.Series([success],index =['success'] )\n",
        "\n",
        "def handle_informational_offers(transactions, data):\n",
        "    \"\"\"\n",
        "    This function handles the case of informational offers since it does not have offer completed event\n",
        "    viewed offers and transaction within the\n",
        "    Args:\n",
        "            transactions customer transactions dataframe\n",
        "            received offers dataframe\n",
        "            viewed offers dataframe\n",
        "    Returns:\n",
        "        viewed , success\n",
        "    \"\"\"\n",
        "\n",
        "\n",
        "    # we want informational offers that conform with the following condition\n",
        "    # time_received <= time_viewed <= offer duration\n",
        "    data_modified = data.copy()\n",
        "    validation_condition = (data_modified.viewed == 1)&\\\n",
        "                           (data_modified.offer_type=='informational')\n",
        "\n",
        "    # get the transactions within the condition time\n",
        "    data_modified.loc[validation_condition,'success'] = data_modified[validation_condition].apply(lambda row: get_successful_informational_transactions(row, transactions), axis=1)\n",
        "\n",
        "    data_modified.loc[validation_condition,'completed'] = data_modified.loc[validation_condition,'success']\n",
        "\n",
        "    return data_modified\n",
        "\n",
        "def get_transaction_stats(row, transactions):\n",
        "    \"\"\"\n",
        "        This function gets the summary for each offer\n",
        "        - sums all amount of transactions during the offer time\n",
        "        - get the offer_profit of offer\n",
        "        - non offer transactions sum\n",
        "        - assume for non offer transaction that the amount of profit ==non offer sum\n",
        "    \"\"\"\n",
        "    total_spent_offer = 0\n",
        "    total_spent_non_offer = 0\n",
        "    profit = 0\n",
        "    # non offer profit is the amount spent\n",
        "    # if the offer is success the spent sum transactions from view_time till expected finish\n",
        "    if row.viewed == 1:\n",
        "        transactions_offer = transactions[(transactions.transaction_time>= row.view_time ) & (transactions.transaction_time<= row.expected_finish )]\n",
        "        total_spent_offer =  transactions_offer.amount.sum()\n",
        "        transactions_non_offer = transactions[(transactions.transaction_time < row.view_time ) & (transactions.transaction_time >= row.time_received )]\n",
        "        total_spent_non_offer =  transactions_non_offer.amount.sum()\n",
        "        cost = row.reward if row.completed == 1 else 0\n",
        "        profit = total_spent_offer - cost\n",
        "    else:\n",
        "        transactions_non_offer = transactions[(transactions.transaction_time>= row.time_received ) & (transactions.transaction_time<= row.expected_finish )]\n",
        "        total_spent_non_offer =  transactions_non_offer.amount.sum()\n",
        "        cost = row.reward if row.completed == 1 else 0\n",
        "        profit = total_spent_non_offer - cost\n",
        "\n",
        "    total_spent = total_spent_non_offer + total_spent_offer\n",
        "    return pd.Series([total_spent_offer, total_spent_non_offer, profit, total_spent],index =['total_spent_offer','total_spent_non_offer','profit', 'total_spent'] )\n",
        "\n",
        "def enhance_transaction_df(transactions, offers):\n",
        "    \"\"\"\n",
        "        This function calculates the customer amount spent during offer, profit_offer, non_offer perios\n",
        "\n",
        "    \"\"\"\n",
        "    transaction_updated = offers.copy()\n",
        "    transaction_updated[['total_spent_offer','total_spent_non_offer','profit', 'total_spent']] = transaction_updated.apply(lambda row: get_transaction_stats(row, transactions), axis=1)\n",
        "    return transaction_updated\n",
        "\n",
        "def get_has_profit(row):\n",
        "    \"\"\"\n",
        "        This method returns if this transaction has profit or no\n",
        "    \"\"\"\n",
        "    has_profit = 1 if (( row.viewed == 1 and row.profit > 0) or (row.viewed == 0 and row.total_spent_non_offer > 0)) else 0\n",
        "    return pd.Series([has_profit],index =['has_profit'] )\n",
        "\n",
        "def get_completed_offer(row):\n",
        "    \"\"\"\n",
        "        This method returns if this offer was completed or not\n",
        "    \"\"\"\n",
        "    completed_offer = 1 if (( row.completed == 1 ) or (row.completed_not_viewed == 1)) else 0\n",
        "    return pd.Series([completed_offer],index =['completed_offer'] )\n",
        "\n",
        "def get_user_stats(offers):\n",
        "    \"\"\"\n",
        "        This function gets the summary for each offer\n",
        "        - get the number of bogo completed, num of completed offers, num of compelted discounts\n",
        "        - has_profit if the profit more than 0 for non offer if it is more than 1 then it an offer\n",
        "    \"\"\"\n",
        "    offers_modified = offers.copy()\n",
        "    offers_modified['num_bogo_completed'] = [offers_modified[offers_modified.offer_type=='bogo']['completed'].sum()] * len(offers_modified)\n",
        "    offers_modified['num_discount_completed'] = [offers_modified[offers_modified.offer_type=='discount']['completed'].sum()] * len(offers_modified)\n",
        "    offers_modified['num_informational_completed'] = [offers_modified[offers_modified.offer_type=='informational']['completed'].sum()] * len(offers_modified)\n",
        "    offers_modified['successful_offers'] = [offers_modified['success'].sum()] * len(offers_modified)\n",
        "    offers_modified['non_successful_offers'] = [offers_modified[offers_modified.success == 0]['success'].count()] * len(offers_modified)\n",
        "    offers_modified['completed_offer'] = offers_modified.apply(lambda row: get_completed_offer(row), axis=1)\n",
        "    return offers_modified\n",
        "\n",
        "def get_user_group(offers):\n",
        "    \"\"\"\n",
        "        This functions divides the customers into TR, TN, CN, CR. the group we will be assumed as for\n",
        "        TR: customers who viewed and completed an offer (success = 1)\n",
        "        TN: customers who viewed the offer did not complete it\n",
        "        CR: Customers who compelted the offer without viewing the offer (will assume those who have spent more before viewing the offer in this group)\n",
        "        CN: Customers who did not compelted the offer nor viewed it.\n",
        "    \"\"\"\n",
        "    offers_modified = offers.copy()\n",
        "    TR_CONDITION = (offers_modified.success == 1.0 ) | ((offers_modified.viewed == 1.0) & (offers_modified.completed == 1.0)) & (offers_modified.total_spent_offer>offers_modified.total_spent_non_offer)\n",
        "    TN_CONDITION = ((offers_modified.viewed == 1.0) & (offers_modified.completed == 0))\n",
        "    CR_CONDITION = (offers_modified.completed_not_viewed == 1) | ((offers_modified.viewed == 1.0) & (offers_modified.completed == 1.0) & (offers_modified.total_spent_offer<offers_modified.total_spent_non_offer))\n",
        "    offers_modified['segment'] = ['CN'] * len(offers_modified)\n",
        "    offers_modified.loc[TR_CONDITION,'segment'] =  'TR'\n",
        "    offers_modified.loc[TN_CONDITION,'segment'] =  'TN'\n",
        "    offers_modified.loc[CR_CONDITION,'segment'] =  'CR'\n",
        "    return offers_modified"
      ]
    },
    {
      "cell_type": "code",
      "execution_count": null,
      "metadata": {
        "id": "6viQBh0_c7sr"
      },
      "outputs": [],
      "source": [
        "def offer_analysis(transcript_df):\n",
        "    \"\"\"\n",
        "    This functions looks into offers and create the following columns\n",
        "    viewed_offer, sucessful_offer(recieved,viewed and completed), tried_offer(received, viewed & not completed),\n",
        "\n",
        "    \"\"\"\n",
        "    received, completed, viewed, transactions = create_split_offers_df(transcript_df)\n",
        "    # skip when the user has only transactions:\n",
        "    customer_offers_modified = received\n",
        "    if len(received) > 0:\n",
        "            # handle the recieved completed offers completed, finish\n",
        "            customer_offers_modified = handle_completed_recieved(received, completed)\n",
        "            # handle viewed & completed --> sucess and we get finish time [if success TR group 1 else TN]\n",
        "            customer_offers_modified = handle_viewed_completed(customer_offers_modified, viewed)\n",
        "\n",
        "            # handle informational offers for completed offers\n",
        "            customer_offers_modified = handle_informational_offers(transactions, customer_offers_modified)\n",
        "\n",
        "            # handle not viewed & completed  --> does not need a special handle it is accounted using existening columns\n",
        "            # this might be redundet (viewed & complete but not successful which means not an offer)\n",
        "            customer_offers_modified = handle_completed_not_viewed(customer_offers_modified)\n",
        "\n",
        "            # get the transactions amount and offer id\n",
        "            customer_offers_modified = enhance_transaction_df(transactions, customer_offers_modified)\n",
        "\n",
        "            #[num of offers completed for each offer id, num of offers viewed depending on type, num of all offers completed ]\n",
        "            customer_offers_modified = get_user_stats(customer_offers_modified)\n",
        "\n",
        "            #segment groups\n",
        "            customer_offers_modified = get_user_group(customer_offers_modified)\n",
        "\n",
        "            return customer_offers_modified\n",
        "\n",
        "    else:\n",
        "        return None\n",
        "\n",
        "\n",
        "def get_offer_df(all_offers):\n",
        "    \"\"\"\n",
        "        This function creates the offer dataframe for all customers\n",
        "    \"\"\"\n",
        "#     tqdm.pandas()\n",
        "    return all_offers.groupby('cust_id').apply(offer_analysis).reset_index(drop=True)"
      ]
    },
    {
      "cell_type": "code",
      "execution_count": null,
      "metadata": {
        "id": "o3tU0QzXc7sr"
      },
      "outputs": [],
      "source": [
        "#get all the customer offers dataframe\n",
        "customers_transactions_df = get_offer_df(all_offers)\n",
        "customers_transactions_df.head()"
      ]
    },
    {
      "cell_type": "code",
      "execution_count": null,
      "metadata": {
        "id": "td_zx9G-c7ss"
      },
      "outputs": [],
      "source": [
        "customers_transactions_df.shape"
      ]
    },
    {
      "cell_type": "code",
      "execution_count": null,
      "metadata": {
        "id": "4dW77T4bgW5k"
      },
      "outputs": [],
      "source": [
        "customers_transactions_df.info()"
      ]
    },
    {
      "cell_type": "code",
      "execution_count": null,
      "metadata": {
        "id": "hqBvoqJpg9i1"
      },
      "outputs": [],
      "source": [
        "customers_transactions_df.completed_offer.value_counts()"
      ]
    },
    {
      "cell_type": "code",
      "execution_count": null,
      "metadata": {
        "id": "jT0eWlP7hL0g"
      },
      "outputs": [],
      "source": [
        "customers_transactions_df.segment.value_counts()"
      ]
    },
    {
      "cell_type": "code",
      "execution_count": null,
      "metadata": {
        "id": "nrxpHXwrnKs4"
      },
      "outputs": [],
      "source": [
        "customers_transactions_df.to_csv('customers_transactions.csv', index=False)"
      ]
    },
    {
      "cell_type": "markdown",
      "metadata": {
        "id": "UxxHOwpB0OLX"
      },
      "source": [
        "Create RFM Clusters\n",
        "RFM is an abbreviation for Recency, Frequency, and Monetary Value. It is a method used for customer clustering(segementation) techinque that is used for targeted marketing. This method helps in targeted marketing by examining how recently did the customer purchase(recency), how often they purchase(frequency), and how much they spend(monetary). These attributes will provide customer segements as follows:\n",
        "\n",
        "- Low value: customers who are the less active, not very frequent buyer and generates very low or negative\n",
        "revenue.\n",
        "\n",
        "- Mid value: in between customers\n",
        "\n",
        "- High value: customers who have bought recently, frequntly and spend the most compared to other customers.\n",
        "So the steps to create these clusters are as follows:\n",
        "\n",
        "- Step 1: calculate the recency, frequency and monetary value for each customer.\n",
        "\n",
        "- Step 2: Create cluster for each of the attributes (recency, frequency and monetary).\n",
        "\n",
        "- Step 3: Create the combined RFM clusters.\n",
        "Recency"
      ]
    },
    {
      "cell_type": "code",
      "execution_count": null,
      "metadata": {
        "id": "Tmk6VI7kuVPy"
      },
      "outputs": [],
      "source": [
        "transactions = transcation_df[transcation_df.event == 'transaction']"
      ]
    },
    {
      "cell_type": "code",
      "execution_count": null,
      "metadata": {
        "id": "nSLNRrAc-Yy7"
      },
      "outputs": [],
      "source": [
        "transactions.head()"
      ]
    },
    {
      "cell_type": "code",
      "execution_count": null,
      "metadata": {
        "id": "nK6EZNKY-bsq"
      },
      "outputs": [],
      "source": [
        "transactions.shape"
      ]
    },
    {
      "cell_type": "markdown",
      "metadata": {
        "id": "UYN5ts-MGJkK"
      },
      "source": [
        "##**Recency**"
      ]
    },
    {
      "cell_type": "code",
      "execution_count": null,
      "metadata": {
        "id": "VwwiHn8H-gH3"
      },
      "outputs": [],
      "source": [
        "def calculate_recency(transactions):\n",
        "    '''\n",
        "        This method calculates a customer recency score based on purchase and transaction history\n",
        "        Args:\n",
        "            transaction(pd.DataFrame): dataframe containing the customers transactions\n",
        "        Returns:\n",
        "            Recency dataframe for each customer\n",
        "    '''\n",
        "    #get the last transaction\n",
        "    max_purchase = transactions.groupby('cust_id').hours_till_action.max().reset_index()\n",
        "    max_purchase.columns = ['cust_id','max_purchase_date']\n",
        "\n",
        "    max_purchase['recency'] = (max_purchase['max_purchase_date'].max() - max_purchase['max_purchase_date'])\n",
        "\n",
        "    return max_purchase[['cust_id','recency']]\n",
        "\n",
        "def create_clusters(clusters_num, df, target_field_name, ascending=False):\n",
        "    \"\"\"\n",
        "        This method creates clusters for the given attribute\n",
        "        Args:\n",
        "            df(pd.DataFrame): dataframe\n",
        "            clusters_num: number of clusters\n",
        "            target_field_name: clusters sorting field\n",
        "            ascending: ordering\n",
        "        Returns:\n",
        "            a dataframe with the clusters numbers added to the dataframe\n",
        "    \"\"\"\n",
        "    kmeans = KMeans(n_clusters=4)\n",
        "    kmeans.fit(df[[target_field_name]])\n",
        "    df['{}_cluster'.format(target_field_name)] = kmeans.predict(df[[target_field_name]])\n",
        "    # order the created clustered\n",
        "    df_final = order_clusters('{}_cluster'.format(target_field_name), target_field_name, df, ascending)\n",
        "    return df_final\n",
        "\n",
        "def order_clusters(cluster_field_name, target_field_name, df, ascending=False):\n",
        "    \"\"\"\n",
        "         This method orders the cluster numbers based on field\n",
        "        Args:\n",
        "            transaction(pd.DataFrame): dataframe containing the customers transactions\n",
        "            cluster_field_name : field of interest for segmentation\n",
        "            target_field_name: clusters sorting field\n",
        "        Returns:\n",
        "            Recency dataframe for each customer\n",
        "    \"\"\"\n",
        "    new_cluster_field_name = 'new_' + cluster_field_name\n",
        "    df_new = df.groupby(cluster_field_name)[target_field_name].mean().reset_index()\n",
        "    df_new = df_new.sort_values(by=target_field_name,ascending=ascending).reset_index(drop=True)\n",
        "    df_new['index'] = df_new.index\n",
        "    df_final = pd.merge(df,df_new[[cluster_field_name,'index']], on=cluster_field_name)\n",
        "    df_final = df_final.drop([cluster_field_name],axis=1)\n",
        "    df_final = df_final.rename(columns={\"index\":cluster_field_name})\n",
        "    return df_final"
      ]
    },
    {
      "cell_type": "code",
      "execution_count": null,
      "metadata": {
        "id": "3oxuYND6A77_"
      },
      "outputs": [],
      "source": [
        "customer_recency = calculate_recency(transactions)\n",
        "customer_recency.head()"
      ]
    },
    {
      "cell_type": "code",
      "execution_count": null,
      "metadata": {
        "id": "CaC7bP7kBUzj"
      },
      "outputs": [],
      "source": [
        "customer_recency.shape"
      ]
    },
    {
      "cell_type": "code",
      "execution_count": null,
      "metadata": {
        "id": "blo8rTEQBLVE"
      },
      "outputs": [],
      "source": [
        "customer_recency.recency.hist(figsize=(10,5));\n",
        "plt.title('Customer Recency Distribution');\n",
        "plt.xlabel('Recency Value');\n",
        "plt.ylabel('Customers Count');"
      ]
    },
    {
      "cell_type": "code",
      "execution_count": null,
      "metadata": {
        "id": "LxKiW3jvBk8Q"
      },
      "outputs": [],
      "source": [
        "clusterd_customer_recency = create_clusters(clusters_num=4, target_field_name='recency', df=customer_recency,ascending=False)\n",
        "clusterd_customer_recency.head()"
      ]
    },
    {
      "cell_type": "code",
      "execution_count": null,
      "metadata": {
        "id": "MukLDP0nB4UX"
      },
      "outputs": [],
      "source": [
        "clusterd_customer_recency.groupby('recency_cluster')['recency'].describe()"
      ]
    },
    {
      "cell_type": "markdown",
      "metadata": {
        "id": "wxyEvY25GZUw"
      },
      "source": [
        "##**Frequency**"
      ]
    },
    {
      "cell_type": "code",
      "execution_count": null,
      "metadata": {
        "id": "RiakQsGGFsOX"
      },
      "outputs": [],
      "source": [
        "def calculate_frequency(transactions):\n",
        "    '''\n",
        "        This method calculates a customer frequency score based on the number of transactions\n",
        "        Args:\n",
        "            transaction(pd.DataFrame): dataframe containing the customers transactions\n",
        "        Returns:\n",
        "            Frequency dataframe for each customer\n",
        "    '''\n",
        "    #get the last transaction\n",
        "    tx_frequency = transactions.groupby('cust_id').amount.count().reset_index()\n",
        "    tx_frequency.columns = ['cust_id','frequency']\n",
        "\n",
        "    return tx_frequency"
      ]
    },
    {
      "cell_type": "code",
      "execution_count": null,
      "metadata": {
        "id": "lndWj9gvGYEa"
      },
      "outputs": [],
      "source": [
        "customer_fq = calculate_frequency(transactions)\n",
        "customer_fq.head()"
      ]
    },
    {
      "cell_type": "code",
      "execution_count": null,
      "metadata": {
        "id": "mNd4-ATsGj2a"
      },
      "outputs": [],
      "source": [
        "# determine the frequency for a particular cust_id\n",
        "customer_fq.loc[customer_fq['cust_id'] == '00116118485d4dfda04fdbaba9a87b5c']"
      ]
    },
    {
      "cell_type": "code",
      "execution_count": null,
      "metadata": {
        "id": "eDn57BjjHSw8"
      },
      "outputs": [],
      "source": [
        "customer_fq.frequency.hist(figsize=(10,5))\n",
        "plt.title('Customer Frequency Distribution');\n",
        "plt.xlabel('Frequency Value');\n",
        "plt.ylabel('Customers Count');"
      ]
    },
    {
      "cell_type": "code",
      "execution_count": null,
      "metadata": {
        "id": "ZhSoncSbHqh6"
      },
      "outputs": [],
      "source": [
        "# create ordered clusters of the customer frequency\n",
        "clusterd_customer_fq = create_clusters(clusters_num=4, target_field_name='frequency', df=customer_fq,ascending=True)\n",
        "clusterd_customer_fq.head()"
      ]
    },
    {
      "cell_type": "code",
      "execution_count": null,
      "metadata": {
        "id": "JV3KnnWtH-Mx"
      },
      "outputs": [],
      "source": [
        "# determine the frequency for a particular cust_id\n",
        "clusterd_customer_fq.loc[clusterd_customer_fq['cust_id'] == '00116118485d4dfda04fdbaba9a87b5c']"
      ]
    },
    {
      "cell_type": "code",
      "execution_count": null,
      "metadata": {
        "id": "udM1egChIKmB"
      },
      "outputs": [],
      "source": [
        "clusterd_customer_fq.frequency_cluster.value_counts()"
      ]
    },
    {
      "cell_type": "markdown",
      "metadata": {
        "id": "KoEKJbcFInk6"
      },
      "source": [
        "##**Monetary**"
      ]
    },
    {
      "cell_type": "code",
      "execution_count": null,
      "metadata": {
        "id": "JG_B6utkIR2c"
      },
      "outputs": [],
      "source": [
        "def calculate_revenue(transactions):\n",
        "    '''\n",
        "        This method calculates a customer revenue score based on the amount of transactions\n",
        "        Args:\n",
        "            transaction(pd.DataFrame): dataframe containing the customers transactions\n",
        "        Returns:\n",
        "            Revenue dataframe for each customer\n",
        "    '''\n",
        "    #get the last transaction\n",
        "    tx_revenue = transactions.groupby('cust_id').amount.sum().reset_index()\n",
        "    tx_revenue.columns = ['cust_id','revenue']\n",
        "\n",
        "    return tx_revenue"
      ]
    },
    {
      "cell_type": "code",
      "execution_count": null,
      "metadata": {
        "id": "KzzL6xvVIyUD"
      },
      "outputs": [],
      "source": [
        "customer_revenue=calculate_revenue(transactions)\n",
        "customer_revenue.head()"
      ]
    },
    {
      "cell_type": "code",
      "execution_count": null,
      "metadata": {
        "id": "eHDtWLf-I6Fz"
      },
      "outputs": [],
      "source": [
        "customer_revenue.loc[customer_revenue['cust_id']=='0009655768c64bdeb2e877511632db8f']"
      ]
    },
    {
      "cell_type": "code",
      "execution_count": null,
      "metadata": {
        "id": "fm3F_me8JJWG"
      },
      "outputs": [],
      "source": [
        "# create ordered clusters of the customer frequency\n",
        "clusterd_customer_revenue = create_clusters(clusters_num=4, target_field_name='revenue', df=customer_revenue,ascending=True)\n",
        "clusterd_customer_revenue.head()"
      ]
    },
    {
      "cell_type": "code",
      "execution_count": null,
      "metadata": {
        "id": "csVcnuwDJXqX"
      },
      "outputs": [],
      "source": [
        "# determine the cluster for a particular customer_id\n",
        "clusterd_customer_revenue.loc[clusterd_customer_revenue['cust_id']=='0009655768c64bdeb2e877511632db8f']"
      ]
    },
    {
      "cell_type": "code",
      "execution_count": null,
      "metadata": {
        "id": "PgXwF0kdJhI0"
      },
      "outputs": [],
      "source": [
        "# merge the dataframes\n",
        "combined_rfm = pd.merge(clusterd_customer_revenue, clusterd_customer_recency, on='cust_id')\n",
        "combined_rfm.head()"
      ]
    },
    {
      "cell_type": "code",
      "execution_count": null,
      "metadata": {
        "id": "Sz6z7CppJ0ZZ"
      },
      "outputs": [],
      "source": [
        "combined_rfm=pd.merge(combined_rfm,clusterd_customer_fq,on='cust_id')\n",
        "combined_rfm.head()"
      ]
    },
    {
      "cell_type": "code",
      "execution_count": null,
      "metadata": {
        "id": "R-A2xtiqLDbA"
      },
      "outputs": [],
      "source": [
        "combined_rfm['overall_score']=combined_rfm['recency_cluster']+combined_rfm['frequency_cluster']+combined_rfm['revenue_cluster']"
      ]
    },
    {
      "cell_type": "code",
      "execution_count": null,
      "metadata": {
        "id": "--DS0ZQ_L3lB"
      },
      "outputs": [],
      "source": [
        "combined_rfm.head()"
      ]
    },
    {
      "cell_type": "code",
      "execution_count": null,
      "metadata": {
        "id": "zZ4lDeNPL6Bg"
      },
      "outputs": [],
      "source": [
        "## Get the overall score for the customer_segment\n",
        "\n",
        "combined_rfm.groupby('overall_score')['recency','frequency','revenue'].mean()"
      ]
    },
    {
      "cell_type": "code",
      "execution_count": null,
      "metadata": {
        "id": "SF16KN90MG3f"
      },
      "outputs": [],
      "source": [
        "# create customer_segments\n",
        "\n",
        "combined_rfm['RFM_segement'] = pd.qcut(combined_rfm['overall_score'], 3, labels=['Low-Value','Mid-Value', 'High-Value' ])\n",
        "combined_rfm.head()"
      ]
    },
    {
      "cell_type": "code",
      "execution_count": null,
      "metadata": {
        "id": "stlRNmK_Mi_u"
      },
      "outputs": [],
      "source": [
        "#check a particular instances of cust_id\n",
        "\n",
        "combined_rfm.loc[combined_rfm['cust_id']=='0009655768c64bdeb2e877511632db8f']"
      ]
    },
    {
      "cell_type": "code",
      "execution_count": null,
      "metadata": {
        "id": "6Rf45tHINfyj"
      },
      "outputs": [],
      "source": [
        "combined_rfm.shape\n"
      ]
    },
    {
      "cell_type": "code",
      "execution_count": null,
      "metadata": {
        "id": "9C4e7_SlMt14"
      },
      "outputs": [],
      "source": [
        "combined_rfm.info()"
      ]
    },
    {
      "cell_type": "code",
      "execution_count": null,
      "metadata": {
        "id": "oNCoS2x4NEGJ"
      },
      "outputs": [],
      "source": [
        "combined_rfm.isna().sum()"
      ]
    },
    {
      "cell_type": "code",
      "execution_count": null,
      "metadata": {
        "id": "-m8WBUTuNJoT"
      },
      "outputs": [],
      "source": [
        "# final transaction dataframe\n",
        "final_transactions_df = pd.merge(customers_transactions_df, combined_rfm, on='cust_id', how='inner')\n",
        "final_transactions_df.head()"
      ]
    },
    {
      "cell_type": "code",
      "execution_count": null,
      "metadata": {
        "id": "_3NMwl7FNYhx"
      },
      "outputs": [],
      "source": [
        "final_transactions_df.shape"
      ]
    },
    {
      "cell_type": "code",
      "execution_count": null,
      "metadata": {
        "id": "gw2eE0NNNcI3"
      },
      "outputs": [],
      "source": [
        "final_transactions_df.info()"
      ]
    },
    {
      "cell_type": "code",
      "execution_count": null,
      "metadata": {
        "id": "4S4EhAuSNnFy"
      },
      "outputs": [],
      "source": [
        "# Checking is there any null value\n",
        "final_transactions_df.isna().sum()"
      ]
    },
    {
      "cell_type": "code",
      "execution_count": null,
      "metadata": {
        "id": "xvhD8piYNsem"
      },
      "outputs": [],
      "source": [
        "profile_df.info()"
      ]
    },
    {
      "cell_type": "code",
      "execution_count": null,
      "metadata": {
        "id": "SpBxgeQnO39A"
      },
      "outputs": [],
      "source": [
        "profile_df.isna().sum()"
      ]
    },
    {
      "cell_type": "code",
      "execution_count": null,
      "metadata": {
        "id": "Cmub64PVPvLl"
      },
      "outputs": [],
      "source": [
        "# combine the cleaned profile with the final transactions data frame\n",
        "\n",
        "offers_tx_profile_merged = final_transactions_df.merge(profile_df,on='cust_id', how='left')\n",
        "offers_tx_profile_merged.tail(10)"
      ]
    },
    {
      "cell_type": "code",
      "execution_count": null,
      "metadata": {
        "id": "L8Ks6eSrTjB7"
      },
      "outputs": [],
      "source": [
        "offers_tx_profile_merged.info()"
      ]
    },
    {
      "cell_type": "code",
      "execution_count": null,
      "metadata": {
        "id": "o-6rnwr3Vf7M"
      },
      "outputs": [],
      "source": [
        "# fill nan with 0 for viewtime column\n",
        "offers_tx_profile_merged['view_time'].fillna(0, inplace=True)\n",
        "offers_tx_profile_merged.info()"
      ]
    },
    {
      "cell_type": "code",
      "execution_count": null,
      "metadata": {
        "id": "9h589Z3PWXZ9"
      },
      "outputs": [],
      "source": [
        "offers_tx_profile_merged.gender.value_counts()"
      ]
    },
    {
      "cell_type": "code",
      "execution_count": null,
      "metadata": {
        "id": "a-uAxsnyV6Ps"
      },
      "outputs": [],
      "source": [
        "offers_tx_profile_merged.head()"
      ]
    },
    {
      "cell_type": "code",
      "execution_count": null,
      "metadata": {
        "id": "ec-BspUMYLe-"
      },
      "outputs": [],
      "source": [
        "offers_tx_profile_merged.to_csv('analyzed_tx_offers_RFM_profile.csv', index = None, header=True)"
      ]
    },
    {
      "cell_type": "code",
      "execution_count": null,
      "metadata": {
        "id": "lFTcePl3YmBP"
      },
      "outputs": [],
      "source": [
        "offers_tx_profile_merged.loc[offers_tx_profile_merged['cust_id']=='0610b486422d4921ae7d2bf64640c50b']"
      ]
    },
    {
      "cell_type": "code",
      "execution_count": null,
      "metadata": {
        "id": "MtWZzJrBweev"
      },
      "outputs": [],
      "source": [
        "offers_tx_profile_merged=offers_tx_profile_merged.dropna()"
      ]
    },
    {
      "cell_type": "code",
      "execution_count": null,
      "metadata": {
        "id": "u-lOX-G-1lBC"
      },
      "outputs": [],
      "source": [
        "offers_tx_profile_merged.reset_index(drop=True)"
      ]
    },
    {
      "cell_type": "code",
      "execution_count": null,
      "metadata": {
        "id": "EmO9kX-o1nfj"
      },
      "outputs": [],
      "source": [
        "categorical_columns_to_handle = ['gender', 'RFM_segement']\n",
        "offers_tx_profile_merged_categorical = pd.get_dummies(data= offers_tx_profile_merged,columns=categorical_columns_to_handle)\n",
        "offers_tx_profile_merged_categorical.head()"
      ]
    },
    {
      "cell_type": "code",
      "execution_count": null,
      "metadata": {
        "id": "C5rXI4GW2jeZ"
      },
      "outputs": [],
      "source": [
        "# map the segment as follows: TR --> 0, CR --> 1, TN -->3, CN-->3\n",
        "segment_dict = {'TR':0, 'CR':1, 'TN':2, 'CN':3}\n",
        "offers_tx_profile_merged_categorical.segment.replace(segment_dict, inplace=True)\n",
        "offers_tx_profile_merged_categorical.head()"
      ]
    },
    {
      "cell_type": "code",
      "execution_count": null,
      "metadata": {
        "id": "CEgNNrSO2taz"
      },
      "outputs": [],
      "source": [
        "offers_tx_profile_merged_categorical.info()"
      ]
    },
    {
      "cell_type": "code",
      "execution_count": null,
      "metadata": {
        "id": "goDQpwr03TzL"
      },
      "outputs": [],
      "source": [
        "exploration_df=offers_tx_profile_merged.copy()"
      ]
    },
    {
      "cell_type": "code",
      "execution_count": null,
      "metadata": {
        "id": "aSA7yW0Q3enN"
      },
      "outputs": [],
      "source": [
        "exploration_df.info()"
      ]
    },
    {
      "cell_type": "code",
      "execution_count": null,
      "metadata": {
        "id": "4EOQkZ1O3i5Z"
      },
      "outputs": [],
      "source": [
        "exploration_df.gender.value_counts()"
      ]
    },
    {
      "cell_type": "code",
      "execution_count": null,
      "metadata": {
        "id": "6PAdKYxW4C96"
      },
      "outputs": [],
      "source": [
        "exploration_df.RFM_segement.value_counts()"
      ]
    },
    {
      "cell_type": "markdown",
      "metadata": {
        "id": "BtHxnXZh7LPF"
      },
      "source": [
        "##**RFM Distribution**"
      ]
    },
    {
      "cell_type": "code",
      "execution_count": null,
      "metadata": {
        "id": "HDkFVdx54X3F"
      },
      "outputs": [],
      "source": [
        "\n",
        "data=((exploration_df.RFM_segement.value_counts()/exploration_df.RFM_segement.value_counts().sum())* 100).round(1)\n",
        "\n",
        "plt.figure(figsize = (10, 8))\n",
        "yticklabels = [str(y) + '%' for y in np.arange(0,50,10)]\n",
        "plt.yticks(np.arange(0,50,10), labels = yticklabels)\n",
        "plt.xticks(rotation = 45, fontsize = 12)\n",
        "plt.xlabel('RFM Groups', fontsize = 15)\n",
        "plt.ylabel('Percentage %', fontsize = 15)\n",
        "plt.title('RFM Groups Distribution', fontsize = 18)\n",
        "\n",
        "bar_plot = plt.bar(x = data.index.values, height = data)\n",
        "for i,bar in enumerate(bar_plot.patches):\n",
        "    x, y = bar.get_xy()\n",
        "    plt.text(x+bar.get_width()/2, y+bar.get_height()+0.2,\n",
        "            str(data[i]) + '%',\n",
        "            ha = 'center', weight = 'bold')\n",
        "\n",
        "plt.tight_layout()\n",
        "plt.show()"
      ]
    },
    {
      "cell_type": "markdown",
      "metadata": {
        "id": "NEAWs3xl721F"
      },
      "source": [
        "##**Customer groups distribution**"
      ]
    },
    {
      "cell_type": "code",
      "execution_count": null,
      "metadata": {
        "id": "rOr0Xt326Avj"
      },
      "outputs": [],
      "source": [
        "\n",
        "data=((exploration_df.segment.value_counts()/exploration_df.segment.value_counts().sum())* 100).round(1)\n",
        "\n",
        "plt.figure(figsize = (10, 8))\n",
        "yticklabels = [str(y) + '%' for y in np.arange(0,50,10)]\n",
        "plt.yticks(np.arange(0,50,10), labels = yticklabels)\n",
        "plt.xticks(rotation = 45, fontsize = 12)\n",
        "plt.xlabel('Customer Groups', fontsize = 15)\n",
        "plt.ylabel('Percentage %', fontsize = 15)\n",
        "plt.title('Segment Distribution', fontsize = 18)\n",
        "\n",
        "bar_plot = plt.bar(x = data.index.values, height = data)\n",
        "for i,bar in enumerate(bar_plot.patches):\n",
        "    x, y = bar.get_xy()\n",
        "    plt.text(x+bar.get_width()/2, y+bar.get_height()+0.2,\n",
        "            str(data[i]) + '%',\n",
        "            ha = 'center', weight = 'bold')\n",
        "\n",
        "plt.tight_layout()\n",
        "plt.show()"
      ]
    },
    {
      "cell_type": "markdown",
      "metadata": {
        "id": "XN1xI0B4NZ0-"
      },
      "source": [
        "##**Summary**\n",
        "\n",
        "- 40% of the customers are in the Treatment response group\n",
        "- CR had 14.9% of the customers"
      ]
    },
    {
      "cell_type": "code",
      "execution_count": null,
      "metadata": {
        "id": "VnY0BaeyEDA8"
      },
      "outputs": [],
      "source": [
        "exploration_df.offer_alias.value_counts()"
      ]
    },
    {
      "cell_type": "markdown",
      "metadata": {
        "id": "lxrLFQrUNo26"
      },
      "source": [
        "##**Demographics of RFM segments such as:**\n",
        "- Age groups\n",
        "- Income groups\n",
        "- Gender"
      ]
    },
    {
      "cell_type": "code",
      "execution_count": null,
      "metadata": {
        "id": "Nusg66B1_KFw"
      },
      "outputs": [],
      "source": [
        "plt.figure(figsize = [10, 5])\n",
        "base_color = sns.color_palette()[0]\n",
        "sns.boxplot(data = exploration_df, y = 'age', x = 'RFM_segement', color = base_color);\n",
        "plt.title('RFM segment versus customer age ');\n",
        "exploration_df.groupby('RFM_segement');"
      ]
    },
    {
      "cell_type": "markdown",
      "metadata": {
        "id": "vHzfe2IYN_Bv"
      },
      "source": [
        "**the age is not a factor in the RFM segment it seems. though the RFM segment with low value seem to contain the smallest age group from 48 - 64 (quratile range)**"
      ]
    },
    {
      "cell_type": "markdown",
      "metadata": {
        "id": "39SsHov8OO3Y"
      },
      "source": [
        "##**Purchasing behavior in RFM clusters:**\n",
        "- Total Spent\n",
        "- Profit\n",
        "- Number of completed offers\n",
        "- Segment (TR, TN, CR, CN)"
      ]
    },
    {
      "cell_type": "code",
      "execution_count": null,
      "metadata": {
        "id": "rwl5C9wtDABi"
      },
      "outputs": [],
      "source": [
        "sns.boxplot(data = exploration_df, y = 'income', x = 'RFM_segement', color = base_color);"
      ]
    },
    {
      "cell_type": "code",
      "execution_count": null,
      "metadata": {
        "id": "N7B_ua7lIwfc"
      },
      "outputs": [],
      "source": [
        "# total spent vs RFM segment\n",
        "sns.boxplot(data = exploration_df, y = 'total_spent', x = 'RFM_segement', color = base_color);\n",
        "plt.title('Total amount spent vs RFM segment');\n",
        "plt.ylim((-10,80));"
      ]
    },
    {
      "cell_type": "code",
      "execution_count": null,
      "metadata": {
        "id": "7xow0R-4LgWE"
      },
      "outputs": [],
      "source": [
        "sns.boxplot(data = exploration_df, y = 'profit', x = 'RFM_segement', color = base_color);\n",
        "plt.title('profit vs RFM segment');\n",
        "plt.ylim((-10,80));"
      ]
    },
    {
      "cell_type": "code",
      "execution_count": null,
      "metadata": {
        "id": "wY_r6Vf9OvOL"
      },
      "outputs": [],
      "source": [
        "# Customer segments vs RFM clusters\n",
        "exploration_df.groupby(['RFM_segement', 'segment']).size() /exploration_df.groupby(['RFM_segement']).size()"
      ]
    },
    {
      "cell_type": "code",
      "execution_count": null,
      "metadata": {
        "id": "pBLkg6CuOyzV"
      },
      "outputs": [],
      "source": [
        "#  Segment (TR, TN, CR, CN) vs RFM\n",
        "fig = plt.figure(figsize=(14,14))\n",
        "fig.subplots_adjust(hspace=.3, wspace = 0.3)\n",
        "\n",
        "plt.subplot(2, 2, 1)\n",
        "ct_counts = exploration_df.groupby(['RFM_segement', 'segment']).size()\n",
        "ct_counts = ct_counts.reset_index(name = 'count')\n",
        "ct_counts = ct_counts.pivot(index = 'segment', columns = 'RFM_segement', values = 'count')\n",
        "sns.heatmap(ct_counts, annot = True, fmt = 'g');\n",
        "\n",
        "plt.subplot(2, 2, 2)\n",
        "ct_counts = exploration_df.groupby(['RFM_segement', 'segment']).size()/exploration_df.groupby([ 'RFM_segement']).size()\n",
        "ct_counts = ct_counts.reset_index(name = 'count')\n",
        "ct_counts = ct_counts.pivot(index = 'segment', columns = 'RFM_segement', values = 'count')\n",
        "sns.heatmap(ct_counts, annot = True, fmt = 'g');\n",
        "\n",
        "plt.subplot(2, 2, 3)\n",
        "ct_counts = exploration_df.groupby(['RFM_segement', 'segment']).size()/exploration_df.groupby([ 'segment']).size()\n",
        "ct_counts = ct_counts.reset_index(name = 'count')\n",
        "ct_counts = ct_counts.pivot(index = 'segment', columns = 'RFM_segement', values = 'count')\n",
        "sns.heatmap(ct_counts, annot = True, fmt = 'g');\n",
        "\n",
        "fig.suptitle('Customer Group vs RFM segment');"
      ]
    },
    {
      "cell_type": "markdown",
      "metadata": {
        "id": "_QhqsN1NO1Ch"
      },
      "source": [
        "In terms of the segments the RFM clusters are distributed as follows:\n",
        "\n",
        "- CN comprise of 56% of the Low value RFM clusters segments, followed by Mid value RFM clusters.\n",
        "- CR mostly in the Mid Value segment with 38.5% followed by 33.7% in the high value RFM cluster.\n",
        "- TN comprise of 62% low value RFM clusters. and below 10% from the high value RFM cluster.\n",
        "- TR: highest portion comes from the mid value RFM cluster with 40% followed by high value with 35.6%\n",
        "\n",
        "Compring with respect to the RFM cluster:\n",
        "\n",
        "-  Low value have 42% in the TN segment and similar percentages for CN and TR.\n",
        "- Mid Value RFM cluster comprise of 40% for the TR segment which is double the other RFM clusters.\n",
        "- High Value comprise of 60% of TR then 44% of Mid value Customers.\n",
        "\n",
        "The above observations make sense since the high-value customers are the ones who are most frequent, spent the most and had the most recent interactions. This indicates that high and mid-value customers are responsive to targeted marketing while it did not make a difference in the Low values.\n",
        "\n",
        "Next, I will compared the number of compelted offers across different segments."
      ]
    },
    {
      "cell_type": "code",
      "execution_count": null,
      "metadata": {
        "id": "gxnMYoL7LlOg"
      },
      "outputs": [],
      "source": [
        "exploration_df['num_completed_offers'] = exploration_df['num_informational_completed'] + exploration_df['num_discount_completed'] + exploration_df['num_bogo_completed']"
      ]
    },
    {
      "cell_type": "code",
      "execution_count": null,
      "metadata": {
        "id": "_fn2T2AkLzEd"
      },
      "outputs": [],
      "source": [
        "fig = plt.figure(figsize=(10,10))\n",
        "fig.subplots_adjust(hspace=.3, wspace = 0.3)\n",
        "\n",
        "plt.subplot(2, 2, 1)\n",
        "sns.boxplot(data = exploration_df, y = 'num_bogo_completed', x = 'RFM_segement', color = base_color);\n",
        "plt.title('num of completed BOGO offers vs RFM segment');\n",
        "\n",
        "plt.subplot(2, 2, 2)\n",
        "sns.boxplot(data = exploration_df, y = 'num_discount_completed', x = 'RFM_segement', color = base_color);\n",
        "plt.title('num of completed Discount offers vs RFM segment');\n",
        "\n",
        "plt.subplot(2, 2, 3)\n",
        "sns.boxplot(data = exploration_df, y = 'num_informational_completed', x = 'RFM_segement', color = base_color);\n",
        "plt.title('num of completed informational offers vs RFM segment');\n",
        "\n",
        "\n",
        "plt.subplot(2, 2, 4)\n",
        "sns.boxplot(data = exploration_df, y = 'num_completed_offers', x = 'RFM_segement', color = base_color);\n",
        "plt.title('Num of completed_offers vs RFM segment');\n",
        "\n",
        "fig.suptitle('Number of completed offers vs RFM segment');"
      ]
    },
    {
      "cell_type": "markdown",
      "metadata": {
        "id": "Ytnsj_kiO9LM"
      },
      "source": [
        "**As expected the number of completed offers for the High value Cluster is the highest compared followed by mid value and RFM clusters.**"
      ]
    },
    {
      "cell_type": "markdown",
      "metadata": {
        "id": "PwJdt99PL6Cl"
      },
      "source": [
        "##**Customer group vs demographic**"
      ]
    },
    {
      "cell_type": "code",
      "execution_count": null,
      "metadata": {
        "id": "__DEq7NRL2Nf"
      },
      "outputs": [],
      "source": [
        "# income vs segment\n",
        "sns.boxplot(data = exploration_df, y = 'income', x = 'segment', color = base_color);\n",
        "plt.title('income vs customer segment');"
      ]
    },
    {
      "cell_type": "code",
      "execution_count": null,
      "metadata": {
        "id": "Qcx5dq_aMBOZ"
      },
      "outputs": [],
      "source": [
        "# total spent vs customer segment\n",
        "sns.boxplot(data = exploration_df, y = 'total_spent', x = 'segment', color = base_color);\n",
        "plt.title('income vs customer segment');\n",
        "plt.ylim((-10,80));"
      ]
    },
    {
      "cell_type": "markdown",
      "metadata": {
        "id": "It6z-1I-PKRQ"
      },
      "source": [
        "**The difference in the amount of money spent between the treatment and control groups is significant. The highest spent value amount of value spent in TN and CN groups are less than the lower limit of the TR and CR groups**"
      ]
    },
    {
      "cell_type": "code",
      "execution_count": null,
      "metadata": {
        "id": "ZxWCvxrhMD4K"
      },
      "outputs": [],
      "source": [
        "ct_counts = exploration_df.groupby(['gender', 'segment']).size()/exploration_df.groupby([ 'gender']).size()\n",
        "ct_counts = ct_counts.reset_index(name = 'count')\n",
        "ct_counts = ct_counts.pivot(index = 'segment', columns = 'gender', values = 'count')\n",
        "sns.heatmap(ct_counts, annot = True, fmt = 'g');"
      ]
    },
    {
      "cell_type": "markdown",
      "metadata": {
        "id": "ezz74DsBRDas"
      },
      "source": [
        "**We Can observe that the highest percentage of Others and females is in the TR group. the Males have equal percentages of TN groups.**"
      ]
    },
    {
      "cell_type": "code",
      "execution_count": null,
      "metadata": {
        "id": "dP9ziZnSMOvV"
      },
      "outputs": [],
      "source": [
        "\n",
        "# total spent vs RFM vs cluster -->\n",
        "fig = plt.figure(figsize=(10,10));\n",
        "g = sns.FacetGrid(data = exploration_df, col='segment', col_wrap=2, height =4);\n",
        "(g.map(sns.boxplot, 'RFM_segement', 'total_spent')).fig.subplots_adjust(wspace=.35, hspace=.35);\n",
        "plt.ylim((-10,80));\n",
        "plt.subplots_adjust(top=0.9);\n",
        "g.fig.suptitle('Total spent vs Segment vs RFM segment', fontsize = 16);"
      ]
    },
    {
      "cell_type": "markdown",
      "metadata": {
        "id": "KPr6NDnJPuBN"
      },
      "source": [
        "**We can conclude that the TR and CR have the highest amount spent with the high value of RFM cluster having the highest amount spent. and they have similar range of money spent and this can be observed in the CN and TN groups**"
      ]
    },
    {
      "cell_type": "code",
      "execution_count": null,
      "metadata": {
        "id": "u38hdCQ0MTnR"
      },
      "outputs": [],
      "source": [
        "# Age vs RFM vs cluster -->\n",
        "fig = plt.figure(figsize=(10,10));\n",
        "g = sns.FacetGrid(data = exploration_df, col='segment', col_wrap=2, height =4);\n",
        "(g.map(sns.boxplot, 'RFM_segement', 'age')).fig.subplots_adjust(wspace=.35, hspace=.35);\n",
        "plt.subplots_adjust(top=0.9);\n",
        "g.fig.suptitle('Age vs Segment vs RFM segment', fontsize = 16);"
      ]
    },
    {
      "cell_type": "markdown",
      "metadata": {
        "id": "hxqDHIUdPz6C"
      },
      "source": [
        "**The age have similar trends across different customer segments. with the high valued RFM cluster having a wider range of age covered and the response groups both have higher age.**"
      ]
    },
    {
      "cell_type": "code",
      "execution_count": null,
      "metadata": {
        "id": "FYyTNJyOMZRE"
      },
      "outputs": [],
      "source": [
        "# income vs RFM vs cluster -->\n",
        "fig = plt.figure(figsize=(10,10));\n",
        "g = sns.FacetGrid(data = exploration_df, col='segment', col_wrap=2, height =4);\n",
        "(g.map(sns.boxplot, 'RFM_segement', 'income')).fig.subplots_adjust(wspace=.35, hspace=.35);\n",
        "plt.subplots_adjust(top=0.9);\n",
        "g.fig.suptitle('Income vs Segment vs RFM segment', fontsize = 16);"
      ]
    },
    {
      "cell_type": "markdown",
      "metadata": {
        "id": "FADyX1W8P4oJ"
      },
      "source": [
        "- The highest income can be found with the customers from the response groups such as TR and CR group.\n",
        "- The highest income ranges is for CR customer group\n",
        "lowest income range is for CN group"
      ]
    },
    {
      "cell_type": "code",
      "execution_count": null,
      "metadata": {
        "id": "lKZZIa0iM1kl"
      },
      "outputs": [],
      "source": []
    }
  ],
  "metadata": {
    "colab": {
      "provenance": [],
      "include_colab_link": true
    },
    "kernelspec": {
      "display_name": "Python 3 (ipykernel)",
      "language": "python",
      "name": "python3"
    },
    "language_info": {
      "codemirror_mode": {
        "name": "ipython",
        "version": 3
      },
      "file_extension": ".py",
      "mimetype": "text/x-python",
      "name": "python",
      "nbconvert_exporter": "python",
      "pygments_lexer": "ipython3",
      "version": "3.9.13"
    }
  },
  "nbformat": 4,
  "nbformat_minor": 0
}